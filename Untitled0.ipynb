{
  "nbformat": 4,
  "nbformat_minor": 0,
  "metadata": {
    "colab": {
      "name": "Untitled0.ipynb",
      "provenance": [],
      "authorship_tag": "ABX9TyOmVfh5lJaJyJGzA7bO6gDZ",
      "include_colab_link": true
    },
    "kernelspec": {
      "name": "python3",
      "display_name": "Python 3"
    },
    "language_info": {
      "name": "python"
    }
  },
  "cells": [
    {
      "cell_type": "markdown",
      "metadata": {
        "id": "view-in-github",
        "colab_type": "text"
      },
      "source": [
        "<a href=\"https://colab.research.google.com/github/preeti09011999/BankApp---Android-Application/blob/master/Untitled0.ipynb\" target=\"_parent\"><img src=\"https://colab.research.google.com/assets/colab-badge.svg\" alt=\"Open In Colab\"/></a>"
      ]
    },
    {
      "cell_type": "code",
      "metadata": {
        "id": "Hh_pIyJxB4Ly"
      },
      "source": [
        "import pandas as pd\n",
        "import numpy as np"
      ],
      "execution_count": 1,
      "outputs": []
    },
    {
      "cell_type": "code",
      "metadata": {
        "id": "ca05ZhOIKG-K"
      },
      "source": [
        "labels = ['w','x','y','z']\n",
        "list = [10,20,30,40]\n",
        "array = np.array([10,20,30,40])\n",
        "dict = {'w':10,'x':20,'y':30,'z':40}"
      ],
      "execution_count": 2,
      "outputs": []
    },
    {
      "cell_type": "code",
      "metadata": {
        "colab": {
          "base_uri": "https://localhost:8080/"
        },
        "id": "-EjbMhY_KKkz",
        "outputId": "4f456efb-73ec-4c0d-d9ce-614f2f117d13"
      },
      "source": [
        "pd.Series(list)"
      ],
      "execution_count": 3,
      "outputs": [
        {
          "output_type": "execute_result",
          "data": {
            "text/plain": [
              "0    10\n",
              "1    20\n",
              "2    30\n",
              "3    40\n",
              "dtype: int64"
            ]
          },
          "metadata": {},
          "execution_count": 3
        }
      ]
    },
    {
      "cell_type": "code",
      "metadata": {
        "colab": {
          "base_uri": "https://localhost:8080/"
        },
        "id": "OGfP7yKrKNow",
        "outputId": "11f80827-2c5b-460f-80a8-db7d95d0f363"
      },
      "source": [
        "pd.Series(list,labels)"
      ],
      "execution_count": 4,
      "outputs": [
        {
          "output_type": "execute_result",
          "data": {
            "text/plain": [
              "w    10\n",
              "x    20\n",
              "y    30\n",
              "z    40\n",
              "dtype: int64"
            ]
          },
          "metadata": {},
          "execution_count": 4
        }
      ]
    },
    {
      "cell_type": "code",
      "metadata": {
        "colab": {
          "base_uri": "https://localhost:8080/"
        },
        "id": "ZliCeFIGKQnz",
        "outputId": "b2e324e3-9f58-43fb-f4d2-a73852176136"
      },
      "source": [
        "pd.Series(array)"
      ],
      "execution_count": 5,
      "outputs": [
        {
          "output_type": "execute_result",
          "data": {
            "text/plain": [
              "0    10\n",
              "1    20\n",
              "2    30\n",
              "3    40\n",
              "dtype: int64"
            ]
          },
          "metadata": {},
          "execution_count": 5
        }
      ]
    },
    {
      "cell_type": "code",
      "metadata": {
        "colab": {
          "base_uri": "https://localhost:8080/"
        },
        "id": "fpXzTULtKT4a",
        "outputId": "81c61faf-9c0e-4364-d1ea-0c049c02b178"
      },
      "source": [
        "pd.Series(dict)\n"
      ],
      "execution_count": 6,
      "outputs": [
        {
          "output_type": "execute_result",
          "data": {
            "text/plain": [
              "w    10\n",
              "x    20\n",
              "y    30\n",
              "z    40\n",
              "dtype: int64"
            ]
          },
          "metadata": {},
          "execution_count": 6
        }
      ]
    },
    {
      "cell_type": "code",
      "metadata": {
        "id": "Iz9Evha5KX9R"
      },
      "source": [
        "sports1 = pd.Series([1,2,3,4],index = ['Cricket', 'Football','Basketball', 'Golf'])    "
      ],
      "execution_count": 7,
      "outputs": []
    },
    {
      "cell_type": "code",
      "metadata": {
        "id": "zx3mr_BhKbhC"
      },
      "source": [
        "sports2 = pd.Series([1,2,5,4],index = ['Cricket', 'Football','Baseball', 'Golf']) "
      ],
      "execution_count": 8,
      "outputs": []
    },
    {
      "cell_type": "code",
      "metadata": {
        "colab": {
          "base_uri": "https://localhost:8080/"
        },
        "id": "f93l2kNBKcmu",
        "outputId": "82dbe1c8-ddb8-4749-87e5-a102896c5e08"
      },
      "source": [
        "sports1 + sports2"
      ],
      "execution_count": 9,
      "outputs": [
        {
          "output_type": "execute_result",
          "data": {
            "text/plain": [
              "Baseball      NaN\n",
              "Basketball    NaN\n",
              "Cricket       2.0\n",
              "Football      4.0\n",
              "Golf          8.0\n",
              "dtype: float64"
            ]
          },
          "metadata": {},
          "execution_count": 9
        }
      ]
    },
    {
      "cell_type": "code",
      "metadata": {
        "id": "UvlSxElTKg_8"
      },
      "source": [
        "matrix = np.random.randn(10,5)"
      ],
      "execution_count": 10,
      "outputs": []
    },
    {
      "cell_type": "code",
      "metadata": {
        "colab": {
          "base_uri": "https://localhost:8080/",
          "height": 357
        },
        "id": "J-PQWngxKjqw",
        "outputId": "b9513227-188a-4bd4-b2a5-7ef0f13b6e32"
      },
      "source": [
        "pd.DataFrame(matrix)"
      ],
      "execution_count": 11,
      "outputs": [
        {
          "output_type": "execute_result",
          "data": {
            "text/html": [
              "<div>\n",
              "<style scoped>\n",
              "    .dataframe tbody tr th:only-of-type {\n",
              "        vertical-align: middle;\n",
              "    }\n",
              "\n",
              "    .dataframe tbody tr th {\n",
              "        vertical-align: top;\n",
              "    }\n",
              "\n",
              "    .dataframe thead th {\n",
              "        text-align: right;\n",
              "    }\n",
              "</style>\n",
              "<table border=\"1\" class=\"dataframe\">\n",
              "  <thead>\n",
              "    <tr style=\"text-align: right;\">\n",
              "      <th></th>\n",
              "      <th>0</th>\n",
              "      <th>1</th>\n",
              "      <th>2</th>\n",
              "      <th>3</th>\n",
              "      <th>4</th>\n",
              "    </tr>\n",
              "  </thead>\n",
              "  <tbody>\n",
              "    <tr>\n",
              "      <th>0</th>\n",
              "      <td>0.851100</td>\n",
              "      <td>-1.083754</td>\n",
              "      <td>1.136511</td>\n",
              "      <td>0.797334</td>\n",
              "      <td>-0.841003</td>\n",
              "    </tr>\n",
              "    <tr>\n",
              "      <th>1</th>\n",
              "      <td>-1.770584</td>\n",
              "      <td>0.695662</td>\n",
              "      <td>-0.479670</td>\n",
              "      <td>-0.836000</td>\n",
              "      <td>0.177477</td>\n",
              "    </tr>\n",
              "    <tr>\n",
              "      <th>2</th>\n",
              "      <td>-0.208711</td>\n",
              "      <td>-1.037963</td>\n",
              "      <td>0.197806</td>\n",
              "      <td>-0.859532</td>\n",
              "      <td>-0.295302</td>\n",
              "    </tr>\n",
              "    <tr>\n",
              "      <th>3</th>\n",
              "      <td>-1.123644</td>\n",
              "      <td>0.827014</td>\n",
              "      <td>-0.670611</td>\n",
              "      <td>-0.966687</td>\n",
              "      <td>-0.629303</td>\n",
              "    </tr>\n",
              "    <tr>\n",
              "      <th>4</th>\n",
              "      <td>-0.329187</td>\n",
              "      <td>0.462367</td>\n",
              "      <td>0.072301</td>\n",
              "      <td>0.217168</td>\n",
              "      <td>-0.598591</td>\n",
              "    </tr>\n",
              "    <tr>\n",
              "      <th>5</th>\n",
              "      <td>-0.594047</td>\n",
              "      <td>-1.112598</td>\n",
              "      <td>-0.013298</td>\n",
              "      <td>-0.049444</td>\n",
              "      <td>0.419095</td>\n",
              "    </tr>\n",
              "    <tr>\n",
              "      <th>6</th>\n",
              "      <td>1.216281</td>\n",
              "      <td>-1.498905</td>\n",
              "      <td>0.416352</td>\n",
              "      <td>0.898640</td>\n",
              "      <td>-1.789240</td>\n",
              "    </tr>\n",
              "    <tr>\n",
              "      <th>7</th>\n",
              "      <td>1.470903</td>\n",
              "      <td>-1.052643</td>\n",
              "      <td>0.038047</td>\n",
              "      <td>0.575211</td>\n",
              "      <td>2.135044</td>\n",
              "    </tr>\n",
              "    <tr>\n",
              "      <th>8</th>\n",
              "      <td>0.781189</td>\n",
              "      <td>0.746870</td>\n",
              "      <td>1.095627</td>\n",
              "      <td>-1.719497</td>\n",
              "      <td>-0.689932</td>\n",
              "    </tr>\n",
              "    <tr>\n",
              "      <th>9</th>\n",
              "      <td>-0.541974</td>\n",
              "      <td>2.608786</td>\n",
              "      <td>-0.149848</td>\n",
              "      <td>0.647683</td>\n",
              "      <td>1.762130</td>\n",
              "    </tr>\n",
              "  </tbody>\n",
              "</table>\n",
              "</div>"
            ],
            "text/plain": [
              "          0         1         2         3         4\n",
              "0  0.851100 -1.083754  1.136511  0.797334 -0.841003\n",
              "1 -1.770584  0.695662 -0.479670 -0.836000  0.177477\n",
              "2 -0.208711 -1.037963  0.197806 -0.859532 -0.295302\n",
              "3 -1.123644  0.827014 -0.670611 -0.966687 -0.629303\n",
              "4 -0.329187  0.462367  0.072301  0.217168 -0.598591\n",
              "5 -0.594047 -1.112598 -0.013298 -0.049444  0.419095\n",
              "6  1.216281 -1.498905  0.416352  0.898640 -1.789240\n",
              "7  1.470903 -1.052643  0.038047  0.575211  2.135044\n",
              "8  0.781189  0.746870  1.095627 -1.719497 -0.689932\n",
              "9 -0.541974  2.608786 -0.149848  0.647683  1.762130"
            ]
          },
          "metadata": {},
          "execution_count": 11
        }
      ]
    },
    {
      "cell_type": "code",
      "metadata": {
        "colab": {
          "base_uri": "https://localhost:8080/"
        },
        "id": "KexbLFxeKm1Q",
        "outputId": "55720171-b074-4041-aff6-43a08948f338"
      },
      "source": [
        "'A B C D E F G H I J'.split()"
      ],
      "execution_count": 12,
      "outputs": [
        {
          "output_type": "execute_result",
          "data": {
            "text/plain": [
              "['A', 'B', 'C', 'D', 'E', 'F', 'G', 'H', 'I', 'J']"
            ]
          },
          "metadata": {},
          "execution_count": 12
        }
      ]
    },
    {
      "cell_type": "code",
      "metadata": {
        "id": "O9i4QRBqKqe-"
      },
      "source": [
        "dataframe = pd.DataFrame(matrix, index = 'A B C D E F G H I J'.split(), columns = 'Score1 Score2 Score3 Score4 Score5'.split())"
      ],
      "execution_count": 13,
      "outputs": []
    },
    {
      "cell_type": "code",
      "metadata": {
        "colab": {
          "base_uri": "https://localhost:8080/"
        },
        "id": "mTrROzRoKtAw",
        "outputId": "6da3d1b3-c712-45e8-a312-a8f90cc6bd5b"
      },
      "source": [
        "dataframe['Score3']"
      ],
      "execution_count": 15,
      "outputs": [
        {
          "output_type": "execute_result",
          "data": {
            "text/plain": [
              "A    1.136511\n",
              "B   -0.479670\n",
              "C    0.197806\n",
              "D   -0.670611\n",
              "E    0.072301\n",
              "F   -0.013298\n",
              "G    0.416352\n",
              "H    0.038047\n",
              "I    1.095627\n",
              "J   -0.149848\n",
              "Name: Score3, dtype: float64"
            ]
          },
          "metadata": {},
          "execution_count": 15
        }
      ]
    },
    {
      "cell_type": "code",
      "metadata": {
        "colab": {
          "base_uri": "https://localhost:8080/",
          "height": 357
        },
        "id": "k-YRW_E2KwEJ",
        "outputId": "29b30171-aa9b-46a8-b8bb-4d4950150b48"
      },
      "source": [
        "# Pass a list of column names in any order necessary\n",
        "dataframe[['Score2','Score1']]"
      ],
      "execution_count": 16,
      "outputs": [
        {
          "output_type": "execute_result",
          "data": {
            "text/html": [
              "<div>\n",
              "<style scoped>\n",
              "    .dataframe tbody tr th:only-of-type {\n",
              "        vertical-align: middle;\n",
              "    }\n",
              "\n",
              "    .dataframe tbody tr th {\n",
              "        vertical-align: top;\n",
              "    }\n",
              "\n",
              "    .dataframe thead th {\n",
              "        text-align: right;\n",
              "    }\n",
              "</style>\n",
              "<table border=\"1\" class=\"dataframe\">\n",
              "  <thead>\n",
              "    <tr style=\"text-align: right;\">\n",
              "      <th></th>\n",
              "      <th>Score2</th>\n",
              "      <th>Score1</th>\n",
              "    </tr>\n",
              "  </thead>\n",
              "  <tbody>\n",
              "    <tr>\n",
              "      <th>A</th>\n",
              "      <td>-1.083754</td>\n",
              "      <td>0.851100</td>\n",
              "    </tr>\n",
              "    <tr>\n",
              "      <th>B</th>\n",
              "      <td>0.695662</td>\n",
              "      <td>-1.770584</td>\n",
              "    </tr>\n",
              "    <tr>\n",
              "      <th>C</th>\n",
              "      <td>-1.037963</td>\n",
              "      <td>-0.208711</td>\n",
              "    </tr>\n",
              "    <tr>\n",
              "      <th>D</th>\n",
              "      <td>0.827014</td>\n",
              "      <td>-1.123644</td>\n",
              "    </tr>\n",
              "    <tr>\n",
              "      <th>E</th>\n",
              "      <td>0.462367</td>\n",
              "      <td>-0.329187</td>\n",
              "    </tr>\n",
              "    <tr>\n",
              "      <th>F</th>\n",
              "      <td>-1.112598</td>\n",
              "      <td>-0.594047</td>\n",
              "    </tr>\n",
              "    <tr>\n",
              "      <th>G</th>\n",
              "      <td>-1.498905</td>\n",
              "      <td>1.216281</td>\n",
              "    </tr>\n",
              "    <tr>\n",
              "      <th>H</th>\n",
              "      <td>-1.052643</td>\n",
              "      <td>1.470903</td>\n",
              "    </tr>\n",
              "    <tr>\n",
              "      <th>I</th>\n",
              "      <td>0.746870</td>\n",
              "      <td>0.781189</td>\n",
              "    </tr>\n",
              "    <tr>\n",
              "      <th>J</th>\n",
              "      <td>2.608786</td>\n",
              "      <td>-0.541974</td>\n",
              "    </tr>\n",
              "  </tbody>\n",
              "</table>\n",
              "</div>"
            ],
            "text/plain": [
              "     Score2    Score1\n",
              "A -1.083754  0.851100\n",
              "B  0.695662 -1.770584\n",
              "C -1.037963 -0.208711\n",
              "D  0.827014 -1.123644\n",
              "E  0.462367 -0.329187\n",
              "F -1.112598 -0.594047\n",
              "G -1.498905  1.216281\n",
              "H -1.052643  1.470903\n",
              "I  0.746870  0.781189\n",
              "J  2.608786 -0.541974"
            ]
          },
          "metadata": {},
          "execution_count": 16
        }
      ]
    },
    {
      "cell_type": "code",
      "metadata": {
        "colab": {
          "base_uri": "https://localhost:8080/"
        },
        "id": "Wx4CRdCIK0fP",
        "outputId": "592c825f-6177-4d66-9813-259b372c85a0"
      },
      "source": [
        "type(dataframe['Score1'])"
      ],
      "execution_count": 17,
      "outputs": [
        {
          "output_type": "execute_result",
          "data": {
            "text/plain": [
              "pandas.core.series.Series"
            ]
          },
          "metadata": {},
          "execution_count": 17
        }
      ]
    },
    {
      "cell_type": "code",
      "metadata": {
        "colab": {
          "base_uri": "https://localhost:8080/",
          "height": 357
        },
        "id": "1fZWlQXvK3J5",
        "outputId": "cb304c35-7721-4875-b8cf-c1dc7923fee6"
      },
      "source": [
        "dataframe"
      ],
      "execution_count": 18,
      "outputs": [
        {
          "output_type": "execute_result",
          "data": {
            "text/html": [
              "<div>\n",
              "<style scoped>\n",
              "    .dataframe tbody tr th:only-of-type {\n",
              "        vertical-align: middle;\n",
              "    }\n",
              "\n",
              "    .dataframe tbody tr th {\n",
              "        vertical-align: top;\n",
              "    }\n",
              "\n",
              "    .dataframe thead th {\n",
              "        text-align: right;\n",
              "    }\n",
              "</style>\n",
              "<table border=\"1\" class=\"dataframe\">\n",
              "  <thead>\n",
              "    <tr style=\"text-align: right;\">\n",
              "      <th></th>\n",
              "      <th>Score1</th>\n",
              "      <th>Score2</th>\n",
              "      <th>Score3</th>\n",
              "      <th>Score4</th>\n",
              "      <th>Score5</th>\n",
              "    </tr>\n",
              "  </thead>\n",
              "  <tbody>\n",
              "    <tr>\n",
              "      <th>A</th>\n",
              "      <td>0.851100</td>\n",
              "      <td>-1.083754</td>\n",
              "      <td>1.136511</td>\n",
              "      <td>0.797334</td>\n",
              "      <td>-0.841003</td>\n",
              "    </tr>\n",
              "    <tr>\n",
              "      <th>B</th>\n",
              "      <td>-1.770584</td>\n",
              "      <td>0.695662</td>\n",
              "      <td>-0.479670</td>\n",
              "      <td>-0.836000</td>\n",
              "      <td>0.177477</td>\n",
              "    </tr>\n",
              "    <tr>\n",
              "      <th>C</th>\n",
              "      <td>-0.208711</td>\n",
              "      <td>-1.037963</td>\n",
              "      <td>0.197806</td>\n",
              "      <td>-0.859532</td>\n",
              "      <td>-0.295302</td>\n",
              "    </tr>\n",
              "    <tr>\n",
              "      <th>D</th>\n",
              "      <td>-1.123644</td>\n",
              "      <td>0.827014</td>\n",
              "      <td>-0.670611</td>\n",
              "      <td>-0.966687</td>\n",
              "      <td>-0.629303</td>\n",
              "    </tr>\n",
              "    <tr>\n",
              "      <th>E</th>\n",
              "      <td>-0.329187</td>\n",
              "      <td>0.462367</td>\n",
              "      <td>0.072301</td>\n",
              "      <td>0.217168</td>\n",
              "      <td>-0.598591</td>\n",
              "    </tr>\n",
              "    <tr>\n",
              "      <th>F</th>\n",
              "      <td>-0.594047</td>\n",
              "      <td>-1.112598</td>\n",
              "      <td>-0.013298</td>\n",
              "      <td>-0.049444</td>\n",
              "      <td>0.419095</td>\n",
              "    </tr>\n",
              "    <tr>\n",
              "      <th>G</th>\n",
              "      <td>1.216281</td>\n",
              "      <td>-1.498905</td>\n",
              "      <td>0.416352</td>\n",
              "      <td>0.898640</td>\n",
              "      <td>-1.789240</td>\n",
              "    </tr>\n",
              "    <tr>\n",
              "      <th>H</th>\n",
              "      <td>1.470903</td>\n",
              "      <td>-1.052643</td>\n",
              "      <td>0.038047</td>\n",
              "      <td>0.575211</td>\n",
              "      <td>2.135044</td>\n",
              "    </tr>\n",
              "    <tr>\n",
              "      <th>I</th>\n",
              "      <td>0.781189</td>\n",
              "      <td>0.746870</td>\n",
              "      <td>1.095627</td>\n",
              "      <td>-1.719497</td>\n",
              "      <td>-0.689932</td>\n",
              "    </tr>\n",
              "    <tr>\n",
              "      <th>J</th>\n",
              "      <td>-0.541974</td>\n",
              "      <td>2.608786</td>\n",
              "      <td>-0.149848</td>\n",
              "      <td>0.647683</td>\n",
              "      <td>1.762130</td>\n",
              "    </tr>\n",
              "  </tbody>\n",
              "</table>\n",
              "</div>"
            ],
            "text/plain": [
              "     Score1    Score2    Score3    Score4    Score5\n",
              "A  0.851100 -1.083754  1.136511  0.797334 -0.841003\n",
              "B -1.770584  0.695662 -0.479670 -0.836000  0.177477\n",
              "C -0.208711 -1.037963  0.197806 -0.859532 -0.295302\n",
              "D -1.123644  0.827014 -0.670611 -0.966687 -0.629303\n",
              "E -0.329187  0.462367  0.072301  0.217168 -0.598591\n",
              "F -0.594047 -1.112598 -0.013298 -0.049444  0.419095\n",
              "G  1.216281 -1.498905  0.416352  0.898640 -1.789240\n",
              "H  1.470903 -1.052643  0.038047  0.575211  2.135044\n",
              "I  0.781189  0.746870  1.095627 -1.719497 -0.689932\n",
              "J -0.541974  2.608786 -0.149848  0.647683  1.762130"
            ]
          },
          "metadata": {},
          "execution_count": 18
        }
      ]
    },
    {
      "cell_type": "code",
      "metadata": {
        "id": "UB0ku_qxK5-H"
      },
      "source": [
        "dataframe['Total'] = dataframe['Score1'] + dataframe['Score2']"
      ],
      "execution_count": 19,
      "outputs": []
    },
    {
      "cell_type": "code",
      "metadata": {
        "colab": {
          "base_uri": "https://localhost:8080/",
          "height": 357
        },
        "id": "futc3AhfK83f",
        "outputId": "b1d0f716-ba15-4086-e710-93e5ac735e2f"
      },
      "source": [
        "dataframe"
      ],
      "execution_count": 20,
      "outputs": [
        {
          "output_type": "execute_result",
          "data": {
            "text/html": [
              "<div>\n",
              "<style scoped>\n",
              "    .dataframe tbody tr th:only-of-type {\n",
              "        vertical-align: middle;\n",
              "    }\n",
              "\n",
              "    .dataframe tbody tr th {\n",
              "        vertical-align: top;\n",
              "    }\n",
              "\n",
              "    .dataframe thead th {\n",
              "        text-align: right;\n",
              "    }\n",
              "</style>\n",
              "<table border=\"1\" class=\"dataframe\">\n",
              "  <thead>\n",
              "    <tr style=\"text-align: right;\">\n",
              "      <th></th>\n",
              "      <th>Score1</th>\n",
              "      <th>Score2</th>\n",
              "      <th>Score3</th>\n",
              "      <th>Score4</th>\n",
              "      <th>Score5</th>\n",
              "      <th>Total</th>\n",
              "    </tr>\n",
              "  </thead>\n",
              "  <tbody>\n",
              "    <tr>\n",
              "      <th>A</th>\n",
              "      <td>0.851100</td>\n",
              "      <td>-1.083754</td>\n",
              "      <td>1.136511</td>\n",
              "      <td>0.797334</td>\n",
              "      <td>-0.841003</td>\n",
              "      <td>-0.232653</td>\n",
              "    </tr>\n",
              "    <tr>\n",
              "      <th>B</th>\n",
              "      <td>-1.770584</td>\n",
              "      <td>0.695662</td>\n",
              "      <td>-0.479670</td>\n",
              "      <td>-0.836000</td>\n",
              "      <td>0.177477</td>\n",
              "      <td>-1.074923</td>\n",
              "    </tr>\n",
              "    <tr>\n",
              "      <th>C</th>\n",
              "      <td>-0.208711</td>\n",
              "      <td>-1.037963</td>\n",
              "      <td>0.197806</td>\n",
              "      <td>-0.859532</td>\n",
              "      <td>-0.295302</td>\n",
              "      <td>-1.246675</td>\n",
              "    </tr>\n",
              "    <tr>\n",
              "      <th>D</th>\n",
              "      <td>-1.123644</td>\n",
              "      <td>0.827014</td>\n",
              "      <td>-0.670611</td>\n",
              "      <td>-0.966687</td>\n",
              "      <td>-0.629303</td>\n",
              "      <td>-0.296630</td>\n",
              "    </tr>\n",
              "    <tr>\n",
              "      <th>E</th>\n",
              "      <td>-0.329187</td>\n",
              "      <td>0.462367</td>\n",
              "      <td>0.072301</td>\n",
              "      <td>0.217168</td>\n",
              "      <td>-0.598591</td>\n",
              "      <td>0.133180</td>\n",
              "    </tr>\n",
              "    <tr>\n",
              "      <th>F</th>\n",
              "      <td>-0.594047</td>\n",
              "      <td>-1.112598</td>\n",
              "      <td>-0.013298</td>\n",
              "      <td>-0.049444</td>\n",
              "      <td>0.419095</td>\n",
              "      <td>-1.706645</td>\n",
              "    </tr>\n",
              "    <tr>\n",
              "      <th>G</th>\n",
              "      <td>1.216281</td>\n",
              "      <td>-1.498905</td>\n",
              "      <td>0.416352</td>\n",
              "      <td>0.898640</td>\n",
              "      <td>-1.789240</td>\n",
              "      <td>-0.282624</td>\n",
              "    </tr>\n",
              "    <tr>\n",
              "      <th>H</th>\n",
              "      <td>1.470903</td>\n",
              "      <td>-1.052643</td>\n",
              "      <td>0.038047</td>\n",
              "      <td>0.575211</td>\n",
              "      <td>2.135044</td>\n",
              "      <td>0.418261</td>\n",
              "    </tr>\n",
              "    <tr>\n",
              "      <th>I</th>\n",
              "      <td>0.781189</td>\n",
              "      <td>0.746870</td>\n",
              "      <td>1.095627</td>\n",
              "      <td>-1.719497</td>\n",
              "      <td>-0.689932</td>\n",
              "      <td>1.528059</td>\n",
              "    </tr>\n",
              "    <tr>\n",
              "      <th>J</th>\n",
              "      <td>-0.541974</td>\n",
              "      <td>2.608786</td>\n",
              "      <td>-0.149848</td>\n",
              "      <td>0.647683</td>\n",
              "      <td>1.762130</td>\n",
              "      <td>2.066813</td>\n",
              "    </tr>\n",
              "  </tbody>\n",
              "</table>\n",
              "</div>"
            ],
            "text/plain": [
              "     Score1    Score2    Score3    Score4    Score5     Total\n",
              "A  0.851100 -1.083754  1.136511  0.797334 -0.841003 -0.232653\n",
              "B -1.770584  0.695662 -0.479670 -0.836000  0.177477 -1.074923\n",
              "C -0.208711 -1.037963  0.197806 -0.859532 -0.295302 -1.246675\n",
              "D -1.123644  0.827014 -0.670611 -0.966687 -0.629303 -0.296630\n",
              "E -0.329187  0.462367  0.072301  0.217168 -0.598591  0.133180\n",
              "F -0.594047 -1.112598 -0.013298 -0.049444  0.419095 -1.706645\n",
              "G  1.216281 -1.498905  0.416352  0.898640 -1.789240 -0.282624\n",
              "H  1.470903 -1.052643  0.038047  0.575211  2.135044  0.418261\n",
              "I  0.781189  0.746870  1.095627 -1.719497 -0.689932  1.528059\n",
              "J -0.541974  2.608786 -0.149848  0.647683  1.762130  2.066813"
            ]
          },
          "metadata": {},
          "execution_count": 20
        }
      ]
    },
    {
      "cell_type": "code",
      "metadata": {
        "colab": {
          "base_uri": "https://localhost:8080/",
          "height": 357
        },
        "id": "II0BdE7cK_n6",
        "outputId": "fa9d4223-e5ab-47c5-aa7b-42a57949604e"
      },
      "source": [
        "dataframe.drop('Total', axis = 1)"
      ],
      "execution_count": 21,
      "outputs": [
        {
          "output_type": "execute_result",
          "data": {
            "text/html": [
              "<div>\n",
              "<style scoped>\n",
              "    .dataframe tbody tr th:only-of-type {\n",
              "        vertical-align: middle;\n",
              "    }\n",
              "\n",
              "    .dataframe tbody tr th {\n",
              "        vertical-align: top;\n",
              "    }\n",
              "\n",
              "    .dataframe thead th {\n",
              "        text-align: right;\n",
              "    }\n",
              "</style>\n",
              "<table border=\"1\" class=\"dataframe\">\n",
              "  <thead>\n",
              "    <tr style=\"text-align: right;\">\n",
              "      <th></th>\n",
              "      <th>Score1</th>\n",
              "      <th>Score2</th>\n",
              "      <th>Score3</th>\n",
              "      <th>Score4</th>\n",
              "      <th>Score5</th>\n",
              "    </tr>\n",
              "  </thead>\n",
              "  <tbody>\n",
              "    <tr>\n",
              "      <th>A</th>\n",
              "      <td>0.851100</td>\n",
              "      <td>-1.083754</td>\n",
              "      <td>1.136511</td>\n",
              "      <td>0.797334</td>\n",
              "      <td>-0.841003</td>\n",
              "    </tr>\n",
              "    <tr>\n",
              "      <th>B</th>\n",
              "      <td>-1.770584</td>\n",
              "      <td>0.695662</td>\n",
              "      <td>-0.479670</td>\n",
              "      <td>-0.836000</td>\n",
              "      <td>0.177477</td>\n",
              "    </tr>\n",
              "    <tr>\n",
              "      <th>C</th>\n",
              "      <td>-0.208711</td>\n",
              "      <td>-1.037963</td>\n",
              "      <td>0.197806</td>\n",
              "      <td>-0.859532</td>\n",
              "      <td>-0.295302</td>\n",
              "    </tr>\n",
              "    <tr>\n",
              "      <th>D</th>\n",
              "      <td>-1.123644</td>\n",
              "      <td>0.827014</td>\n",
              "      <td>-0.670611</td>\n",
              "      <td>-0.966687</td>\n",
              "      <td>-0.629303</td>\n",
              "    </tr>\n",
              "    <tr>\n",
              "      <th>E</th>\n",
              "      <td>-0.329187</td>\n",
              "      <td>0.462367</td>\n",
              "      <td>0.072301</td>\n",
              "      <td>0.217168</td>\n",
              "      <td>-0.598591</td>\n",
              "    </tr>\n",
              "    <tr>\n",
              "      <th>F</th>\n",
              "      <td>-0.594047</td>\n",
              "      <td>-1.112598</td>\n",
              "      <td>-0.013298</td>\n",
              "      <td>-0.049444</td>\n",
              "      <td>0.419095</td>\n",
              "    </tr>\n",
              "    <tr>\n",
              "      <th>G</th>\n",
              "      <td>1.216281</td>\n",
              "      <td>-1.498905</td>\n",
              "      <td>0.416352</td>\n",
              "      <td>0.898640</td>\n",
              "      <td>-1.789240</td>\n",
              "    </tr>\n",
              "    <tr>\n",
              "      <th>H</th>\n",
              "      <td>1.470903</td>\n",
              "      <td>-1.052643</td>\n",
              "      <td>0.038047</td>\n",
              "      <td>0.575211</td>\n",
              "      <td>2.135044</td>\n",
              "    </tr>\n",
              "    <tr>\n",
              "      <th>I</th>\n",
              "      <td>0.781189</td>\n",
              "      <td>0.746870</td>\n",
              "      <td>1.095627</td>\n",
              "      <td>-1.719497</td>\n",
              "      <td>-0.689932</td>\n",
              "    </tr>\n",
              "    <tr>\n",
              "      <th>J</th>\n",
              "      <td>-0.541974</td>\n",
              "      <td>2.608786</td>\n",
              "      <td>-0.149848</td>\n",
              "      <td>0.647683</td>\n",
              "      <td>1.762130</td>\n",
              "    </tr>\n",
              "  </tbody>\n",
              "</table>\n",
              "</div>"
            ],
            "text/plain": [
              "     Score1    Score2    Score3    Score4    Score5\n",
              "A  0.851100 -1.083754  1.136511  0.797334 -0.841003\n",
              "B -1.770584  0.695662 -0.479670 -0.836000  0.177477\n",
              "C -0.208711 -1.037963  0.197806 -0.859532 -0.295302\n",
              "D -1.123644  0.827014 -0.670611 -0.966687 -0.629303\n",
              "E -0.329187  0.462367  0.072301  0.217168 -0.598591\n",
              "F -0.594047 -1.112598 -0.013298 -0.049444  0.419095\n",
              "G  1.216281 -1.498905  0.416352  0.898640 -1.789240\n",
              "H  1.470903 -1.052643  0.038047  0.575211  2.135044\n",
              "I  0.781189  0.746870  1.095627 -1.719497 -0.689932\n",
              "J -0.541974  2.608786 -0.149848  0.647683  1.762130"
            ]
          },
          "metadata": {},
          "execution_count": 21
        }
      ]
    },
    {
      "cell_type": "code",
      "metadata": {
        "colab": {
          "base_uri": "https://localhost:8080/",
          "height": 357
        },
        "id": "Vb6MArkjLCFi",
        "outputId": "4f31d178-a96e-4b6b-f811-6dd94a1017f0"
      },
      "source": [
        "dataframe"
      ],
      "execution_count": 22,
      "outputs": [
        {
          "output_type": "execute_result",
          "data": {
            "text/html": [
              "<div>\n",
              "<style scoped>\n",
              "    .dataframe tbody tr th:only-of-type {\n",
              "        vertical-align: middle;\n",
              "    }\n",
              "\n",
              "    .dataframe tbody tr th {\n",
              "        vertical-align: top;\n",
              "    }\n",
              "\n",
              "    .dataframe thead th {\n",
              "        text-align: right;\n",
              "    }\n",
              "</style>\n",
              "<table border=\"1\" class=\"dataframe\">\n",
              "  <thead>\n",
              "    <tr style=\"text-align: right;\">\n",
              "      <th></th>\n",
              "      <th>Score1</th>\n",
              "      <th>Score2</th>\n",
              "      <th>Score3</th>\n",
              "      <th>Score4</th>\n",
              "      <th>Score5</th>\n",
              "      <th>Total</th>\n",
              "    </tr>\n",
              "  </thead>\n",
              "  <tbody>\n",
              "    <tr>\n",
              "      <th>A</th>\n",
              "      <td>0.851100</td>\n",
              "      <td>-1.083754</td>\n",
              "      <td>1.136511</td>\n",
              "      <td>0.797334</td>\n",
              "      <td>-0.841003</td>\n",
              "      <td>-0.232653</td>\n",
              "    </tr>\n",
              "    <tr>\n",
              "      <th>B</th>\n",
              "      <td>-1.770584</td>\n",
              "      <td>0.695662</td>\n",
              "      <td>-0.479670</td>\n",
              "      <td>-0.836000</td>\n",
              "      <td>0.177477</td>\n",
              "      <td>-1.074923</td>\n",
              "    </tr>\n",
              "    <tr>\n",
              "      <th>C</th>\n",
              "      <td>-0.208711</td>\n",
              "      <td>-1.037963</td>\n",
              "      <td>0.197806</td>\n",
              "      <td>-0.859532</td>\n",
              "      <td>-0.295302</td>\n",
              "      <td>-1.246675</td>\n",
              "    </tr>\n",
              "    <tr>\n",
              "      <th>D</th>\n",
              "      <td>-1.123644</td>\n",
              "      <td>0.827014</td>\n",
              "      <td>-0.670611</td>\n",
              "      <td>-0.966687</td>\n",
              "      <td>-0.629303</td>\n",
              "      <td>-0.296630</td>\n",
              "    </tr>\n",
              "    <tr>\n",
              "      <th>E</th>\n",
              "      <td>-0.329187</td>\n",
              "      <td>0.462367</td>\n",
              "      <td>0.072301</td>\n",
              "      <td>0.217168</td>\n",
              "      <td>-0.598591</td>\n",
              "      <td>0.133180</td>\n",
              "    </tr>\n",
              "    <tr>\n",
              "      <th>F</th>\n",
              "      <td>-0.594047</td>\n",
              "      <td>-1.112598</td>\n",
              "      <td>-0.013298</td>\n",
              "      <td>-0.049444</td>\n",
              "      <td>0.419095</td>\n",
              "      <td>-1.706645</td>\n",
              "    </tr>\n",
              "    <tr>\n",
              "      <th>G</th>\n",
              "      <td>1.216281</td>\n",
              "      <td>-1.498905</td>\n",
              "      <td>0.416352</td>\n",
              "      <td>0.898640</td>\n",
              "      <td>-1.789240</td>\n",
              "      <td>-0.282624</td>\n",
              "    </tr>\n",
              "    <tr>\n",
              "      <th>H</th>\n",
              "      <td>1.470903</td>\n",
              "      <td>-1.052643</td>\n",
              "      <td>0.038047</td>\n",
              "      <td>0.575211</td>\n",
              "      <td>2.135044</td>\n",
              "      <td>0.418261</td>\n",
              "    </tr>\n",
              "    <tr>\n",
              "      <th>I</th>\n",
              "      <td>0.781189</td>\n",
              "      <td>0.746870</td>\n",
              "      <td>1.095627</td>\n",
              "      <td>-1.719497</td>\n",
              "      <td>-0.689932</td>\n",
              "      <td>1.528059</td>\n",
              "    </tr>\n",
              "    <tr>\n",
              "      <th>J</th>\n",
              "      <td>-0.541974</td>\n",
              "      <td>2.608786</td>\n",
              "      <td>-0.149848</td>\n",
              "      <td>0.647683</td>\n",
              "      <td>1.762130</td>\n",
              "      <td>2.066813</td>\n",
              "    </tr>\n",
              "  </tbody>\n",
              "</table>\n",
              "</div>"
            ],
            "text/plain": [
              "     Score1    Score2    Score3    Score4    Score5     Total\n",
              "A  0.851100 -1.083754  1.136511  0.797334 -0.841003 -0.232653\n",
              "B -1.770584  0.695662 -0.479670 -0.836000  0.177477 -1.074923\n",
              "C -0.208711 -1.037963  0.197806 -0.859532 -0.295302 -1.246675\n",
              "D -1.123644  0.827014 -0.670611 -0.966687 -0.629303 -0.296630\n",
              "E -0.329187  0.462367  0.072301  0.217168 -0.598591  0.133180\n",
              "F -0.594047 -1.112598 -0.013298 -0.049444  0.419095 -1.706645\n",
              "G  1.216281 -1.498905  0.416352  0.898640 -1.789240 -0.282624\n",
              "H  1.470903 -1.052643  0.038047  0.575211  2.135044  0.418261\n",
              "I  0.781189  0.746870  1.095627 -1.719497 -0.689932  1.528059\n",
              "J -0.541974  2.608786 -0.149848  0.647683  1.762130  2.066813"
            ]
          },
          "metadata": {},
          "execution_count": 22
        }
      ]
    },
    {
      "cell_type": "code",
      "metadata": {
        "id": "b15MyogpLE7p"
      },
      "source": [
        "dataframe.drop('Total', axis = 1 , inplace = True)"
      ],
      "execution_count": 23,
      "outputs": []
    },
    {
      "cell_type": "code",
      "metadata": {
        "colab": {
          "base_uri": "https://localhost:8080/",
          "height": 357
        },
        "id": "QuvrLLgYLLPB",
        "outputId": "b4f29310-319c-4702-c638-b84936ad8c6e"
      },
      "source": [
        "dataframe"
      ],
      "execution_count": 24,
      "outputs": [
        {
          "output_type": "execute_result",
          "data": {
            "text/html": [
              "<div>\n",
              "<style scoped>\n",
              "    .dataframe tbody tr th:only-of-type {\n",
              "        vertical-align: middle;\n",
              "    }\n",
              "\n",
              "    .dataframe tbody tr th {\n",
              "        vertical-align: top;\n",
              "    }\n",
              "\n",
              "    .dataframe thead th {\n",
              "        text-align: right;\n",
              "    }\n",
              "</style>\n",
              "<table border=\"1\" class=\"dataframe\">\n",
              "  <thead>\n",
              "    <tr style=\"text-align: right;\">\n",
              "      <th></th>\n",
              "      <th>Score1</th>\n",
              "      <th>Score2</th>\n",
              "      <th>Score3</th>\n",
              "      <th>Score4</th>\n",
              "      <th>Score5</th>\n",
              "    </tr>\n",
              "  </thead>\n",
              "  <tbody>\n",
              "    <tr>\n",
              "      <th>A</th>\n",
              "      <td>0.851100</td>\n",
              "      <td>-1.083754</td>\n",
              "      <td>1.136511</td>\n",
              "      <td>0.797334</td>\n",
              "      <td>-0.841003</td>\n",
              "    </tr>\n",
              "    <tr>\n",
              "      <th>B</th>\n",
              "      <td>-1.770584</td>\n",
              "      <td>0.695662</td>\n",
              "      <td>-0.479670</td>\n",
              "      <td>-0.836000</td>\n",
              "      <td>0.177477</td>\n",
              "    </tr>\n",
              "    <tr>\n",
              "      <th>C</th>\n",
              "      <td>-0.208711</td>\n",
              "      <td>-1.037963</td>\n",
              "      <td>0.197806</td>\n",
              "      <td>-0.859532</td>\n",
              "      <td>-0.295302</td>\n",
              "    </tr>\n",
              "    <tr>\n",
              "      <th>D</th>\n",
              "      <td>-1.123644</td>\n",
              "      <td>0.827014</td>\n",
              "      <td>-0.670611</td>\n",
              "      <td>-0.966687</td>\n",
              "      <td>-0.629303</td>\n",
              "    </tr>\n",
              "    <tr>\n",
              "      <th>E</th>\n",
              "      <td>-0.329187</td>\n",
              "      <td>0.462367</td>\n",
              "      <td>0.072301</td>\n",
              "      <td>0.217168</td>\n",
              "      <td>-0.598591</td>\n",
              "    </tr>\n",
              "    <tr>\n",
              "      <th>F</th>\n",
              "      <td>-0.594047</td>\n",
              "      <td>-1.112598</td>\n",
              "      <td>-0.013298</td>\n",
              "      <td>-0.049444</td>\n",
              "      <td>0.419095</td>\n",
              "    </tr>\n",
              "    <tr>\n",
              "      <th>G</th>\n",
              "      <td>1.216281</td>\n",
              "      <td>-1.498905</td>\n",
              "      <td>0.416352</td>\n",
              "      <td>0.898640</td>\n",
              "      <td>-1.789240</td>\n",
              "    </tr>\n",
              "    <tr>\n",
              "      <th>H</th>\n",
              "      <td>1.470903</td>\n",
              "      <td>-1.052643</td>\n",
              "      <td>0.038047</td>\n",
              "      <td>0.575211</td>\n",
              "      <td>2.135044</td>\n",
              "    </tr>\n",
              "    <tr>\n",
              "      <th>I</th>\n",
              "      <td>0.781189</td>\n",
              "      <td>0.746870</td>\n",
              "      <td>1.095627</td>\n",
              "      <td>-1.719497</td>\n",
              "      <td>-0.689932</td>\n",
              "    </tr>\n",
              "    <tr>\n",
              "      <th>J</th>\n",
              "      <td>-0.541974</td>\n",
              "      <td>2.608786</td>\n",
              "      <td>-0.149848</td>\n",
              "      <td>0.647683</td>\n",
              "      <td>1.762130</td>\n",
              "    </tr>\n",
              "  </tbody>\n",
              "</table>\n",
              "</div>"
            ],
            "text/plain": [
              "     Score1    Score2    Score3    Score4    Score5\n",
              "A  0.851100 -1.083754  1.136511  0.797334 -0.841003\n",
              "B -1.770584  0.695662 -0.479670 -0.836000  0.177477\n",
              "C -0.208711 -1.037963  0.197806 -0.859532 -0.295302\n",
              "D -1.123644  0.827014 -0.670611 -0.966687 -0.629303\n",
              "E -0.329187  0.462367  0.072301  0.217168 -0.598591\n",
              "F -0.594047 -1.112598 -0.013298 -0.049444  0.419095\n",
              "G  1.216281 -1.498905  0.416352  0.898640 -1.789240\n",
              "H  1.470903 -1.052643  0.038047  0.575211  2.135044\n",
              "I  0.781189  0.746870  1.095627 -1.719497 -0.689932\n",
              "J -0.541974  2.608786 -0.149848  0.647683  1.762130"
            ]
          },
          "metadata": {},
          "execution_count": 24
        }
      ]
    },
    {
      "cell_type": "code",
      "metadata": {
        "colab": {
          "base_uri": "https://localhost:8080/",
          "height": 326
        },
        "id": "xBHZj-YWLOMw",
        "outputId": "50862413-3c67-453b-f303-9503c7a936ab"
      },
      "source": [
        "dataframe.drop('A', axis= 0)"
      ],
      "execution_count": 25,
      "outputs": [
        {
          "output_type": "execute_result",
          "data": {
            "text/html": [
              "<div>\n",
              "<style scoped>\n",
              "    .dataframe tbody tr th:only-of-type {\n",
              "        vertical-align: middle;\n",
              "    }\n",
              "\n",
              "    .dataframe tbody tr th {\n",
              "        vertical-align: top;\n",
              "    }\n",
              "\n",
              "    .dataframe thead th {\n",
              "        text-align: right;\n",
              "    }\n",
              "</style>\n",
              "<table border=\"1\" class=\"dataframe\">\n",
              "  <thead>\n",
              "    <tr style=\"text-align: right;\">\n",
              "      <th></th>\n",
              "      <th>Score1</th>\n",
              "      <th>Score2</th>\n",
              "      <th>Score3</th>\n",
              "      <th>Score4</th>\n",
              "      <th>Score5</th>\n",
              "    </tr>\n",
              "  </thead>\n",
              "  <tbody>\n",
              "    <tr>\n",
              "      <th>B</th>\n",
              "      <td>-1.770584</td>\n",
              "      <td>0.695662</td>\n",
              "      <td>-0.479670</td>\n",
              "      <td>-0.836000</td>\n",
              "      <td>0.177477</td>\n",
              "    </tr>\n",
              "    <tr>\n",
              "      <th>C</th>\n",
              "      <td>-0.208711</td>\n",
              "      <td>-1.037963</td>\n",
              "      <td>0.197806</td>\n",
              "      <td>-0.859532</td>\n",
              "      <td>-0.295302</td>\n",
              "    </tr>\n",
              "    <tr>\n",
              "      <th>D</th>\n",
              "      <td>-1.123644</td>\n",
              "      <td>0.827014</td>\n",
              "      <td>-0.670611</td>\n",
              "      <td>-0.966687</td>\n",
              "      <td>-0.629303</td>\n",
              "    </tr>\n",
              "    <tr>\n",
              "      <th>E</th>\n",
              "      <td>-0.329187</td>\n",
              "      <td>0.462367</td>\n",
              "      <td>0.072301</td>\n",
              "      <td>0.217168</td>\n",
              "      <td>-0.598591</td>\n",
              "    </tr>\n",
              "    <tr>\n",
              "      <th>F</th>\n",
              "      <td>-0.594047</td>\n",
              "      <td>-1.112598</td>\n",
              "      <td>-0.013298</td>\n",
              "      <td>-0.049444</td>\n",
              "      <td>0.419095</td>\n",
              "    </tr>\n",
              "    <tr>\n",
              "      <th>G</th>\n",
              "      <td>1.216281</td>\n",
              "      <td>-1.498905</td>\n",
              "      <td>0.416352</td>\n",
              "      <td>0.898640</td>\n",
              "      <td>-1.789240</td>\n",
              "    </tr>\n",
              "    <tr>\n",
              "      <th>H</th>\n",
              "      <td>1.470903</td>\n",
              "      <td>-1.052643</td>\n",
              "      <td>0.038047</td>\n",
              "      <td>0.575211</td>\n",
              "      <td>2.135044</td>\n",
              "    </tr>\n",
              "    <tr>\n",
              "      <th>I</th>\n",
              "      <td>0.781189</td>\n",
              "      <td>0.746870</td>\n",
              "      <td>1.095627</td>\n",
              "      <td>-1.719497</td>\n",
              "      <td>-0.689932</td>\n",
              "    </tr>\n",
              "    <tr>\n",
              "      <th>J</th>\n",
              "      <td>-0.541974</td>\n",
              "      <td>2.608786</td>\n",
              "      <td>-0.149848</td>\n",
              "      <td>0.647683</td>\n",
              "      <td>1.762130</td>\n",
              "    </tr>\n",
              "  </tbody>\n",
              "</table>\n",
              "</div>"
            ],
            "text/plain": [
              "     Score1    Score2    Score3    Score4    Score5\n",
              "B -1.770584  0.695662 -0.479670 -0.836000  0.177477\n",
              "C -0.208711 -1.037963  0.197806 -0.859532 -0.295302\n",
              "D -1.123644  0.827014 -0.670611 -0.966687 -0.629303\n",
              "E -0.329187  0.462367  0.072301  0.217168 -0.598591\n",
              "F -0.594047 -1.112598 -0.013298 -0.049444  0.419095\n",
              "G  1.216281 -1.498905  0.416352  0.898640 -1.789240\n",
              "H  1.470903 -1.052643  0.038047  0.575211  2.135044\n",
              "I  0.781189  0.746870  1.095627 -1.719497 -0.689932\n",
              "J -0.541974  2.608786 -0.149848  0.647683  1.762130"
            ]
          },
          "metadata": {},
          "execution_count": 25
        }
      ]
    },
    {
      "cell_type": "code",
      "metadata": {
        "colab": {
          "base_uri": "https://localhost:8080/",
          "height": 357
        },
        "id": "Dh1Y0tsLLRq3",
        "outputId": "df5466dc-f300-488e-a954-17d3d6df20b8"
      },
      "source": [
        "dataframe"
      ],
      "execution_count": 26,
      "outputs": [
        {
          "output_type": "execute_result",
          "data": {
            "text/html": [
              "<div>\n",
              "<style scoped>\n",
              "    .dataframe tbody tr th:only-of-type {\n",
              "        vertical-align: middle;\n",
              "    }\n",
              "\n",
              "    .dataframe tbody tr th {\n",
              "        vertical-align: top;\n",
              "    }\n",
              "\n",
              "    .dataframe thead th {\n",
              "        text-align: right;\n",
              "    }\n",
              "</style>\n",
              "<table border=\"1\" class=\"dataframe\">\n",
              "  <thead>\n",
              "    <tr style=\"text-align: right;\">\n",
              "      <th></th>\n",
              "      <th>Score1</th>\n",
              "      <th>Score2</th>\n",
              "      <th>Score3</th>\n",
              "      <th>Score4</th>\n",
              "      <th>Score5</th>\n",
              "    </tr>\n",
              "  </thead>\n",
              "  <tbody>\n",
              "    <tr>\n",
              "      <th>A</th>\n",
              "      <td>0.851100</td>\n",
              "      <td>-1.083754</td>\n",
              "      <td>1.136511</td>\n",
              "      <td>0.797334</td>\n",
              "      <td>-0.841003</td>\n",
              "    </tr>\n",
              "    <tr>\n",
              "      <th>B</th>\n",
              "      <td>-1.770584</td>\n",
              "      <td>0.695662</td>\n",
              "      <td>-0.479670</td>\n",
              "      <td>-0.836000</td>\n",
              "      <td>0.177477</td>\n",
              "    </tr>\n",
              "    <tr>\n",
              "      <th>C</th>\n",
              "      <td>-0.208711</td>\n",
              "      <td>-1.037963</td>\n",
              "      <td>0.197806</td>\n",
              "      <td>-0.859532</td>\n",
              "      <td>-0.295302</td>\n",
              "    </tr>\n",
              "    <tr>\n",
              "      <th>D</th>\n",
              "      <td>-1.123644</td>\n",
              "      <td>0.827014</td>\n",
              "      <td>-0.670611</td>\n",
              "      <td>-0.966687</td>\n",
              "      <td>-0.629303</td>\n",
              "    </tr>\n",
              "    <tr>\n",
              "      <th>E</th>\n",
              "      <td>-0.329187</td>\n",
              "      <td>0.462367</td>\n",
              "      <td>0.072301</td>\n",
              "      <td>0.217168</td>\n",
              "      <td>-0.598591</td>\n",
              "    </tr>\n",
              "    <tr>\n",
              "      <th>F</th>\n",
              "      <td>-0.594047</td>\n",
              "      <td>-1.112598</td>\n",
              "      <td>-0.013298</td>\n",
              "      <td>-0.049444</td>\n",
              "      <td>0.419095</td>\n",
              "    </tr>\n",
              "    <tr>\n",
              "      <th>G</th>\n",
              "      <td>1.216281</td>\n",
              "      <td>-1.498905</td>\n",
              "      <td>0.416352</td>\n",
              "      <td>0.898640</td>\n",
              "      <td>-1.789240</td>\n",
              "    </tr>\n",
              "    <tr>\n",
              "      <th>H</th>\n",
              "      <td>1.470903</td>\n",
              "      <td>-1.052643</td>\n",
              "      <td>0.038047</td>\n",
              "      <td>0.575211</td>\n",
              "      <td>2.135044</td>\n",
              "    </tr>\n",
              "    <tr>\n",
              "      <th>I</th>\n",
              "      <td>0.781189</td>\n",
              "      <td>0.746870</td>\n",
              "      <td>1.095627</td>\n",
              "      <td>-1.719497</td>\n",
              "      <td>-0.689932</td>\n",
              "    </tr>\n",
              "    <tr>\n",
              "      <th>J</th>\n",
              "      <td>-0.541974</td>\n",
              "      <td>2.608786</td>\n",
              "      <td>-0.149848</td>\n",
              "      <td>0.647683</td>\n",
              "      <td>1.762130</td>\n",
              "    </tr>\n",
              "  </tbody>\n",
              "</table>\n",
              "</div>"
            ],
            "text/plain": [
              "     Score1    Score2    Score3    Score4    Score5\n",
              "A  0.851100 -1.083754  1.136511  0.797334 -0.841003\n",
              "B -1.770584  0.695662 -0.479670 -0.836000  0.177477\n",
              "C -0.208711 -1.037963  0.197806 -0.859532 -0.295302\n",
              "D -1.123644  0.827014 -0.670611 -0.966687 -0.629303\n",
              "E -0.329187  0.462367  0.072301  0.217168 -0.598591\n",
              "F -0.594047 -1.112598 -0.013298 -0.049444  0.419095\n",
              "G  1.216281 -1.498905  0.416352  0.898640 -1.789240\n",
              "H  1.470903 -1.052643  0.038047  0.575211  2.135044\n",
              "I  0.781189  0.746870  1.095627 -1.719497 -0.689932\n",
              "J -0.541974  2.608786 -0.149848  0.647683  1.762130"
            ]
          },
          "metadata": {},
          "execution_count": 26
        }
      ]
    },
    {
      "cell_type": "code",
      "metadata": {
        "colab": {
          "base_uri": "https://localhost:8080/"
        },
        "id": "rrGWMAQwLUPb",
        "outputId": "1b4f8eb3-cbfb-47b6-a109-c25e676a0905"
      },
      "source": [
        "dataframe.columns"
      ],
      "execution_count": 27,
      "outputs": [
        {
          "output_type": "execute_result",
          "data": {
            "text/plain": [
              "Index(['Score1', 'Score2', 'Score3', 'Score4', 'Score5'], dtype='object')"
            ]
          },
          "metadata": {},
          "execution_count": 27
        }
      ]
    },
    {
      "cell_type": "code",
      "metadata": {
        "colab": {
          "base_uri": "https://localhost:8080/",
          "height": 357
        },
        "id": "aNrwpWTULXG9",
        "outputId": "76e9cb75-0bbf-4cc2-b325-da101a9b858b"
      },
      "source": [
        "dataframe[['Score1', 'Score2', 'Score5', 'Score3', 'Score4']]"
      ],
      "execution_count": 28,
      "outputs": [
        {
          "output_type": "execute_result",
          "data": {
            "text/html": [
              "<div>\n",
              "<style scoped>\n",
              "    .dataframe tbody tr th:only-of-type {\n",
              "        vertical-align: middle;\n",
              "    }\n",
              "\n",
              "    .dataframe tbody tr th {\n",
              "        vertical-align: top;\n",
              "    }\n",
              "\n",
              "    .dataframe thead th {\n",
              "        text-align: right;\n",
              "    }\n",
              "</style>\n",
              "<table border=\"1\" class=\"dataframe\">\n",
              "  <thead>\n",
              "    <tr style=\"text-align: right;\">\n",
              "      <th></th>\n",
              "      <th>Score1</th>\n",
              "      <th>Score2</th>\n",
              "      <th>Score5</th>\n",
              "      <th>Score3</th>\n",
              "      <th>Score4</th>\n",
              "    </tr>\n",
              "  </thead>\n",
              "  <tbody>\n",
              "    <tr>\n",
              "      <th>A</th>\n",
              "      <td>0.851100</td>\n",
              "      <td>-1.083754</td>\n",
              "      <td>-0.841003</td>\n",
              "      <td>1.136511</td>\n",
              "      <td>0.797334</td>\n",
              "    </tr>\n",
              "    <tr>\n",
              "      <th>B</th>\n",
              "      <td>-1.770584</td>\n",
              "      <td>0.695662</td>\n",
              "      <td>0.177477</td>\n",
              "      <td>-0.479670</td>\n",
              "      <td>-0.836000</td>\n",
              "    </tr>\n",
              "    <tr>\n",
              "      <th>C</th>\n",
              "      <td>-0.208711</td>\n",
              "      <td>-1.037963</td>\n",
              "      <td>-0.295302</td>\n",
              "      <td>0.197806</td>\n",
              "      <td>-0.859532</td>\n",
              "    </tr>\n",
              "    <tr>\n",
              "      <th>D</th>\n",
              "      <td>-1.123644</td>\n",
              "      <td>0.827014</td>\n",
              "      <td>-0.629303</td>\n",
              "      <td>-0.670611</td>\n",
              "      <td>-0.966687</td>\n",
              "    </tr>\n",
              "    <tr>\n",
              "      <th>E</th>\n",
              "      <td>-0.329187</td>\n",
              "      <td>0.462367</td>\n",
              "      <td>-0.598591</td>\n",
              "      <td>0.072301</td>\n",
              "      <td>0.217168</td>\n",
              "    </tr>\n",
              "    <tr>\n",
              "      <th>F</th>\n",
              "      <td>-0.594047</td>\n",
              "      <td>-1.112598</td>\n",
              "      <td>0.419095</td>\n",
              "      <td>-0.013298</td>\n",
              "      <td>-0.049444</td>\n",
              "    </tr>\n",
              "    <tr>\n",
              "      <th>G</th>\n",
              "      <td>1.216281</td>\n",
              "      <td>-1.498905</td>\n",
              "      <td>-1.789240</td>\n",
              "      <td>0.416352</td>\n",
              "      <td>0.898640</td>\n",
              "    </tr>\n",
              "    <tr>\n",
              "      <th>H</th>\n",
              "      <td>1.470903</td>\n",
              "      <td>-1.052643</td>\n",
              "      <td>2.135044</td>\n",
              "      <td>0.038047</td>\n",
              "      <td>0.575211</td>\n",
              "    </tr>\n",
              "    <tr>\n",
              "      <th>I</th>\n",
              "      <td>0.781189</td>\n",
              "      <td>0.746870</td>\n",
              "      <td>-0.689932</td>\n",
              "      <td>1.095627</td>\n",
              "      <td>-1.719497</td>\n",
              "    </tr>\n",
              "    <tr>\n",
              "      <th>J</th>\n",
              "      <td>-0.541974</td>\n",
              "      <td>2.608786</td>\n",
              "      <td>1.762130</td>\n",
              "      <td>-0.149848</td>\n",
              "      <td>0.647683</td>\n",
              "    </tr>\n",
              "  </tbody>\n",
              "</table>\n",
              "</div>"
            ],
            "text/plain": [
              "     Score1    Score2    Score5    Score3    Score4\n",
              "A  0.851100 -1.083754 -0.841003  1.136511  0.797334\n",
              "B -1.770584  0.695662  0.177477 -0.479670 -0.836000\n",
              "C -0.208711 -1.037963 -0.295302  0.197806 -0.859532\n",
              "D -1.123644  0.827014 -0.629303 -0.670611 -0.966687\n",
              "E -0.329187  0.462367 -0.598591  0.072301  0.217168\n",
              "F -0.594047 -1.112598  0.419095 -0.013298 -0.049444\n",
              "G  1.216281 -1.498905 -1.789240  0.416352  0.898640\n",
              "H  1.470903 -1.052643  2.135044  0.038047  0.575211\n",
              "I  0.781189  0.746870 -0.689932  1.095627 -1.719497\n",
              "J -0.541974  2.608786  1.762130 -0.149848  0.647683"
            ]
          },
          "metadata": {},
          "execution_count": 28
        }
      ]
    },
    {
      "cell_type": "code",
      "metadata": {
        "colab": {
          "base_uri": "https://localhost:8080/"
        },
        "id": "ZbccNjYNLZ-T",
        "outputId": "52b01eb8-79b6-4990-83ad-67755ecac315"
      },
      "source": [
        "# Selecting Rows\n",
        "\n",
        "dataframe.loc['A']"
      ],
      "execution_count": 29,
      "outputs": [
        {
          "output_type": "execute_result",
          "data": {
            "text/plain": [
              "Score1    0.851100\n",
              "Score2   -1.083754\n",
              "Score3    1.136511\n",
              "Score4    0.797334\n",
              "Score5   -0.841003\n",
              "Name: A, dtype: float64"
            ]
          },
          "metadata": {},
          "execution_count": 29
        }
      ]
    },
    {
      "cell_type": "code",
      "metadata": {
        "colab": {
          "base_uri": "https://localhost:8080/"
        },
        "id": "Ft20QeV7Lc4Y",
        "outputId": "8ce6eaf0-2d9d-408b-9f5e-3d927ff7ca9c"
      },
      "source": [
        "dataframe.iloc[0]"
      ],
      "execution_count": 30,
      "outputs": [
        {
          "output_type": "execute_result",
          "data": {
            "text/plain": [
              "Score1    0.851100\n",
              "Score2   -1.083754\n",
              "Score3    1.136511\n",
              "Score4    0.797334\n",
              "Score5   -0.841003\n",
              "Name: A, dtype: float64"
            ]
          },
          "metadata": {},
          "execution_count": 30
        }
      ]
    },
    {
      "cell_type": "code",
      "metadata": {
        "colab": {
          "base_uri": "https://localhost:8080/"
        },
        "id": "aX6jZPmGLfeT",
        "outputId": "ae0acc87-79f2-4254-a6d7-c8d25f9da81b"
      },
      "source": [
        "dataframe.loc['A', 'Score1']"
      ],
      "execution_count": 31,
      "outputs": [
        {
          "output_type": "execute_result",
          "data": {
            "text/plain": [
              "0.8511001489155461"
            ]
          },
          "metadata": {},
          "execution_count": 31
        }
      ]
    },
    {
      "cell_type": "code",
      "metadata": {
        "colab": {
          "base_uri": "https://localhost:8080/",
          "height": 110
        },
        "id": "HsfiyKApLiHO",
        "outputId": "05b491c2-c93e-409c-d520-d2acf60f069e"
      },
      "source": [
        "dataframe.loc[['A','B'], ['Score1', 'Score2']]"
      ],
      "execution_count": 32,
      "outputs": [
        {
          "output_type": "execute_result",
          "data": {
            "text/html": [
              "<div>\n",
              "<style scoped>\n",
              "    .dataframe tbody tr th:only-of-type {\n",
              "        vertical-align: middle;\n",
              "    }\n",
              "\n",
              "    .dataframe tbody tr th {\n",
              "        vertical-align: top;\n",
              "    }\n",
              "\n",
              "    .dataframe thead th {\n",
              "        text-align: right;\n",
              "    }\n",
              "</style>\n",
              "<table border=\"1\" class=\"dataframe\">\n",
              "  <thead>\n",
              "    <tr style=\"text-align: right;\">\n",
              "      <th></th>\n",
              "      <th>Score1</th>\n",
              "      <th>Score2</th>\n",
              "    </tr>\n",
              "  </thead>\n",
              "  <tbody>\n",
              "    <tr>\n",
              "      <th>A</th>\n",
              "      <td>0.851100</td>\n",
              "      <td>-1.083754</td>\n",
              "    </tr>\n",
              "    <tr>\n",
              "      <th>B</th>\n",
              "      <td>-1.770584</td>\n",
              "      <td>0.695662</td>\n",
              "    </tr>\n",
              "  </tbody>\n",
              "</table>\n",
              "</div>"
            ],
            "text/plain": [
              "     Score1    Score2\n",
              "A  0.851100 -1.083754\n",
              "B -1.770584  0.695662"
            ]
          },
          "metadata": {},
          "execution_count": 32
        }
      ]
    },
    {
      "cell_type": "code",
      "metadata": {
        "colab": {
          "base_uri": "https://localhost:8080/",
          "height": 357
        },
        "id": "W93HKLuwLlZ2",
        "outputId": "7280208e-fbf9-42ba-a341-69be86b871e6"
      },
      "source": [
        "dataframe > 0.5"
      ],
      "execution_count": 33,
      "outputs": [
        {
          "output_type": "execute_result",
          "data": {
            "text/html": [
              "<div>\n",
              "<style scoped>\n",
              "    .dataframe tbody tr th:only-of-type {\n",
              "        vertical-align: middle;\n",
              "    }\n",
              "\n",
              "    .dataframe tbody tr th {\n",
              "        vertical-align: top;\n",
              "    }\n",
              "\n",
              "    .dataframe thead th {\n",
              "        text-align: right;\n",
              "    }\n",
              "</style>\n",
              "<table border=\"1\" class=\"dataframe\">\n",
              "  <thead>\n",
              "    <tr style=\"text-align: right;\">\n",
              "      <th></th>\n",
              "      <th>Score1</th>\n",
              "      <th>Score2</th>\n",
              "      <th>Score3</th>\n",
              "      <th>Score4</th>\n",
              "      <th>Score5</th>\n",
              "    </tr>\n",
              "  </thead>\n",
              "  <tbody>\n",
              "    <tr>\n",
              "      <th>A</th>\n",
              "      <td>True</td>\n",
              "      <td>False</td>\n",
              "      <td>True</td>\n",
              "      <td>True</td>\n",
              "      <td>False</td>\n",
              "    </tr>\n",
              "    <tr>\n",
              "      <th>B</th>\n",
              "      <td>False</td>\n",
              "      <td>True</td>\n",
              "      <td>False</td>\n",
              "      <td>False</td>\n",
              "      <td>False</td>\n",
              "    </tr>\n",
              "    <tr>\n",
              "      <th>C</th>\n",
              "      <td>False</td>\n",
              "      <td>False</td>\n",
              "      <td>False</td>\n",
              "      <td>False</td>\n",
              "      <td>False</td>\n",
              "    </tr>\n",
              "    <tr>\n",
              "      <th>D</th>\n",
              "      <td>False</td>\n",
              "      <td>True</td>\n",
              "      <td>False</td>\n",
              "      <td>False</td>\n",
              "      <td>False</td>\n",
              "    </tr>\n",
              "    <tr>\n",
              "      <th>E</th>\n",
              "      <td>False</td>\n",
              "      <td>False</td>\n",
              "      <td>False</td>\n",
              "      <td>False</td>\n",
              "      <td>False</td>\n",
              "    </tr>\n",
              "    <tr>\n",
              "      <th>F</th>\n",
              "      <td>False</td>\n",
              "      <td>False</td>\n",
              "      <td>False</td>\n",
              "      <td>False</td>\n",
              "      <td>False</td>\n",
              "    </tr>\n",
              "    <tr>\n",
              "      <th>G</th>\n",
              "      <td>True</td>\n",
              "      <td>False</td>\n",
              "      <td>False</td>\n",
              "      <td>True</td>\n",
              "      <td>False</td>\n",
              "    </tr>\n",
              "    <tr>\n",
              "      <th>H</th>\n",
              "      <td>True</td>\n",
              "      <td>False</td>\n",
              "      <td>False</td>\n",
              "      <td>True</td>\n",
              "      <td>True</td>\n",
              "    </tr>\n",
              "    <tr>\n",
              "      <th>I</th>\n",
              "      <td>True</td>\n",
              "      <td>True</td>\n",
              "      <td>True</td>\n",
              "      <td>False</td>\n",
              "      <td>False</td>\n",
              "    </tr>\n",
              "    <tr>\n",
              "      <th>J</th>\n",
              "      <td>False</td>\n",
              "      <td>True</td>\n",
              "      <td>False</td>\n",
              "      <td>True</td>\n",
              "      <td>True</td>\n",
              "    </tr>\n",
              "  </tbody>\n",
              "</table>\n",
              "</div>"
            ],
            "text/plain": [
              "   Score1  Score2  Score3  Score4  Score5\n",
              "A    True   False    True    True   False\n",
              "B   False    True   False   False   False\n",
              "C   False   False   False   False   False\n",
              "D   False    True   False   False   False\n",
              "E   False   False   False   False   False\n",
              "F   False   False   False   False   False\n",
              "G    True   False   False    True   False\n",
              "H    True   False   False    True    True\n",
              "I    True    True    True   False   False\n",
              "J   False    True   False    True    True"
            ]
          },
          "metadata": {},
          "execution_count": 33
        }
      ]
    },
    {
      "cell_type": "code",
      "metadata": {
        "colab": {
          "base_uri": "https://localhost:8080/",
          "height": 357
        },
        "id": "k_2FW6siLosa",
        "outputId": "156c9de1-eeb4-4f1b-ac6c-99248ea29791"
      },
      "source": [
        "dataframe[dataframe > 0.5]"
      ],
      "execution_count": 34,
      "outputs": [
        {
          "output_type": "execute_result",
          "data": {
            "text/html": [
              "<div>\n",
              "<style scoped>\n",
              "    .dataframe tbody tr th:only-of-type {\n",
              "        vertical-align: middle;\n",
              "    }\n",
              "\n",
              "    .dataframe tbody tr th {\n",
              "        vertical-align: top;\n",
              "    }\n",
              "\n",
              "    .dataframe thead th {\n",
              "        text-align: right;\n",
              "    }\n",
              "</style>\n",
              "<table border=\"1\" class=\"dataframe\">\n",
              "  <thead>\n",
              "    <tr style=\"text-align: right;\">\n",
              "      <th></th>\n",
              "      <th>Score1</th>\n",
              "      <th>Score2</th>\n",
              "      <th>Score3</th>\n",
              "      <th>Score4</th>\n",
              "      <th>Score5</th>\n",
              "    </tr>\n",
              "  </thead>\n",
              "  <tbody>\n",
              "    <tr>\n",
              "      <th>A</th>\n",
              "      <td>0.851100</td>\n",
              "      <td>NaN</td>\n",
              "      <td>1.136511</td>\n",
              "      <td>0.797334</td>\n",
              "      <td>NaN</td>\n",
              "    </tr>\n",
              "    <tr>\n",
              "      <th>B</th>\n",
              "      <td>NaN</td>\n",
              "      <td>0.695662</td>\n",
              "      <td>NaN</td>\n",
              "      <td>NaN</td>\n",
              "      <td>NaN</td>\n",
              "    </tr>\n",
              "    <tr>\n",
              "      <th>C</th>\n",
              "      <td>NaN</td>\n",
              "      <td>NaN</td>\n",
              "      <td>NaN</td>\n",
              "      <td>NaN</td>\n",
              "      <td>NaN</td>\n",
              "    </tr>\n",
              "    <tr>\n",
              "      <th>D</th>\n",
              "      <td>NaN</td>\n",
              "      <td>0.827014</td>\n",
              "      <td>NaN</td>\n",
              "      <td>NaN</td>\n",
              "      <td>NaN</td>\n",
              "    </tr>\n",
              "    <tr>\n",
              "      <th>E</th>\n",
              "      <td>NaN</td>\n",
              "      <td>NaN</td>\n",
              "      <td>NaN</td>\n",
              "      <td>NaN</td>\n",
              "      <td>NaN</td>\n",
              "    </tr>\n",
              "    <tr>\n",
              "      <th>F</th>\n",
              "      <td>NaN</td>\n",
              "      <td>NaN</td>\n",
              "      <td>NaN</td>\n",
              "      <td>NaN</td>\n",
              "      <td>NaN</td>\n",
              "    </tr>\n",
              "    <tr>\n",
              "      <th>G</th>\n",
              "      <td>1.216281</td>\n",
              "      <td>NaN</td>\n",
              "      <td>NaN</td>\n",
              "      <td>0.898640</td>\n",
              "      <td>NaN</td>\n",
              "    </tr>\n",
              "    <tr>\n",
              "      <th>H</th>\n",
              "      <td>1.470903</td>\n",
              "      <td>NaN</td>\n",
              "      <td>NaN</td>\n",
              "      <td>0.575211</td>\n",
              "      <td>2.135044</td>\n",
              "    </tr>\n",
              "    <tr>\n",
              "      <th>I</th>\n",
              "      <td>0.781189</td>\n",
              "      <td>0.746870</td>\n",
              "      <td>1.095627</td>\n",
              "      <td>NaN</td>\n",
              "      <td>NaN</td>\n",
              "    </tr>\n",
              "    <tr>\n",
              "      <th>J</th>\n",
              "      <td>NaN</td>\n",
              "      <td>2.608786</td>\n",
              "      <td>NaN</td>\n",
              "      <td>0.647683</td>\n",
              "      <td>1.762130</td>\n",
              "    </tr>\n",
              "  </tbody>\n",
              "</table>\n",
              "</div>"
            ],
            "text/plain": [
              "     Score1    Score2    Score3    Score4    Score5\n",
              "A  0.851100       NaN  1.136511  0.797334       NaN\n",
              "B       NaN  0.695662       NaN       NaN       NaN\n",
              "C       NaN       NaN       NaN       NaN       NaN\n",
              "D       NaN  0.827014       NaN       NaN       NaN\n",
              "E       NaN       NaN       NaN       NaN       NaN\n",
              "F       NaN       NaN       NaN       NaN       NaN\n",
              "G  1.216281       NaN       NaN  0.898640       NaN\n",
              "H  1.470903       NaN       NaN  0.575211  2.135044\n",
              "I  0.781189  0.746870  1.095627       NaN       NaN\n",
              "J       NaN  2.608786       NaN  0.647683  1.762130"
            ]
          },
          "metadata": {},
          "execution_count": 34
        }
      ]
    },
    {
      "cell_type": "code",
      "metadata": {
        "colab": {
          "base_uri": "https://localhost:8080/"
        },
        "id": "BHp5EoyLLsnb",
        "outputId": "0c75a76f-f4e9-4c17-b274-c84500f46633"
      },
      "source": [
        "dataframe['Score1'] > 0.5"
      ],
      "execution_count": 35,
      "outputs": [
        {
          "output_type": "execute_result",
          "data": {
            "text/plain": [
              "A     True\n",
              "B    False\n",
              "C    False\n",
              "D    False\n",
              "E    False\n",
              "F    False\n",
              "G     True\n",
              "H     True\n",
              "I     True\n",
              "J    False\n",
              "Name: Score1, dtype: bool"
            ]
          },
          "metadata": {},
          "execution_count": 35
        }
      ]
    },
    {
      "cell_type": "code",
      "metadata": {
        "colab": {
          "base_uri": "https://localhost:8080/",
          "height": 172
        },
        "id": "Rj1MeW6QLwL5",
        "outputId": "3a65ba19-037e-4c04-ae24-a9297326651e"
      },
      "source": [
        "dataframe[dataframe['Score1'] > 0.5]"
      ],
      "execution_count": 36,
      "outputs": [
        {
          "output_type": "execute_result",
          "data": {
            "text/html": [
              "<div>\n",
              "<style scoped>\n",
              "    .dataframe tbody tr th:only-of-type {\n",
              "        vertical-align: middle;\n",
              "    }\n",
              "\n",
              "    .dataframe tbody tr th {\n",
              "        vertical-align: top;\n",
              "    }\n",
              "\n",
              "    .dataframe thead th {\n",
              "        text-align: right;\n",
              "    }\n",
              "</style>\n",
              "<table border=\"1\" class=\"dataframe\">\n",
              "  <thead>\n",
              "    <tr style=\"text-align: right;\">\n",
              "      <th></th>\n",
              "      <th>Score1</th>\n",
              "      <th>Score2</th>\n",
              "      <th>Score3</th>\n",
              "      <th>Score4</th>\n",
              "      <th>Score5</th>\n",
              "    </tr>\n",
              "  </thead>\n",
              "  <tbody>\n",
              "    <tr>\n",
              "      <th>A</th>\n",
              "      <td>0.851100</td>\n",
              "      <td>-1.083754</td>\n",
              "      <td>1.136511</td>\n",
              "      <td>0.797334</td>\n",
              "      <td>-0.841003</td>\n",
              "    </tr>\n",
              "    <tr>\n",
              "      <th>G</th>\n",
              "      <td>1.216281</td>\n",
              "      <td>-1.498905</td>\n",
              "      <td>0.416352</td>\n",
              "      <td>0.898640</td>\n",
              "      <td>-1.789240</td>\n",
              "    </tr>\n",
              "    <tr>\n",
              "      <th>H</th>\n",
              "      <td>1.470903</td>\n",
              "      <td>-1.052643</td>\n",
              "      <td>0.038047</td>\n",
              "      <td>0.575211</td>\n",
              "      <td>2.135044</td>\n",
              "    </tr>\n",
              "    <tr>\n",
              "      <th>I</th>\n",
              "      <td>0.781189</td>\n",
              "      <td>0.746870</td>\n",
              "      <td>1.095627</td>\n",
              "      <td>-1.719497</td>\n",
              "      <td>-0.689932</td>\n",
              "    </tr>\n",
              "  </tbody>\n",
              "</table>\n",
              "</div>"
            ],
            "text/plain": [
              "     Score1    Score2    Score3    Score4    Score5\n",
              "A  0.851100 -1.083754  1.136511  0.797334 -0.841003\n",
              "G  1.216281 -1.498905  0.416352  0.898640 -1.789240\n",
              "H  1.470903 -1.052643  0.038047  0.575211  2.135044\n",
              "I  0.781189  0.746870  1.095627 -1.719497 -0.689932"
            ]
          },
          "metadata": {},
          "execution_count": 36
        }
      ]
    },
    {
      "cell_type": "code",
      "metadata": {
        "colab": {
          "base_uri": "https://localhost:8080/",
          "height": 172
        },
        "id": "BVNGrFf0LzJX",
        "outputId": "5e064bd7-2015-49be-f51e-57ee2ba5e5d2"
      },
      "source": [
        "dataframe[dataframe['Score1'] > 0.5][['Score1', 'Score2']]"
      ],
      "execution_count": 37,
      "outputs": [
        {
          "output_type": "execute_result",
          "data": {
            "text/html": [
              "<div>\n",
              "<style scoped>\n",
              "    .dataframe tbody tr th:only-of-type {\n",
              "        vertical-align: middle;\n",
              "    }\n",
              "\n",
              "    .dataframe tbody tr th {\n",
              "        vertical-align: top;\n",
              "    }\n",
              "\n",
              "    .dataframe thead th {\n",
              "        text-align: right;\n",
              "    }\n",
              "</style>\n",
              "<table border=\"1\" class=\"dataframe\">\n",
              "  <thead>\n",
              "    <tr style=\"text-align: right;\">\n",
              "      <th></th>\n",
              "      <th>Score1</th>\n",
              "      <th>Score2</th>\n",
              "    </tr>\n",
              "  </thead>\n",
              "  <tbody>\n",
              "    <tr>\n",
              "      <th>A</th>\n",
              "      <td>0.851100</td>\n",
              "      <td>-1.083754</td>\n",
              "    </tr>\n",
              "    <tr>\n",
              "      <th>G</th>\n",
              "      <td>1.216281</td>\n",
              "      <td>-1.498905</td>\n",
              "    </tr>\n",
              "    <tr>\n",
              "      <th>H</th>\n",
              "      <td>1.470903</td>\n",
              "      <td>-1.052643</td>\n",
              "    </tr>\n",
              "    <tr>\n",
              "      <th>I</th>\n",
              "      <td>0.781189</td>\n",
              "      <td>0.746870</td>\n",
              "    </tr>\n",
              "  </tbody>\n",
              "</table>\n",
              "</div>"
            ],
            "text/plain": [
              "     Score1    Score2\n",
              "A  0.851100 -1.083754\n",
              "G  1.216281 -1.498905\n",
              "H  1.470903 -1.052643\n",
              "I  0.781189  0.746870"
            ]
          },
          "metadata": {},
          "execution_count": 37
        }
      ]
    },
    {
      "cell_type": "code",
      "metadata": {
        "colab": {
          "base_uri": "https://localhost:8080/",
          "height": 142
        },
        "id": "c_E6PHYNL3tb",
        "outputId": "b4cf64f2-8d14-464c-db80-2a4346f84f2b"
      },
      "source": [
        "dataframe[(dataframe['Score1'] > 0.5) & (dataframe['Score2'] < 0)]"
      ],
      "execution_count": 38,
      "outputs": [
        {
          "output_type": "execute_result",
          "data": {
            "text/html": [
              "<div>\n",
              "<style scoped>\n",
              "    .dataframe tbody tr th:only-of-type {\n",
              "        vertical-align: middle;\n",
              "    }\n",
              "\n",
              "    .dataframe tbody tr th {\n",
              "        vertical-align: top;\n",
              "    }\n",
              "\n",
              "    .dataframe thead th {\n",
              "        text-align: right;\n",
              "    }\n",
              "</style>\n",
              "<table border=\"1\" class=\"dataframe\">\n",
              "  <thead>\n",
              "    <tr style=\"text-align: right;\">\n",
              "      <th></th>\n",
              "      <th>Score1</th>\n",
              "      <th>Score2</th>\n",
              "      <th>Score3</th>\n",
              "      <th>Score4</th>\n",
              "      <th>Score5</th>\n",
              "    </tr>\n",
              "  </thead>\n",
              "  <tbody>\n",
              "    <tr>\n",
              "      <th>A</th>\n",
              "      <td>0.851100</td>\n",
              "      <td>-1.083754</td>\n",
              "      <td>1.136511</td>\n",
              "      <td>0.797334</td>\n",
              "      <td>-0.841003</td>\n",
              "    </tr>\n",
              "    <tr>\n",
              "      <th>G</th>\n",
              "      <td>1.216281</td>\n",
              "      <td>-1.498905</td>\n",
              "      <td>0.416352</td>\n",
              "      <td>0.898640</td>\n",
              "      <td>-1.789240</td>\n",
              "    </tr>\n",
              "    <tr>\n",
              "      <th>H</th>\n",
              "      <td>1.470903</td>\n",
              "      <td>-1.052643</td>\n",
              "      <td>0.038047</td>\n",
              "      <td>0.575211</td>\n",
              "      <td>2.135044</td>\n",
              "    </tr>\n",
              "  </tbody>\n",
              "</table>\n",
              "</div>"
            ],
            "text/plain": [
              "     Score1    Score2    Score3    Score4    Score5\n",
              "A  0.851100 -1.083754  1.136511  0.797334 -0.841003\n",
              "G  1.216281 -1.498905  0.416352  0.898640 -1.789240\n",
              "H  1.470903 -1.052643  0.038047  0.575211  2.135044"
            ]
          },
          "metadata": {},
          "execution_count": 38
        }
      ]
    },
    {
      "cell_type": "code",
      "metadata": {
        "colab": {
          "base_uri": "https://localhost:8080/"
        },
        "id": "tEjs_4g8L7AL",
        "outputId": "056e1e23-56c5-4393-d0dc-97b716f07cae"
      },
      "source": [
        "dataframe.index"
      ],
      "execution_count": 39,
      "outputs": [
        {
          "output_type": "execute_result",
          "data": {
            "text/plain": [
              "Index(['A', 'B', 'C', 'D', 'E', 'F', 'G', 'H', 'I', 'J'], dtype='object')"
            ]
          },
          "metadata": {},
          "execution_count": 39
        }
      ]
    },
    {
      "cell_type": "code",
      "metadata": {
        "colab": {
          "base_uri": "https://localhost:8080/",
          "height": 357
        },
        "id": "Fyb2NYSuL9xb",
        "outputId": "6b8a2d77-bbd7-4079-c1bf-3b723f65c280"
      },
      "source": [
        "dataframe.reset_index()"
      ],
      "execution_count": 40,
      "outputs": [
        {
          "output_type": "execute_result",
          "data": {
            "text/html": [
              "<div>\n",
              "<style scoped>\n",
              "    .dataframe tbody tr th:only-of-type {\n",
              "        vertical-align: middle;\n",
              "    }\n",
              "\n",
              "    .dataframe tbody tr th {\n",
              "        vertical-align: top;\n",
              "    }\n",
              "\n",
              "    .dataframe thead th {\n",
              "        text-align: right;\n",
              "    }\n",
              "</style>\n",
              "<table border=\"1\" class=\"dataframe\">\n",
              "  <thead>\n",
              "    <tr style=\"text-align: right;\">\n",
              "      <th></th>\n",
              "      <th>index</th>\n",
              "      <th>Score1</th>\n",
              "      <th>Score2</th>\n",
              "      <th>Score3</th>\n",
              "      <th>Score4</th>\n",
              "      <th>Score5</th>\n",
              "    </tr>\n",
              "  </thead>\n",
              "  <tbody>\n",
              "    <tr>\n",
              "      <th>0</th>\n",
              "      <td>A</td>\n",
              "      <td>0.851100</td>\n",
              "      <td>-1.083754</td>\n",
              "      <td>1.136511</td>\n",
              "      <td>0.797334</td>\n",
              "      <td>-0.841003</td>\n",
              "    </tr>\n",
              "    <tr>\n",
              "      <th>1</th>\n",
              "      <td>B</td>\n",
              "      <td>-1.770584</td>\n",
              "      <td>0.695662</td>\n",
              "      <td>-0.479670</td>\n",
              "      <td>-0.836000</td>\n",
              "      <td>0.177477</td>\n",
              "    </tr>\n",
              "    <tr>\n",
              "      <th>2</th>\n",
              "      <td>C</td>\n",
              "      <td>-0.208711</td>\n",
              "      <td>-1.037963</td>\n",
              "      <td>0.197806</td>\n",
              "      <td>-0.859532</td>\n",
              "      <td>-0.295302</td>\n",
              "    </tr>\n",
              "    <tr>\n",
              "      <th>3</th>\n",
              "      <td>D</td>\n",
              "      <td>-1.123644</td>\n",
              "      <td>0.827014</td>\n",
              "      <td>-0.670611</td>\n",
              "      <td>-0.966687</td>\n",
              "      <td>-0.629303</td>\n",
              "    </tr>\n",
              "    <tr>\n",
              "      <th>4</th>\n",
              "      <td>E</td>\n",
              "      <td>-0.329187</td>\n",
              "      <td>0.462367</td>\n",
              "      <td>0.072301</td>\n",
              "      <td>0.217168</td>\n",
              "      <td>-0.598591</td>\n",
              "    </tr>\n",
              "    <tr>\n",
              "      <th>5</th>\n",
              "      <td>F</td>\n",
              "      <td>-0.594047</td>\n",
              "      <td>-1.112598</td>\n",
              "      <td>-0.013298</td>\n",
              "      <td>-0.049444</td>\n",
              "      <td>0.419095</td>\n",
              "    </tr>\n",
              "    <tr>\n",
              "      <th>6</th>\n",
              "      <td>G</td>\n",
              "      <td>1.216281</td>\n",
              "      <td>-1.498905</td>\n",
              "      <td>0.416352</td>\n",
              "      <td>0.898640</td>\n",
              "      <td>-1.789240</td>\n",
              "    </tr>\n",
              "    <tr>\n",
              "      <th>7</th>\n",
              "      <td>H</td>\n",
              "      <td>1.470903</td>\n",
              "      <td>-1.052643</td>\n",
              "      <td>0.038047</td>\n",
              "      <td>0.575211</td>\n",
              "      <td>2.135044</td>\n",
              "    </tr>\n",
              "    <tr>\n",
              "      <th>8</th>\n",
              "      <td>I</td>\n",
              "      <td>0.781189</td>\n",
              "      <td>0.746870</td>\n",
              "      <td>1.095627</td>\n",
              "      <td>-1.719497</td>\n",
              "      <td>-0.689932</td>\n",
              "    </tr>\n",
              "    <tr>\n",
              "      <th>9</th>\n",
              "      <td>J</td>\n",
              "      <td>-0.541974</td>\n",
              "      <td>2.608786</td>\n",
              "      <td>-0.149848</td>\n",
              "      <td>0.647683</td>\n",
              "      <td>1.762130</td>\n",
              "    </tr>\n",
              "  </tbody>\n",
              "</table>\n",
              "</div>"
            ],
            "text/plain": [
              "  index    Score1    Score2    Score3    Score4    Score5\n",
              "0     A  0.851100 -1.083754  1.136511  0.797334 -0.841003\n",
              "1     B -1.770584  0.695662 -0.479670 -0.836000  0.177477\n",
              "2     C -0.208711 -1.037963  0.197806 -0.859532 -0.295302\n",
              "3     D -1.123644  0.827014 -0.670611 -0.966687 -0.629303\n",
              "4     E -0.329187  0.462367  0.072301  0.217168 -0.598591\n",
              "5     F -0.594047 -1.112598 -0.013298 -0.049444  0.419095\n",
              "6     G  1.216281 -1.498905  0.416352  0.898640 -1.789240\n",
              "7     H  1.470903 -1.052643  0.038047  0.575211  2.135044\n",
              "8     I  0.781189  0.746870  1.095627 -1.719497 -0.689932\n",
              "9     J -0.541974  2.608786 -0.149848  0.647683  1.762130"
            ]
          },
          "metadata": {},
          "execution_count": 40
        }
      ]
    },
    {
      "cell_type": "code",
      "metadata": {
        "colab": {
          "base_uri": "https://localhost:8080/",
          "height": 357
        },
        "id": "OUmAVkq4MAdB",
        "outputId": "f2e3159b-6ee3-4f3e-9f5e-42413283e020"
      },
      "source": [
        "dataframe\n"
      ],
      "execution_count": 41,
      "outputs": [
        {
          "output_type": "execute_result",
          "data": {
            "text/html": [
              "<div>\n",
              "<style scoped>\n",
              "    .dataframe tbody tr th:only-of-type {\n",
              "        vertical-align: middle;\n",
              "    }\n",
              "\n",
              "    .dataframe tbody tr th {\n",
              "        vertical-align: top;\n",
              "    }\n",
              "\n",
              "    .dataframe thead th {\n",
              "        text-align: right;\n",
              "    }\n",
              "</style>\n",
              "<table border=\"1\" class=\"dataframe\">\n",
              "  <thead>\n",
              "    <tr style=\"text-align: right;\">\n",
              "      <th></th>\n",
              "      <th>Score1</th>\n",
              "      <th>Score2</th>\n",
              "      <th>Score3</th>\n",
              "      <th>Score4</th>\n",
              "      <th>Score5</th>\n",
              "    </tr>\n",
              "  </thead>\n",
              "  <tbody>\n",
              "    <tr>\n",
              "      <th>A</th>\n",
              "      <td>0.851100</td>\n",
              "      <td>-1.083754</td>\n",
              "      <td>1.136511</td>\n",
              "      <td>0.797334</td>\n",
              "      <td>-0.841003</td>\n",
              "    </tr>\n",
              "    <tr>\n",
              "      <th>B</th>\n",
              "      <td>-1.770584</td>\n",
              "      <td>0.695662</td>\n",
              "      <td>-0.479670</td>\n",
              "      <td>-0.836000</td>\n",
              "      <td>0.177477</td>\n",
              "    </tr>\n",
              "    <tr>\n",
              "      <th>C</th>\n",
              "      <td>-0.208711</td>\n",
              "      <td>-1.037963</td>\n",
              "      <td>0.197806</td>\n",
              "      <td>-0.859532</td>\n",
              "      <td>-0.295302</td>\n",
              "    </tr>\n",
              "    <tr>\n",
              "      <th>D</th>\n",
              "      <td>-1.123644</td>\n",
              "      <td>0.827014</td>\n",
              "      <td>-0.670611</td>\n",
              "      <td>-0.966687</td>\n",
              "      <td>-0.629303</td>\n",
              "    </tr>\n",
              "    <tr>\n",
              "      <th>E</th>\n",
              "      <td>-0.329187</td>\n",
              "      <td>0.462367</td>\n",
              "      <td>0.072301</td>\n",
              "      <td>0.217168</td>\n",
              "      <td>-0.598591</td>\n",
              "    </tr>\n",
              "    <tr>\n",
              "      <th>F</th>\n",
              "      <td>-0.594047</td>\n",
              "      <td>-1.112598</td>\n",
              "      <td>-0.013298</td>\n",
              "      <td>-0.049444</td>\n",
              "      <td>0.419095</td>\n",
              "    </tr>\n",
              "    <tr>\n",
              "      <th>G</th>\n",
              "      <td>1.216281</td>\n",
              "      <td>-1.498905</td>\n",
              "      <td>0.416352</td>\n",
              "      <td>0.898640</td>\n",
              "      <td>-1.789240</td>\n",
              "    </tr>\n",
              "    <tr>\n",
              "      <th>H</th>\n",
              "      <td>1.470903</td>\n",
              "      <td>-1.052643</td>\n",
              "      <td>0.038047</td>\n",
              "      <td>0.575211</td>\n",
              "      <td>2.135044</td>\n",
              "    </tr>\n",
              "    <tr>\n",
              "      <th>I</th>\n",
              "      <td>0.781189</td>\n",
              "      <td>0.746870</td>\n",
              "      <td>1.095627</td>\n",
              "      <td>-1.719497</td>\n",
              "      <td>-0.689932</td>\n",
              "    </tr>\n",
              "    <tr>\n",
              "      <th>J</th>\n",
              "      <td>-0.541974</td>\n",
              "      <td>2.608786</td>\n",
              "      <td>-0.149848</td>\n",
              "      <td>0.647683</td>\n",
              "      <td>1.762130</td>\n",
              "    </tr>\n",
              "  </tbody>\n",
              "</table>\n",
              "</div>"
            ],
            "text/plain": [
              "     Score1    Score2    Score3    Score4    Score5\n",
              "A  0.851100 -1.083754  1.136511  0.797334 -0.841003\n",
              "B -1.770584  0.695662 -0.479670 -0.836000  0.177477\n",
              "C -0.208711 -1.037963  0.197806 -0.859532 -0.295302\n",
              "D -1.123644  0.827014 -0.670611 -0.966687 -0.629303\n",
              "E -0.329187  0.462367  0.072301  0.217168 -0.598591\n",
              "F -0.594047 -1.112598 -0.013298 -0.049444  0.419095\n",
              "G  1.216281 -1.498905  0.416352  0.898640 -1.789240\n",
              "H  1.470903 -1.052643  0.038047  0.575211  2.135044\n",
              "I  0.781189  0.746870  1.095627 -1.719497 -0.689932\n",
              "J -0.541974  2.608786 -0.149848  0.647683  1.762130"
            ]
          },
          "metadata": {},
          "execution_count": 41
        }
      ]
    },
    {
      "cell_type": "code",
      "metadata": {
        "id": "JIQKyx0oMDpC"
      },
      "source": [
        "# Setting new index value\n",
        "newindex = 'IND JP CAN GE IT PL FY IU RT IP'.split()"
      ],
      "execution_count": 42,
      "outputs": []
    },
    {
      "cell_type": "code",
      "metadata": {
        "id": "Yu5MV4gkMGio"
      },
      "source": [
        "dataframe['Countries'] = newindex"
      ],
      "execution_count": 43,
      "outputs": []
    },
    {
      "cell_type": "code",
      "metadata": {
        "colab": {
          "base_uri": "https://localhost:8080/",
          "height": 357
        },
        "id": "4PfBLNEuMJY3",
        "outputId": "1936e4e3-ef7e-47e4-a9d9-248815d6f9bd"
      },
      "source": [
        "dataframe"
      ],
      "execution_count": 44,
      "outputs": [
        {
          "output_type": "execute_result",
          "data": {
            "text/html": [
              "<div>\n",
              "<style scoped>\n",
              "    .dataframe tbody tr th:only-of-type {\n",
              "        vertical-align: middle;\n",
              "    }\n",
              "\n",
              "    .dataframe tbody tr th {\n",
              "        vertical-align: top;\n",
              "    }\n",
              "\n",
              "    .dataframe thead th {\n",
              "        text-align: right;\n",
              "    }\n",
              "</style>\n",
              "<table border=\"1\" class=\"dataframe\">\n",
              "  <thead>\n",
              "    <tr style=\"text-align: right;\">\n",
              "      <th></th>\n",
              "      <th>Score1</th>\n",
              "      <th>Score2</th>\n",
              "      <th>Score3</th>\n",
              "      <th>Score4</th>\n",
              "      <th>Score5</th>\n",
              "      <th>Countries</th>\n",
              "    </tr>\n",
              "  </thead>\n",
              "  <tbody>\n",
              "    <tr>\n",
              "      <th>A</th>\n",
              "      <td>0.851100</td>\n",
              "      <td>-1.083754</td>\n",
              "      <td>1.136511</td>\n",
              "      <td>0.797334</td>\n",
              "      <td>-0.841003</td>\n",
              "      <td>IND</td>\n",
              "    </tr>\n",
              "    <tr>\n",
              "      <th>B</th>\n",
              "      <td>-1.770584</td>\n",
              "      <td>0.695662</td>\n",
              "      <td>-0.479670</td>\n",
              "      <td>-0.836000</td>\n",
              "      <td>0.177477</td>\n",
              "      <td>JP</td>\n",
              "    </tr>\n",
              "    <tr>\n",
              "      <th>C</th>\n",
              "      <td>-0.208711</td>\n",
              "      <td>-1.037963</td>\n",
              "      <td>0.197806</td>\n",
              "      <td>-0.859532</td>\n",
              "      <td>-0.295302</td>\n",
              "      <td>CAN</td>\n",
              "    </tr>\n",
              "    <tr>\n",
              "      <th>D</th>\n",
              "      <td>-1.123644</td>\n",
              "      <td>0.827014</td>\n",
              "      <td>-0.670611</td>\n",
              "      <td>-0.966687</td>\n",
              "      <td>-0.629303</td>\n",
              "      <td>GE</td>\n",
              "    </tr>\n",
              "    <tr>\n",
              "      <th>E</th>\n",
              "      <td>-0.329187</td>\n",
              "      <td>0.462367</td>\n",
              "      <td>0.072301</td>\n",
              "      <td>0.217168</td>\n",
              "      <td>-0.598591</td>\n",
              "      <td>IT</td>\n",
              "    </tr>\n",
              "    <tr>\n",
              "      <th>F</th>\n",
              "      <td>-0.594047</td>\n",
              "      <td>-1.112598</td>\n",
              "      <td>-0.013298</td>\n",
              "      <td>-0.049444</td>\n",
              "      <td>0.419095</td>\n",
              "      <td>PL</td>\n",
              "    </tr>\n",
              "    <tr>\n",
              "      <th>G</th>\n",
              "      <td>1.216281</td>\n",
              "      <td>-1.498905</td>\n",
              "      <td>0.416352</td>\n",
              "      <td>0.898640</td>\n",
              "      <td>-1.789240</td>\n",
              "      <td>FY</td>\n",
              "    </tr>\n",
              "    <tr>\n",
              "      <th>H</th>\n",
              "      <td>1.470903</td>\n",
              "      <td>-1.052643</td>\n",
              "      <td>0.038047</td>\n",
              "      <td>0.575211</td>\n",
              "      <td>2.135044</td>\n",
              "      <td>IU</td>\n",
              "    </tr>\n",
              "    <tr>\n",
              "      <th>I</th>\n",
              "      <td>0.781189</td>\n",
              "      <td>0.746870</td>\n",
              "      <td>1.095627</td>\n",
              "      <td>-1.719497</td>\n",
              "      <td>-0.689932</td>\n",
              "      <td>RT</td>\n",
              "    </tr>\n",
              "    <tr>\n",
              "      <th>J</th>\n",
              "      <td>-0.541974</td>\n",
              "      <td>2.608786</td>\n",
              "      <td>-0.149848</td>\n",
              "      <td>0.647683</td>\n",
              "      <td>1.762130</td>\n",
              "      <td>IP</td>\n",
              "    </tr>\n",
              "  </tbody>\n",
              "</table>\n",
              "</div>"
            ],
            "text/plain": [
              "     Score1    Score2    Score3    Score4    Score5 Countries\n",
              "A  0.851100 -1.083754  1.136511  0.797334 -0.841003       IND\n",
              "B -1.770584  0.695662 -0.479670 -0.836000  0.177477        JP\n",
              "C -0.208711 -1.037963  0.197806 -0.859532 -0.295302       CAN\n",
              "D -1.123644  0.827014 -0.670611 -0.966687 -0.629303        GE\n",
              "E -0.329187  0.462367  0.072301  0.217168 -0.598591        IT\n",
              "F -0.594047 -1.112598 -0.013298 -0.049444  0.419095        PL\n",
              "G  1.216281 -1.498905  0.416352  0.898640 -1.789240        FY\n",
              "H  1.470903 -1.052643  0.038047  0.575211  2.135044        IU\n",
              "I  0.781189  0.746870  1.095627 -1.719497 -0.689932        RT\n",
              "J -0.541974  2.608786 -0.149848  0.647683  1.762130        IP"
            ]
          },
          "metadata": {},
          "execution_count": 44
        }
      ]
    },
    {
      "cell_type": "code",
      "metadata": {
        "colab": {
          "base_uri": "https://localhost:8080/",
          "height": 388
        },
        "id": "AyPFA80-MM0M",
        "outputId": "1cf7485b-fd19-487f-98a6-5053e2d29382"
      },
      "source": [
        "dataframe.set_index('Countries')"
      ],
      "execution_count": 45,
      "outputs": [
        {
          "output_type": "execute_result",
          "data": {
            "text/html": [
              "<div>\n",
              "<style scoped>\n",
              "    .dataframe tbody tr th:only-of-type {\n",
              "        vertical-align: middle;\n",
              "    }\n",
              "\n",
              "    .dataframe tbody tr th {\n",
              "        vertical-align: top;\n",
              "    }\n",
              "\n",
              "    .dataframe thead th {\n",
              "        text-align: right;\n",
              "    }\n",
              "</style>\n",
              "<table border=\"1\" class=\"dataframe\">\n",
              "  <thead>\n",
              "    <tr style=\"text-align: right;\">\n",
              "      <th></th>\n",
              "      <th>Score1</th>\n",
              "      <th>Score2</th>\n",
              "      <th>Score3</th>\n",
              "      <th>Score4</th>\n",
              "      <th>Score5</th>\n",
              "    </tr>\n",
              "    <tr>\n",
              "      <th>Countries</th>\n",
              "      <th></th>\n",
              "      <th></th>\n",
              "      <th></th>\n",
              "      <th></th>\n",
              "      <th></th>\n",
              "    </tr>\n",
              "  </thead>\n",
              "  <tbody>\n",
              "    <tr>\n",
              "      <th>IND</th>\n",
              "      <td>0.851100</td>\n",
              "      <td>-1.083754</td>\n",
              "      <td>1.136511</td>\n",
              "      <td>0.797334</td>\n",
              "      <td>-0.841003</td>\n",
              "    </tr>\n",
              "    <tr>\n",
              "      <th>JP</th>\n",
              "      <td>-1.770584</td>\n",
              "      <td>0.695662</td>\n",
              "      <td>-0.479670</td>\n",
              "      <td>-0.836000</td>\n",
              "      <td>0.177477</td>\n",
              "    </tr>\n",
              "    <tr>\n",
              "      <th>CAN</th>\n",
              "      <td>-0.208711</td>\n",
              "      <td>-1.037963</td>\n",
              "      <td>0.197806</td>\n",
              "      <td>-0.859532</td>\n",
              "      <td>-0.295302</td>\n",
              "    </tr>\n",
              "    <tr>\n",
              "      <th>GE</th>\n",
              "      <td>-1.123644</td>\n",
              "      <td>0.827014</td>\n",
              "      <td>-0.670611</td>\n",
              "      <td>-0.966687</td>\n",
              "      <td>-0.629303</td>\n",
              "    </tr>\n",
              "    <tr>\n",
              "      <th>IT</th>\n",
              "      <td>-0.329187</td>\n",
              "      <td>0.462367</td>\n",
              "      <td>0.072301</td>\n",
              "      <td>0.217168</td>\n",
              "      <td>-0.598591</td>\n",
              "    </tr>\n",
              "    <tr>\n",
              "      <th>PL</th>\n",
              "      <td>-0.594047</td>\n",
              "      <td>-1.112598</td>\n",
              "      <td>-0.013298</td>\n",
              "      <td>-0.049444</td>\n",
              "      <td>0.419095</td>\n",
              "    </tr>\n",
              "    <tr>\n",
              "      <th>FY</th>\n",
              "      <td>1.216281</td>\n",
              "      <td>-1.498905</td>\n",
              "      <td>0.416352</td>\n",
              "      <td>0.898640</td>\n",
              "      <td>-1.789240</td>\n",
              "    </tr>\n",
              "    <tr>\n",
              "      <th>IU</th>\n",
              "      <td>1.470903</td>\n",
              "      <td>-1.052643</td>\n",
              "      <td>0.038047</td>\n",
              "      <td>0.575211</td>\n",
              "      <td>2.135044</td>\n",
              "    </tr>\n",
              "    <tr>\n",
              "      <th>RT</th>\n",
              "      <td>0.781189</td>\n",
              "      <td>0.746870</td>\n",
              "      <td>1.095627</td>\n",
              "      <td>-1.719497</td>\n",
              "      <td>-0.689932</td>\n",
              "    </tr>\n",
              "    <tr>\n",
              "      <th>IP</th>\n",
              "      <td>-0.541974</td>\n",
              "      <td>2.608786</td>\n",
              "      <td>-0.149848</td>\n",
              "      <td>0.647683</td>\n",
              "      <td>1.762130</td>\n",
              "    </tr>\n",
              "  </tbody>\n",
              "</table>\n",
              "</div>"
            ],
            "text/plain": [
              "             Score1    Score2    Score3    Score4    Score5\n",
              "Countries                                                  \n",
              "IND        0.851100 -1.083754  1.136511  0.797334 -0.841003\n",
              "JP        -1.770584  0.695662 -0.479670 -0.836000  0.177477\n",
              "CAN       -0.208711 -1.037963  0.197806 -0.859532 -0.295302\n",
              "GE        -1.123644  0.827014 -0.670611 -0.966687 -0.629303\n",
              "IT        -0.329187  0.462367  0.072301  0.217168 -0.598591\n",
              "PL        -0.594047 -1.112598 -0.013298 -0.049444  0.419095\n",
              "FY         1.216281 -1.498905  0.416352  0.898640 -1.789240\n",
              "IU         1.470903 -1.052643  0.038047  0.575211  2.135044\n",
              "RT         0.781189  0.746870  1.095627 -1.719497 -0.689932\n",
              "IP        -0.541974  2.608786 -0.149848  0.647683  1.762130"
            ]
          },
          "metadata": {},
          "execution_count": 45
        }
      ]
    },
    {
      "cell_type": "code",
      "metadata": {
        "colab": {
          "base_uri": "https://localhost:8080/",
          "height": 357
        },
        "id": "nFBExQ7UMPlJ",
        "outputId": "bee3bf58-5100-48d7-aa3e-5647ffd9c919"
      },
      "source": [
        "dataframe"
      ],
      "execution_count": 46,
      "outputs": [
        {
          "output_type": "execute_result",
          "data": {
            "text/html": [
              "<div>\n",
              "<style scoped>\n",
              "    .dataframe tbody tr th:only-of-type {\n",
              "        vertical-align: middle;\n",
              "    }\n",
              "\n",
              "    .dataframe tbody tr th {\n",
              "        vertical-align: top;\n",
              "    }\n",
              "\n",
              "    .dataframe thead th {\n",
              "        text-align: right;\n",
              "    }\n",
              "</style>\n",
              "<table border=\"1\" class=\"dataframe\">\n",
              "  <thead>\n",
              "    <tr style=\"text-align: right;\">\n",
              "      <th></th>\n",
              "      <th>Score1</th>\n",
              "      <th>Score2</th>\n",
              "      <th>Score3</th>\n",
              "      <th>Score4</th>\n",
              "      <th>Score5</th>\n",
              "      <th>Countries</th>\n",
              "    </tr>\n",
              "  </thead>\n",
              "  <tbody>\n",
              "    <tr>\n",
              "      <th>A</th>\n",
              "      <td>0.851100</td>\n",
              "      <td>-1.083754</td>\n",
              "      <td>1.136511</td>\n",
              "      <td>0.797334</td>\n",
              "      <td>-0.841003</td>\n",
              "      <td>IND</td>\n",
              "    </tr>\n",
              "    <tr>\n",
              "      <th>B</th>\n",
              "      <td>-1.770584</td>\n",
              "      <td>0.695662</td>\n",
              "      <td>-0.479670</td>\n",
              "      <td>-0.836000</td>\n",
              "      <td>0.177477</td>\n",
              "      <td>JP</td>\n",
              "    </tr>\n",
              "    <tr>\n",
              "      <th>C</th>\n",
              "      <td>-0.208711</td>\n",
              "      <td>-1.037963</td>\n",
              "      <td>0.197806</td>\n",
              "      <td>-0.859532</td>\n",
              "      <td>-0.295302</td>\n",
              "      <td>CAN</td>\n",
              "    </tr>\n",
              "    <tr>\n",
              "      <th>D</th>\n",
              "      <td>-1.123644</td>\n",
              "      <td>0.827014</td>\n",
              "      <td>-0.670611</td>\n",
              "      <td>-0.966687</td>\n",
              "      <td>-0.629303</td>\n",
              "      <td>GE</td>\n",
              "    </tr>\n",
              "    <tr>\n",
              "      <th>E</th>\n",
              "      <td>-0.329187</td>\n",
              "      <td>0.462367</td>\n",
              "      <td>0.072301</td>\n",
              "      <td>0.217168</td>\n",
              "      <td>-0.598591</td>\n",
              "      <td>IT</td>\n",
              "    </tr>\n",
              "    <tr>\n",
              "      <th>F</th>\n",
              "      <td>-0.594047</td>\n",
              "      <td>-1.112598</td>\n",
              "      <td>-0.013298</td>\n",
              "      <td>-0.049444</td>\n",
              "      <td>0.419095</td>\n",
              "      <td>PL</td>\n",
              "    </tr>\n",
              "    <tr>\n",
              "      <th>G</th>\n",
              "      <td>1.216281</td>\n",
              "      <td>-1.498905</td>\n",
              "      <td>0.416352</td>\n",
              "      <td>0.898640</td>\n",
              "      <td>-1.789240</td>\n",
              "      <td>FY</td>\n",
              "    </tr>\n",
              "    <tr>\n",
              "      <th>H</th>\n",
              "      <td>1.470903</td>\n",
              "      <td>-1.052643</td>\n",
              "      <td>0.038047</td>\n",
              "      <td>0.575211</td>\n",
              "      <td>2.135044</td>\n",
              "      <td>IU</td>\n",
              "    </tr>\n",
              "    <tr>\n",
              "      <th>I</th>\n",
              "      <td>0.781189</td>\n",
              "      <td>0.746870</td>\n",
              "      <td>1.095627</td>\n",
              "      <td>-1.719497</td>\n",
              "      <td>-0.689932</td>\n",
              "      <td>RT</td>\n",
              "    </tr>\n",
              "    <tr>\n",
              "      <th>J</th>\n",
              "      <td>-0.541974</td>\n",
              "      <td>2.608786</td>\n",
              "      <td>-0.149848</td>\n",
              "      <td>0.647683</td>\n",
              "      <td>1.762130</td>\n",
              "      <td>IP</td>\n",
              "    </tr>\n",
              "  </tbody>\n",
              "</table>\n",
              "</div>"
            ],
            "text/plain": [
              "     Score1    Score2    Score3    Score4    Score5 Countries\n",
              "A  0.851100 -1.083754  1.136511  0.797334 -0.841003       IND\n",
              "B -1.770584  0.695662 -0.479670 -0.836000  0.177477        JP\n",
              "C -0.208711 -1.037963  0.197806 -0.859532 -0.295302       CAN\n",
              "D -1.123644  0.827014 -0.670611 -0.966687 -0.629303        GE\n",
              "E -0.329187  0.462367  0.072301  0.217168 -0.598591        IT\n",
              "F -0.594047 -1.112598 -0.013298 -0.049444  0.419095        PL\n",
              "G  1.216281 -1.498905  0.416352  0.898640 -1.789240        FY\n",
              "H  1.470903 -1.052643  0.038047  0.575211  2.135044        IU\n",
              "I  0.781189  0.746870  1.095627 -1.719497 -0.689932        RT\n",
              "J -0.541974  2.608786 -0.149848  0.647683  1.762130        IP"
            ]
          },
          "metadata": {},
          "execution_count": 46
        }
      ]
    },
    {
      "cell_type": "code",
      "metadata": {
        "id": "CCxDFxCmMV8L"
      },
      "source": [
        "dataframe.set_index('Countries', inplace=True)"
      ],
      "execution_count": 47,
      "outputs": []
    },
    {
      "cell_type": "code",
      "metadata": {
        "colab": {
          "base_uri": "https://localhost:8080/",
          "height": 388
        },
        "id": "_KB_0x8XMYcm",
        "outputId": "785f6ea8-7068-4b90-f5cf-9d425f04d0fe"
      },
      "source": [
        "dataframe"
      ],
      "execution_count": 48,
      "outputs": [
        {
          "output_type": "execute_result",
          "data": {
            "text/html": [
              "<div>\n",
              "<style scoped>\n",
              "    .dataframe tbody tr th:only-of-type {\n",
              "        vertical-align: middle;\n",
              "    }\n",
              "\n",
              "    .dataframe tbody tr th {\n",
              "        vertical-align: top;\n",
              "    }\n",
              "\n",
              "    .dataframe thead th {\n",
              "        text-align: right;\n",
              "    }\n",
              "</style>\n",
              "<table border=\"1\" class=\"dataframe\">\n",
              "  <thead>\n",
              "    <tr style=\"text-align: right;\">\n",
              "      <th></th>\n",
              "      <th>Score1</th>\n",
              "      <th>Score2</th>\n",
              "      <th>Score3</th>\n",
              "      <th>Score4</th>\n",
              "      <th>Score5</th>\n",
              "    </tr>\n",
              "    <tr>\n",
              "      <th>Countries</th>\n",
              "      <th></th>\n",
              "      <th></th>\n",
              "      <th></th>\n",
              "      <th></th>\n",
              "      <th></th>\n",
              "    </tr>\n",
              "  </thead>\n",
              "  <tbody>\n",
              "    <tr>\n",
              "      <th>IND</th>\n",
              "      <td>0.851100</td>\n",
              "      <td>-1.083754</td>\n",
              "      <td>1.136511</td>\n",
              "      <td>0.797334</td>\n",
              "      <td>-0.841003</td>\n",
              "    </tr>\n",
              "    <tr>\n",
              "      <th>JP</th>\n",
              "      <td>-1.770584</td>\n",
              "      <td>0.695662</td>\n",
              "      <td>-0.479670</td>\n",
              "      <td>-0.836000</td>\n",
              "      <td>0.177477</td>\n",
              "    </tr>\n",
              "    <tr>\n",
              "      <th>CAN</th>\n",
              "      <td>-0.208711</td>\n",
              "      <td>-1.037963</td>\n",
              "      <td>0.197806</td>\n",
              "      <td>-0.859532</td>\n",
              "      <td>-0.295302</td>\n",
              "    </tr>\n",
              "    <tr>\n",
              "      <th>GE</th>\n",
              "      <td>-1.123644</td>\n",
              "      <td>0.827014</td>\n",
              "      <td>-0.670611</td>\n",
              "      <td>-0.966687</td>\n",
              "      <td>-0.629303</td>\n",
              "    </tr>\n",
              "    <tr>\n",
              "      <th>IT</th>\n",
              "      <td>-0.329187</td>\n",
              "      <td>0.462367</td>\n",
              "      <td>0.072301</td>\n",
              "      <td>0.217168</td>\n",
              "      <td>-0.598591</td>\n",
              "    </tr>\n",
              "    <tr>\n",
              "      <th>PL</th>\n",
              "      <td>-0.594047</td>\n",
              "      <td>-1.112598</td>\n",
              "      <td>-0.013298</td>\n",
              "      <td>-0.049444</td>\n",
              "      <td>0.419095</td>\n",
              "    </tr>\n",
              "    <tr>\n",
              "      <th>FY</th>\n",
              "      <td>1.216281</td>\n",
              "      <td>-1.498905</td>\n",
              "      <td>0.416352</td>\n",
              "      <td>0.898640</td>\n",
              "      <td>-1.789240</td>\n",
              "    </tr>\n",
              "    <tr>\n",
              "      <th>IU</th>\n",
              "      <td>1.470903</td>\n",
              "      <td>-1.052643</td>\n",
              "      <td>0.038047</td>\n",
              "      <td>0.575211</td>\n",
              "      <td>2.135044</td>\n",
              "    </tr>\n",
              "    <tr>\n",
              "      <th>RT</th>\n",
              "      <td>0.781189</td>\n",
              "      <td>0.746870</td>\n",
              "      <td>1.095627</td>\n",
              "      <td>-1.719497</td>\n",
              "      <td>-0.689932</td>\n",
              "    </tr>\n",
              "    <tr>\n",
              "      <th>IP</th>\n",
              "      <td>-0.541974</td>\n",
              "      <td>2.608786</td>\n",
              "      <td>-0.149848</td>\n",
              "      <td>0.647683</td>\n",
              "      <td>1.762130</td>\n",
              "    </tr>\n",
              "  </tbody>\n",
              "</table>\n",
              "</div>"
            ],
            "text/plain": [
              "             Score1    Score2    Score3    Score4    Score5\n",
              "Countries                                                  \n",
              "IND        0.851100 -1.083754  1.136511  0.797334 -0.841003\n",
              "JP        -1.770584  0.695662 -0.479670 -0.836000  0.177477\n",
              "CAN       -0.208711 -1.037963  0.197806 -0.859532 -0.295302\n",
              "GE        -1.123644  0.827014 -0.670611 -0.966687 -0.629303\n",
              "IT        -0.329187  0.462367  0.072301  0.217168 -0.598591\n",
              "PL        -0.594047 -1.112598 -0.013298 -0.049444  0.419095\n",
              "FY         1.216281 -1.498905  0.416352  0.898640 -1.789240\n",
              "IU         1.470903 -1.052643  0.038047  0.575211  2.135044\n",
              "RT         0.781189  0.746870  1.095627 -1.719497 -0.689932\n",
              "IP        -0.541974  2.608786 -0.149848  0.647683  1.762130"
            ]
          },
          "metadata": {},
          "execution_count": 48
        }
      ]
    },
    {
      "cell_type": "code",
      "metadata": {
        "id": "uAZGcGHLMbQ5"
      },
      "source": [
        "# Missing Values in Dataframes\n",
        "\n",
        "dict = {'Cricket':[1,2,np.nan,4,5,6,7,3,5,np.nan],\n",
        "        'Baseball': [2,3,np.nan,np.nan,3,5,1,7,4,6],\n",
        "        'Tennis': [1,6,4,8,3,5,7,8,3,2]}"
      ],
      "execution_count": 49,
      "outputs": []
    },
    {
      "cell_type": "code",
      "metadata": {
        "id": "UTKDT_m0Mded"
      },
      "source": [
        "dataframe = pd.DataFrame(dict)"
      ],
      "execution_count": 50,
      "outputs": []
    },
    {
      "cell_type": "code",
      "metadata": {
        "colab": {
          "base_uri": "https://localhost:8080/",
          "height": 357
        },
        "id": "e3xzpkWgMgX-",
        "outputId": "46b953e3-e6a6-436c-a363-8c602d4f7b6f"
      },
      "source": [
        "dataframe"
      ],
      "execution_count": 51,
      "outputs": [
        {
          "output_type": "execute_result",
          "data": {
            "text/html": [
              "<div>\n",
              "<style scoped>\n",
              "    .dataframe tbody tr th:only-of-type {\n",
              "        vertical-align: middle;\n",
              "    }\n",
              "\n",
              "    .dataframe tbody tr th {\n",
              "        vertical-align: top;\n",
              "    }\n",
              "\n",
              "    .dataframe thead th {\n",
              "        text-align: right;\n",
              "    }\n",
              "</style>\n",
              "<table border=\"1\" class=\"dataframe\">\n",
              "  <thead>\n",
              "    <tr style=\"text-align: right;\">\n",
              "      <th></th>\n",
              "      <th>Cricket</th>\n",
              "      <th>Baseball</th>\n",
              "      <th>Tennis</th>\n",
              "    </tr>\n",
              "  </thead>\n",
              "  <tbody>\n",
              "    <tr>\n",
              "      <th>0</th>\n",
              "      <td>1.0</td>\n",
              "      <td>2.0</td>\n",
              "      <td>1</td>\n",
              "    </tr>\n",
              "    <tr>\n",
              "      <th>1</th>\n",
              "      <td>2.0</td>\n",
              "      <td>3.0</td>\n",
              "      <td>6</td>\n",
              "    </tr>\n",
              "    <tr>\n",
              "      <th>2</th>\n",
              "      <td>NaN</td>\n",
              "      <td>NaN</td>\n",
              "      <td>4</td>\n",
              "    </tr>\n",
              "    <tr>\n",
              "      <th>3</th>\n",
              "      <td>4.0</td>\n",
              "      <td>NaN</td>\n",
              "      <td>8</td>\n",
              "    </tr>\n",
              "    <tr>\n",
              "      <th>4</th>\n",
              "      <td>5.0</td>\n",
              "      <td>3.0</td>\n",
              "      <td>3</td>\n",
              "    </tr>\n",
              "    <tr>\n",
              "      <th>5</th>\n",
              "      <td>6.0</td>\n",
              "      <td>5.0</td>\n",
              "      <td>5</td>\n",
              "    </tr>\n",
              "    <tr>\n",
              "      <th>6</th>\n",
              "      <td>7.0</td>\n",
              "      <td>1.0</td>\n",
              "      <td>7</td>\n",
              "    </tr>\n",
              "    <tr>\n",
              "      <th>7</th>\n",
              "      <td>3.0</td>\n",
              "      <td>7.0</td>\n",
              "      <td>8</td>\n",
              "    </tr>\n",
              "    <tr>\n",
              "      <th>8</th>\n",
              "      <td>5.0</td>\n",
              "      <td>4.0</td>\n",
              "      <td>3</td>\n",
              "    </tr>\n",
              "    <tr>\n",
              "      <th>9</th>\n",
              "      <td>NaN</td>\n",
              "      <td>6.0</td>\n",
              "      <td>2</td>\n",
              "    </tr>\n",
              "  </tbody>\n",
              "</table>\n",
              "</div>"
            ],
            "text/plain": [
              "   Cricket  Baseball  Tennis\n",
              "0      1.0       2.0       1\n",
              "1      2.0       3.0       6\n",
              "2      NaN       NaN       4\n",
              "3      4.0       NaN       8\n",
              "4      5.0       3.0       3\n",
              "5      6.0       5.0       5\n",
              "6      7.0       1.0       7\n",
              "7      3.0       7.0       8\n",
              "8      5.0       4.0       3\n",
              "9      NaN       6.0       2"
            ]
          },
          "metadata": {},
          "execution_count": 51
        }
      ]
    },
    {
      "cell_type": "code",
      "metadata": {
        "colab": {
          "base_uri": "https://localhost:8080/",
          "height": 265
        },
        "id": "gaccvuzFMjT-",
        "outputId": "2873144a-3094-4231-9011-3ddba9e01120"
      },
      "source": [
        "dataframe.dropna()   # By Default, rows with atleast 1 NAN is dropped"
      ],
      "execution_count": 52,
      "outputs": [
        {
          "output_type": "execute_result",
          "data": {
            "text/html": [
              "<div>\n",
              "<style scoped>\n",
              "    .dataframe tbody tr th:only-of-type {\n",
              "        vertical-align: middle;\n",
              "    }\n",
              "\n",
              "    .dataframe tbody tr th {\n",
              "        vertical-align: top;\n",
              "    }\n",
              "\n",
              "    .dataframe thead th {\n",
              "        text-align: right;\n",
              "    }\n",
              "</style>\n",
              "<table border=\"1\" class=\"dataframe\">\n",
              "  <thead>\n",
              "    <tr style=\"text-align: right;\">\n",
              "      <th></th>\n",
              "      <th>Cricket</th>\n",
              "      <th>Baseball</th>\n",
              "      <th>Tennis</th>\n",
              "    </tr>\n",
              "  </thead>\n",
              "  <tbody>\n",
              "    <tr>\n",
              "      <th>0</th>\n",
              "      <td>1.0</td>\n",
              "      <td>2.0</td>\n",
              "      <td>1</td>\n",
              "    </tr>\n",
              "    <tr>\n",
              "      <th>1</th>\n",
              "      <td>2.0</td>\n",
              "      <td>3.0</td>\n",
              "      <td>6</td>\n",
              "    </tr>\n",
              "    <tr>\n",
              "      <th>4</th>\n",
              "      <td>5.0</td>\n",
              "      <td>3.0</td>\n",
              "      <td>3</td>\n",
              "    </tr>\n",
              "    <tr>\n",
              "      <th>5</th>\n",
              "      <td>6.0</td>\n",
              "      <td>5.0</td>\n",
              "      <td>5</td>\n",
              "    </tr>\n",
              "    <tr>\n",
              "      <th>6</th>\n",
              "      <td>7.0</td>\n",
              "      <td>1.0</td>\n",
              "      <td>7</td>\n",
              "    </tr>\n",
              "    <tr>\n",
              "      <th>7</th>\n",
              "      <td>3.0</td>\n",
              "      <td>7.0</td>\n",
              "      <td>8</td>\n",
              "    </tr>\n",
              "    <tr>\n",
              "      <th>8</th>\n",
              "      <td>5.0</td>\n",
              "      <td>4.0</td>\n",
              "      <td>3</td>\n",
              "    </tr>\n",
              "  </tbody>\n",
              "</table>\n",
              "</div>"
            ],
            "text/plain": [
              "   Cricket  Baseball  Tennis\n",
              "0      1.0       2.0       1\n",
              "1      2.0       3.0       6\n",
              "4      5.0       3.0       3\n",
              "5      6.0       5.0       5\n",
              "6      7.0       1.0       7\n",
              "7      3.0       7.0       8\n",
              "8      5.0       4.0       3"
            ]
          },
          "metadata": {},
          "execution_count": 52
        }
      ]
    },
    {
      "cell_type": "code",
      "metadata": {
        "colab": {
          "base_uri": "https://localhost:8080/",
          "height": 357
        },
        "id": "SrxjHen1MmDC",
        "outputId": "c04a9a54-a2b6-4adb-9f3a-d9d67eed1214"
      },
      "source": [
        "dataframe.dropna(axis=1)"
      ],
      "execution_count": 53,
      "outputs": [
        {
          "output_type": "execute_result",
          "data": {
            "text/html": [
              "<div>\n",
              "<style scoped>\n",
              "    .dataframe tbody tr th:only-of-type {\n",
              "        vertical-align: middle;\n",
              "    }\n",
              "\n",
              "    .dataframe tbody tr th {\n",
              "        vertical-align: top;\n",
              "    }\n",
              "\n",
              "    .dataframe thead th {\n",
              "        text-align: right;\n",
              "    }\n",
              "</style>\n",
              "<table border=\"1\" class=\"dataframe\">\n",
              "  <thead>\n",
              "    <tr style=\"text-align: right;\">\n",
              "      <th></th>\n",
              "      <th>Tennis</th>\n",
              "    </tr>\n",
              "  </thead>\n",
              "  <tbody>\n",
              "    <tr>\n",
              "      <th>0</th>\n",
              "      <td>1</td>\n",
              "    </tr>\n",
              "    <tr>\n",
              "      <th>1</th>\n",
              "      <td>6</td>\n",
              "    </tr>\n",
              "    <tr>\n",
              "      <th>2</th>\n",
              "      <td>4</td>\n",
              "    </tr>\n",
              "    <tr>\n",
              "      <th>3</th>\n",
              "      <td>8</td>\n",
              "    </tr>\n",
              "    <tr>\n",
              "      <th>4</th>\n",
              "      <td>3</td>\n",
              "    </tr>\n",
              "    <tr>\n",
              "      <th>5</th>\n",
              "      <td>5</td>\n",
              "    </tr>\n",
              "    <tr>\n",
              "      <th>6</th>\n",
              "      <td>7</td>\n",
              "    </tr>\n",
              "    <tr>\n",
              "      <th>7</th>\n",
              "      <td>8</td>\n",
              "    </tr>\n",
              "    <tr>\n",
              "      <th>8</th>\n",
              "      <td>3</td>\n",
              "    </tr>\n",
              "    <tr>\n",
              "      <th>9</th>\n",
              "      <td>2</td>\n",
              "    </tr>\n",
              "  </tbody>\n",
              "</table>\n",
              "</div>"
            ],
            "text/plain": [
              "   Tennis\n",
              "0       1\n",
              "1       6\n",
              "2       4\n",
              "3       8\n",
              "4       3\n",
              "5       5\n",
              "6       7\n",
              "7       8\n",
              "8       3\n",
              "9       2"
            ]
          },
          "metadata": {},
          "execution_count": 53
        }
      ]
    },
    {
      "cell_type": "code",
      "metadata": {
        "colab": {
          "base_uri": "https://localhost:8080/",
          "height": 357
        },
        "id": "TGgnUfTxMpTM",
        "outputId": "11f05d4e-f377-4185-edaa-8da3f0e3e10f"
      },
      "source": [
        "dataframe"
      ],
      "execution_count": 54,
      "outputs": [
        {
          "output_type": "execute_result",
          "data": {
            "text/html": [
              "<div>\n",
              "<style scoped>\n",
              "    .dataframe tbody tr th:only-of-type {\n",
              "        vertical-align: middle;\n",
              "    }\n",
              "\n",
              "    .dataframe tbody tr th {\n",
              "        vertical-align: top;\n",
              "    }\n",
              "\n",
              "    .dataframe thead th {\n",
              "        text-align: right;\n",
              "    }\n",
              "</style>\n",
              "<table border=\"1\" class=\"dataframe\">\n",
              "  <thead>\n",
              "    <tr style=\"text-align: right;\">\n",
              "      <th></th>\n",
              "      <th>Cricket</th>\n",
              "      <th>Baseball</th>\n",
              "      <th>Tennis</th>\n",
              "    </tr>\n",
              "  </thead>\n",
              "  <tbody>\n",
              "    <tr>\n",
              "      <th>0</th>\n",
              "      <td>1.0</td>\n",
              "      <td>2.0</td>\n",
              "      <td>1</td>\n",
              "    </tr>\n",
              "    <tr>\n",
              "      <th>1</th>\n",
              "      <td>2.0</td>\n",
              "      <td>3.0</td>\n",
              "      <td>6</td>\n",
              "    </tr>\n",
              "    <tr>\n",
              "      <th>2</th>\n",
              "      <td>NaN</td>\n",
              "      <td>NaN</td>\n",
              "      <td>4</td>\n",
              "    </tr>\n",
              "    <tr>\n",
              "      <th>3</th>\n",
              "      <td>4.0</td>\n",
              "      <td>NaN</td>\n",
              "      <td>8</td>\n",
              "    </tr>\n",
              "    <tr>\n",
              "      <th>4</th>\n",
              "      <td>5.0</td>\n",
              "      <td>3.0</td>\n",
              "      <td>3</td>\n",
              "    </tr>\n",
              "    <tr>\n",
              "      <th>5</th>\n",
              "      <td>6.0</td>\n",
              "      <td>5.0</td>\n",
              "      <td>5</td>\n",
              "    </tr>\n",
              "    <tr>\n",
              "      <th>6</th>\n",
              "      <td>7.0</td>\n",
              "      <td>1.0</td>\n",
              "      <td>7</td>\n",
              "    </tr>\n",
              "    <tr>\n",
              "      <th>7</th>\n",
              "      <td>3.0</td>\n",
              "      <td>7.0</td>\n",
              "      <td>8</td>\n",
              "    </tr>\n",
              "    <tr>\n",
              "      <th>8</th>\n",
              "      <td>5.0</td>\n",
              "      <td>4.0</td>\n",
              "      <td>3</td>\n",
              "    </tr>\n",
              "    <tr>\n",
              "      <th>9</th>\n",
              "      <td>NaN</td>\n",
              "      <td>6.0</td>\n",
              "      <td>2</td>\n",
              "    </tr>\n",
              "  </tbody>\n",
              "</table>\n",
              "</div>"
            ],
            "text/plain": [
              "   Cricket  Baseball  Tennis\n",
              "0      1.0       2.0       1\n",
              "1      2.0       3.0       6\n",
              "2      NaN       NaN       4\n",
              "3      4.0       NaN       8\n",
              "4      5.0       3.0       3\n",
              "5      6.0       5.0       5\n",
              "6      7.0       1.0       7\n",
              "7      3.0       7.0       8\n",
              "8      5.0       4.0       3\n",
              "9      NaN       6.0       2"
            ]
          },
          "metadata": {},
          "execution_count": 54
        }
      ]
    },
    {
      "cell_type": "code",
      "metadata": {
        "colab": {
          "base_uri": "https://localhost:8080/",
          "height": 326
        },
        "id": "qZDQzkbuMsCt",
        "outputId": "8ea04ea9-9795-472b-e824-d51e7ee810f5"
      },
      "source": [
        "dataframe.dropna(thresh=2)   # Thresh parameter looks for non NA values"
      ],
      "execution_count": 55,
      "outputs": [
        {
          "output_type": "execute_result",
          "data": {
            "text/html": [
              "<div>\n",
              "<style scoped>\n",
              "    .dataframe tbody tr th:only-of-type {\n",
              "        vertical-align: middle;\n",
              "    }\n",
              "\n",
              "    .dataframe tbody tr th {\n",
              "        vertical-align: top;\n",
              "    }\n",
              "\n",
              "    .dataframe thead th {\n",
              "        text-align: right;\n",
              "    }\n",
              "</style>\n",
              "<table border=\"1\" class=\"dataframe\">\n",
              "  <thead>\n",
              "    <tr style=\"text-align: right;\">\n",
              "      <th></th>\n",
              "      <th>Cricket</th>\n",
              "      <th>Baseball</th>\n",
              "      <th>Tennis</th>\n",
              "    </tr>\n",
              "  </thead>\n",
              "  <tbody>\n",
              "    <tr>\n",
              "      <th>0</th>\n",
              "      <td>1.0</td>\n",
              "      <td>2.0</td>\n",
              "      <td>1</td>\n",
              "    </tr>\n",
              "    <tr>\n",
              "      <th>1</th>\n",
              "      <td>2.0</td>\n",
              "      <td>3.0</td>\n",
              "      <td>6</td>\n",
              "    </tr>\n",
              "    <tr>\n",
              "      <th>3</th>\n",
              "      <td>4.0</td>\n",
              "      <td>NaN</td>\n",
              "      <td>8</td>\n",
              "    </tr>\n",
              "    <tr>\n",
              "      <th>4</th>\n",
              "      <td>5.0</td>\n",
              "      <td>3.0</td>\n",
              "      <td>3</td>\n",
              "    </tr>\n",
              "    <tr>\n",
              "      <th>5</th>\n",
              "      <td>6.0</td>\n",
              "      <td>5.0</td>\n",
              "      <td>5</td>\n",
              "    </tr>\n",
              "    <tr>\n",
              "      <th>6</th>\n",
              "      <td>7.0</td>\n",
              "      <td>1.0</td>\n",
              "      <td>7</td>\n",
              "    </tr>\n",
              "    <tr>\n",
              "      <th>7</th>\n",
              "      <td>3.0</td>\n",
              "      <td>7.0</td>\n",
              "      <td>8</td>\n",
              "    </tr>\n",
              "    <tr>\n",
              "      <th>8</th>\n",
              "      <td>5.0</td>\n",
              "      <td>4.0</td>\n",
              "      <td>3</td>\n",
              "    </tr>\n",
              "    <tr>\n",
              "      <th>9</th>\n",
              "      <td>NaN</td>\n",
              "      <td>6.0</td>\n",
              "      <td>2</td>\n",
              "    </tr>\n",
              "  </tbody>\n",
              "</table>\n",
              "</div>"
            ],
            "text/plain": [
              "   Cricket  Baseball  Tennis\n",
              "0      1.0       2.0       1\n",
              "1      2.0       3.0       6\n",
              "3      4.0       NaN       8\n",
              "4      5.0       3.0       3\n",
              "5      6.0       5.0       5\n",
              "6      7.0       1.0       7\n",
              "7      3.0       7.0       8\n",
              "8      5.0       4.0       3\n",
              "9      NaN       6.0       2"
            ]
          },
          "metadata": {},
          "execution_count": 55
        }
      ]
    },
    {
      "cell_type": "code",
      "metadata": {
        "colab": {
          "base_uri": "https://localhost:8080/",
          "height": 357
        },
        "id": "q2tvQ8RLM_Hr",
        "outputId": "c91790f0-ce0a-40ce-db82-c21f90fcfc21"
      },
      "source": [
        "dataframe"
      ],
      "execution_count": 56,
      "outputs": [
        {
          "output_type": "execute_result",
          "data": {
            "text/html": [
              "<div>\n",
              "<style scoped>\n",
              "    .dataframe tbody tr th:only-of-type {\n",
              "        vertical-align: middle;\n",
              "    }\n",
              "\n",
              "    .dataframe tbody tr th {\n",
              "        vertical-align: top;\n",
              "    }\n",
              "\n",
              "    .dataframe thead th {\n",
              "        text-align: right;\n",
              "    }\n",
              "</style>\n",
              "<table border=\"1\" class=\"dataframe\">\n",
              "  <thead>\n",
              "    <tr style=\"text-align: right;\">\n",
              "      <th></th>\n",
              "      <th>Cricket</th>\n",
              "      <th>Baseball</th>\n",
              "      <th>Tennis</th>\n",
              "    </tr>\n",
              "  </thead>\n",
              "  <tbody>\n",
              "    <tr>\n",
              "      <th>0</th>\n",
              "      <td>1.0</td>\n",
              "      <td>2.0</td>\n",
              "      <td>1</td>\n",
              "    </tr>\n",
              "    <tr>\n",
              "      <th>1</th>\n",
              "      <td>2.0</td>\n",
              "      <td>3.0</td>\n",
              "      <td>6</td>\n",
              "    </tr>\n",
              "    <tr>\n",
              "      <th>2</th>\n",
              "      <td>NaN</td>\n",
              "      <td>NaN</td>\n",
              "      <td>4</td>\n",
              "    </tr>\n",
              "    <tr>\n",
              "      <th>3</th>\n",
              "      <td>4.0</td>\n",
              "      <td>NaN</td>\n",
              "      <td>8</td>\n",
              "    </tr>\n",
              "    <tr>\n",
              "      <th>4</th>\n",
              "      <td>5.0</td>\n",
              "      <td>3.0</td>\n",
              "      <td>3</td>\n",
              "    </tr>\n",
              "    <tr>\n",
              "      <th>5</th>\n",
              "      <td>6.0</td>\n",
              "      <td>5.0</td>\n",
              "      <td>5</td>\n",
              "    </tr>\n",
              "    <tr>\n",
              "      <th>6</th>\n",
              "      <td>7.0</td>\n",
              "      <td>1.0</td>\n",
              "      <td>7</td>\n",
              "    </tr>\n",
              "    <tr>\n",
              "      <th>7</th>\n",
              "      <td>3.0</td>\n",
              "      <td>7.0</td>\n",
              "      <td>8</td>\n",
              "    </tr>\n",
              "    <tr>\n",
              "      <th>8</th>\n",
              "      <td>5.0</td>\n",
              "      <td>4.0</td>\n",
              "      <td>3</td>\n",
              "    </tr>\n",
              "    <tr>\n",
              "      <th>9</th>\n",
              "      <td>NaN</td>\n",
              "      <td>6.0</td>\n",
              "      <td>2</td>\n",
              "    </tr>\n",
              "  </tbody>\n",
              "</table>\n",
              "</div>"
            ],
            "text/plain": [
              "   Cricket  Baseball  Tennis\n",
              "0      1.0       2.0       1\n",
              "1      2.0       3.0       6\n",
              "2      NaN       NaN       4\n",
              "3      4.0       NaN       8\n",
              "4      5.0       3.0       3\n",
              "5      6.0       5.0       5\n",
              "6      7.0       1.0       7\n",
              "7      3.0       7.0       8\n",
              "8      5.0       4.0       3\n",
              "9      NaN       6.0       2"
            ]
          },
          "metadata": {},
          "execution_count": 56
        }
      ]
    },
    {
      "cell_type": "code",
      "metadata": {
        "colab": {
          "base_uri": "https://localhost:8080/",
          "height": 357
        },
        "id": "yjfeschTNCTE",
        "outputId": "2d323112-cf41-43b8-cac0-096f188720e1"
      },
      "source": [
        "dataframe.fillna(0)"
      ],
      "execution_count": 57,
      "outputs": [
        {
          "output_type": "execute_result",
          "data": {
            "text/html": [
              "<div>\n",
              "<style scoped>\n",
              "    .dataframe tbody tr th:only-of-type {\n",
              "        vertical-align: middle;\n",
              "    }\n",
              "\n",
              "    .dataframe tbody tr th {\n",
              "        vertical-align: top;\n",
              "    }\n",
              "\n",
              "    .dataframe thead th {\n",
              "        text-align: right;\n",
              "    }\n",
              "</style>\n",
              "<table border=\"1\" class=\"dataframe\">\n",
              "  <thead>\n",
              "    <tr style=\"text-align: right;\">\n",
              "      <th></th>\n",
              "      <th>Cricket</th>\n",
              "      <th>Baseball</th>\n",
              "      <th>Tennis</th>\n",
              "    </tr>\n",
              "  </thead>\n",
              "  <tbody>\n",
              "    <tr>\n",
              "      <th>0</th>\n",
              "      <td>1.0</td>\n",
              "      <td>2.0</td>\n",
              "      <td>1</td>\n",
              "    </tr>\n",
              "    <tr>\n",
              "      <th>1</th>\n",
              "      <td>2.0</td>\n",
              "      <td>3.0</td>\n",
              "      <td>6</td>\n",
              "    </tr>\n",
              "    <tr>\n",
              "      <th>2</th>\n",
              "      <td>0.0</td>\n",
              "      <td>0.0</td>\n",
              "      <td>4</td>\n",
              "    </tr>\n",
              "    <tr>\n",
              "      <th>3</th>\n",
              "      <td>4.0</td>\n",
              "      <td>0.0</td>\n",
              "      <td>8</td>\n",
              "    </tr>\n",
              "    <tr>\n",
              "      <th>4</th>\n",
              "      <td>5.0</td>\n",
              "      <td>3.0</td>\n",
              "      <td>3</td>\n",
              "    </tr>\n",
              "    <tr>\n",
              "      <th>5</th>\n",
              "      <td>6.0</td>\n",
              "      <td>5.0</td>\n",
              "      <td>5</td>\n",
              "    </tr>\n",
              "    <tr>\n",
              "      <th>6</th>\n",
              "      <td>7.0</td>\n",
              "      <td>1.0</td>\n",
              "      <td>7</td>\n",
              "    </tr>\n",
              "    <tr>\n",
              "      <th>7</th>\n",
              "      <td>3.0</td>\n",
              "      <td>7.0</td>\n",
              "      <td>8</td>\n",
              "    </tr>\n",
              "    <tr>\n",
              "      <th>8</th>\n",
              "      <td>5.0</td>\n",
              "      <td>4.0</td>\n",
              "      <td>3</td>\n",
              "    </tr>\n",
              "    <tr>\n",
              "      <th>9</th>\n",
              "      <td>0.0</td>\n",
              "      <td>6.0</td>\n",
              "      <td>2</td>\n",
              "    </tr>\n",
              "  </tbody>\n",
              "</table>\n",
              "</div>"
            ],
            "text/plain": [
              "   Cricket  Baseball  Tennis\n",
              "0      1.0       2.0       1\n",
              "1      2.0       3.0       6\n",
              "2      0.0       0.0       4\n",
              "3      4.0       0.0       8\n",
              "4      5.0       3.0       3\n",
              "5      6.0       5.0       5\n",
              "6      7.0       1.0       7\n",
              "7      3.0       7.0       8\n",
              "8      5.0       4.0       3\n",
              "9      0.0       6.0       2"
            ]
          },
          "metadata": {},
          "execution_count": 57
        }
      ]
    },
    {
      "cell_type": "code",
      "metadata": {
        "colab": {
          "base_uri": "https://localhost:8080/",
          "height": 357
        },
        "id": "sojlLyWrNE0g",
        "outputId": "b6999601-d76e-46cc-a736-9296041c264f"
      },
      "source": [
        "dataframe"
      ],
      "execution_count": 58,
      "outputs": [
        {
          "output_type": "execute_result",
          "data": {
            "text/html": [
              "<div>\n",
              "<style scoped>\n",
              "    .dataframe tbody tr th:only-of-type {\n",
              "        vertical-align: middle;\n",
              "    }\n",
              "\n",
              "    .dataframe tbody tr th {\n",
              "        vertical-align: top;\n",
              "    }\n",
              "\n",
              "    .dataframe thead th {\n",
              "        text-align: right;\n",
              "    }\n",
              "</style>\n",
              "<table border=\"1\" class=\"dataframe\">\n",
              "  <thead>\n",
              "    <tr style=\"text-align: right;\">\n",
              "      <th></th>\n",
              "      <th>Cricket</th>\n",
              "      <th>Baseball</th>\n",
              "      <th>Tennis</th>\n",
              "    </tr>\n",
              "  </thead>\n",
              "  <tbody>\n",
              "    <tr>\n",
              "      <th>0</th>\n",
              "      <td>1.0</td>\n",
              "      <td>2.0</td>\n",
              "      <td>1</td>\n",
              "    </tr>\n",
              "    <tr>\n",
              "      <th>1</th>\n",
              "      <td>2.0</td>\n",
              "      <td>3.0</td>\n",
              "      <td>6</td>\n",
              "    </tr>\n",
              "    <tr>\n",
              "      <th>2</th>\n",
              "      <td>NaN</td>\n",
              "      <td>NaN</td>\n",
              "      <td>4</td>\n",
              "    </tr>\n",
              "    <tr>\n",
              "      <th>3</th>\n",
              "      <td>4.0</td>\n",
              "      <td>NaN</td>\n",
              "      <td>8</td>\n",
              "    </tr>\n",
              "    <tr>\n",
              "      <th>4</th>\n",
              "      <td>5.0</td>\n",
              "      <td>3.0</td>\n",
              "      <td>3</td>\n",
              "    </tr>\n",
              "    <tr>\n",
              "      <th>5</th>\n",
              "      <td>6.0</td>\n",
              "      <td>5.0</td>\n",
              "      <td>5</td>\n",
              "    </tr>\n",
              "    <tr>\n",
              "      <th>6</th>\n",
              "      <td>7.0</td>\n",
              "      <td>1.0</td>\n",
              "      <td>7</td>\n",
              "    </tr>\n",
              "    <tr>\n",
              "      <th>7</th>\n",
              "      <td>3.0</td>\n",
              "      <td>7.0</td>\n",
              "      <td>8</td>\n",
              "    </tr>\n",
              "    <tr>\n",
              "      <th>8</th>\n",
              "      <td>5.0</td>\n",
              "      <td>4.0</td>\n",
              "      <td>3</td>\n",
              "    </tr>\n",
              "    <tr>\n",
              "      <th>9</th>\n",
              "      <td>NaN</td>\n",
              "      <td>6.0</td>\n",
              "      <td>2</td>\n",
              "    </tr>\n",
              "  </tbody>\n",
              "</table>\n",
              "</div>"
            ],
            "text/plain": [
              "   Cricket  Baseball  Tennis\n",
              "0      1.0       2.0       1\n",
              "1      2.0       3.0       6\n",
              "2      NaN       NaN       4\n",
              "3      4.0       NaN       8\n",
              "4      5.0       3.0       3\n",
              "5      6.0       5.0       5\n",
              "6      7.0       1.0       7\n",
              "7      3.0       7.0       8\n",
              "8      5.0       4.0       3\n",
              "9      NaN       6.0       2"
            ]
          },
          "metadata": {},
          "execution_count": 58
        }
      ]
    },
    {
      "cell_type": "code",
      "metadata": {
        "id": "KQCXyp3BNHkN"
      },
      "source": [
        "dataframe['Baseball'] = dataframe['Baseball'].fillna(dataframe['Baseball'].mean())"
      ],
      "execution_count": 59,
      "outputs": []
    },
    {
      "cell_type": "code",
      "metadata": {
        "colab": {
          "base_uri": "https://localhost:8080/",
          "height": 357
        },
        "id": "I41PLs85NLIP",
        "outputId": "e8762887-d71d-40ce-d136-bb9a3e20e5cb"
      },
      "source": [
        "dataframe"
      ],
      "execution_count": 60,
      "outputs": [
        {
          "output_type": "execute_result",
          "data": {
            "text/html": [
              "<div>\n",
              "<style scoped>\n",
              "    .dataframe tbody tr th:only-of-type {\n",
              "        vertical-align: middle;\n",
              "    }\n",
              "\n",
              "    .dataframe tbody tr th {\n",
              "        vertical-align: top;\n",
              "    }\n",
              "\n",
              "    .dataframe thead th {\n",
              "        text-align: right;\n",
              "    }\n",
              "</style>\n",
              "<table border=\"1\" class=\"dataframe\">\n",
              "  <thead>\n",
              "    <tr style=\"text-align: right;\">\n",
              "      <th></th>\n",
              "      <th>Cricket</th>\n",
              "      <th>Baseball</th>\n",
              "      <th>Tennis</th>\n",
              "    </tr>\n",
              "  </thead>\n",
              "  <tbody>\n",
              "    <tr>\n",
              "      <th>0</th>\n",
              "      <td>1.0</td>\n",
              "      <td>2.000</td>\n",
              "      <td>1</td>\n",
              "    </tr>\n",
              "    <tr>\n",
              "      <th>1</th>\n",
              "      <td>2.0</td>\n",
              "      <td>3.000</td>\n",
              "      <td>6</td>\n",
              "    </tr>\n",
              "    <tr>\n",
              "      <th>2</th>\n",
              "      <td>NaN</td>\n",
              "      <td>3.875</td>\n",
              "      <td>4</td>\n",
              "    </tr>\n",
              "    <tr>\n",
              "      <th>3</th>\n",
              "      <td>4.0</td>\n",
              "      <td>3.875</td>\n",
              "      <td>8</td>\n",
              "    </tr>\n",
              "    <tr>\n",
              "      <th>4</th>\n",
              "      <td>5.0</td>\n",
              "      <td>3.000</td>\n",
              "      <td>3</td>\n",
              "    </tr>\n",
              "    <tr>\n",
              "      <th>5</th>\n",
              "      <td>6.0</td>\n",
              "      <td>5.000</td>\n",
              "      <td>5</td>\n",
              "    </tr>\n",
              "    <tr>\n",
              "      <th>6</th>\n",
              "      <td>7.0</td>\n",
              "      <td>1.000</td>\n",
              "      <td>7</td>\n",
              "    </tr>\n",
              "    <tr>\n",
              "      <th>7</th>\n",
              "      <td>3.0</td>\n",
              "      <td>7.000</td>\n",
              "      <td>8</td>\n",
              "    </tr>\n",
              "    <tr>\n",
              "      <th>8</th>\n",
              "      <td>5.0</td>\n",
              "      <td>4.000</td>\n",
              "      <td>3</td>\n",
              "    </tr>\n",
              "    <tr>\n",
              "      <th>9</th>\n",
              "      <td>NaN</td>\n",
              "      <td>6.000</td>\n",
              "      <td>2</td>\n",
              "    </tr>\n",
              "  </tbody>\n",
              "</table>\n",
              "</div>"
            ],
            "text/plain": [
              "   Cricket  Baseball  Tennis\n",
              "0      1.0     2.000       1\n",
              "1      2.0     3.000       6\n",
              "2      NaN     3.875       4\n",
              "3      4.0     3.875       8\n",
              "4      5.0     3.000       3\n",
              "5      6.0     5.000       5\n",
              "6      7.0     1.000       7\n",
              "7      3.0     7.000       8\n",
              "8      5.0     4.000       3\n",
              "9      NaN     6.000       2"
            ]
          },
          "metadata": {},
          "execution_count": 60
        }
      ]
    },
    {
      "cell_type": "code",
      "metadata": {
        "id": "wNX8ogidOjsf"
      },
      "source": [
        "dat = {'CustID':['1001','1001','1002','1002','1003','1003'],\n",
        "       'CustName':['UIPat','DatRob','Goog','Chrysler','Ford','GM'],\n",
        "       'Profitinlakhs':[2005,3245,1245,8765,5463,3547]}"
      ],
      "execution_count": 63,
      "outputs": []
    },
    {
      "cell_type": "code",
      "metadata": {
        "id": "86w8Z9y2PCID"
      },
      "source": [
        "dataframe = pd.DataFrame(dat)"
      ],
      "execution_count": 64,
      "outputs": []
    },
    {
      "cell_type": "code",
      "metadata": {
        "colab": {
          "base_uri": "https://localhost:8080/",
          "height": 234
        },
        "id": "cFlRiD7TPDtT",
        "outputId": "aa3c8c68-c679-4b9a-ec4b-03522ecacae7"
      },
      "source": [
        "dataframe"
      ],
      "execution_count": 66,
      "outputs": [
        {
          "output_type": "execute_result",
          "data": {
            "text/html": [
              "<div>\n",
              "<style scoped>\n",
              "    .dataframe tbody tr th:only-of-type {\n",
              "        vertical-align: middle;\n",
              "    }\n",
              "\n",
              "    .dataframe tbody tr th {\n",
              "        vertical-align: top;\n",
              "    }\n",
              "\n",
              "    .dataframe thead th {\n",
              "        text-align: right;\n",
              "    }\n",
              "</style>\n",
              "<table border=\"1\" class=\"dataframe\">\n",
              "  <thead>\n",
              "    <tr style=\"text-align: right;\">\n",
              "      <th></th>\n",
              "      <th>CustID</th>\n",
              "      <th>CustName</th>\n",
              "      <th>Profitinlakhs</th>\n",
              "    </tr>\n",
              "  </thead>\n",
              "  <tbody>\n",
              "    <tr>\n",
              "      <th>0</th>\n",
              "      <td>1001</td>\n",
              "      <td>UIPat</td>\n",
              "      <td>2005</td>\n",
              "    </tr>\n",
              "    <tr>\n",
              "      <th>1</th>\n",
              "      <td>1001</td>\n",
              "      <td>DatRob</td>\n",
              "      <td>3245</td>\n",
              "    </tr>\n",
              "    <tr>\n",
              "      <th>2</th>\n",
              "      <td>1002</td>\n",
              "      <td>Goog</td>\n",
              "      <td>1245</td>\n",
              "    </tr>\n",
              "    <tr>\n",
              "      <th>3</th>\n",
              "      <td>1002</td>\n",
              "      <td>Chrysler</td>\n",
              "      <td>8765</td>\n",
              "    </tr>\n",
              "    <tr>\n",
              "      <th>4</th>\n",
              "      <td>1003</td>\n",
              "      <td>Ford</td>\n",
              "      <td>5463</td>\n",
              "    </tr>\n",
              "    <tr>\n",
              "      <th>5</th>\n",
              "      <td>1003</td>\n",
              "      <td>GM</td>\n",
              "      <td>3547</td>\n",
              "    </tr>\n",
              "  </tbody>\n",
              "</table>\n",
              "</div>"
            ],
            "text/plain": [
              "  CustID  CustName  Profitinlakhs\n",
              "0   1001     UIPat           2005\n",
              "1   1001    DatRob           3245\n",
              "2   1002      Goog           1245\n",
              "3   1002  Chrysler           8765\n",
              "4   1003      Ford           5463\n",
              "5   1003        GM           3547"
            ]
          },
          "metadata": {},
          "execution_count": 66
        }
      ]
    },
    {
      "cell_type": "code",
      "metadata": {
        "id": "Yjc0GsqdPKDH"
      },
      "source": [
        "custID_grouped = dataframe.groupby('CustID')\n"
      ],
      "execution_count": 67,
      "outputs": []
    },
    {
      "cell_type": "code",
      "metadata": {
        "colab": {
          "base_uri": "https://localhost:8080/",
          "height": 172
        },
        "id": "lOFeH3P8PNa7",
        "outputId": "b1a0c950-30b0-434e-a042-aca573e4fa1c"
      },
      "source": [
        "custID_grouped.mean()\n"
      ],
      "execution_count": 68,
      "outputs": [
        {
          "output_type": "execute_result",
          "data": {
            "text/html": [
              "<div>\n",
              "<style scoped>\n",
              "    .dataframe tbody tr th:only-of-type {\n",
              "        vertical-align: middle;\n",
              "    }\n",
              "\n",
              "    .dataframe tbody tr th {\n",
              "        vertical-align: top;\n",
              "    }\n",
              "\n",
              "    .dataframe thead th {\n",
              "        text-align: right;\n",
              "    }\n",
              "</style>\n",
              "<table border=\"1\" class=\"dataframe\">\n",
              "  <thead>\n",
              "    <tr style=\"text-align: right;\">\n",
              "      <th></th>\n",
              "      <th>Profitinlakhs</th>\n",
              "    </tr>\n",
              "    <tr>\n",
              "      <th>CustID</th>\n",
              "      <th></th>\n",
              "    </tr>\n",
              "  </thead>\n",
              "  <tbody>\n",
              "    <tr>\n",
              "      <th>1001</th>\n",
              "      <td>2625</td>\n",
              "    </tr>\n",
              "    <tr>\n",
              "      <th>1002</th>\n",
              "      <td>5005</td>\n",
              "    </tr>\n",
              "    <tr>\n",
              "      <th>1003</th>\n",
              "      <td>4505</td>\n",
              "    </tr>\n",
              "  </tbody>\n",
              "</table>\n",
              "</div>"
            ],
            "text/plain": [
              "        Profitinlakhs\n",
              "CustID               \n",
              "1001             2625\n",
              "1002             5005\n",
              "1003             4505"
            ]
          },
          "metadata": {},
          "execution_count": 68
        }
      ]
    },
    {
      "cell_type": "code",
      "metadata": {
        "colab": {
          "base_uri": "https://localhost:8080/",
          "height": 295
        },
        "id": "IeXrAEKIPhWN",
        "outputId": "de184b2f-b9ef-40bb-e291-0e11ae40b2cd"
      },
      "source": [
        "dataframe.describe()"
      ],
      "execution_count": 69,
      "outputs": [
        {
          "output_type": "execute_result",
          "data": {
            "text/html": [
              "<div>\n",
              "<style scoped>\n",
              "    .dataframe tbody tr th:only-of-type {\n",
              "        vertical-align: middle;\n",
              "    }\n",
              "\n",
              "    .dataframe tbody tr th {\n",
              "        vertical-align: top;\n",
              "    }\n",
              "\n",
              "    .dataframe thead th {\n",
              "        text-align: right;\n",
              "    }\n",
              "</style>\n",
              "<table border=\"1\" class=\"dataframe\">\n",
              "  <thead>\n",
              "    <tr style=\"text-align: right;\">\n",
              "      <th></th>\n",
              "      <th>Profitinlakhs</th>\n",
              "    </tr>\n",
              "  </thead>\n",
              "  <tbody>\n",
              "    <tr>\n",
              "      <th>count</th>\n",
              "      <td>6.000000</td>\n",
              "    </tr>\n",
              "    <tr>\n",
              "      <th>mean</th>\n",
              "      <td>4045.000000</td>\n",
              "    </tr>\n",
              "    <tr>\n",
              "      <th>std</th>\n",
              "      <td>2726.856359</td>\n",
              "    </tr>\n",
              "    <tr>\n",
              "      <th>min</th>\n",
              "      <td>1245.000000</td>\n",
              "    </tr>\n",
              "    <tr>\n",
              "      <th>25%</th>\n",
              "      <td>2315.000000</td>\n",
              "    </tr>\n",
              "    <tr>\n",
              "      <th>50%</th>\n",
              "      <td>3396.000000</td>\n",
              "    </tr>\n",
              "    <tr>\n",
              "      <th>75%</th>\n",
              "      <td>4984.000000</td>\n",
              "    </tr>\n",
              "    <tr>\n",
              "      <th>max</th>\n",
              "      <td>8765.000000</td>\n",
              "    </tr>\n",
              "  </tbody>\n",
              "</table>\n",
              "</div>"
            ],
            "text/plain": [
              "       Profitinlakhs\n",
              "count       6.000000\n",
              "mean     4045.000000\n",
              "std      2726.856359\n",
              "min      1245.000000\n",
              "25%      2315.000000\n",
              "50%      3396.000000\n",
              "75%      4984.000000\n",
              "max      8765.000000"
            ]
          },
          "metadata": {},
          "execution_count": 69
        }
      ]
    },
    {
      "cell_type": "code",
      "metadata": {
        "colab": {
          "base_uri": "https://localhost:8080/",
          "height": 295
        },
        "id": "X0lKV_Z6Pj6Q",
        "outputId": "ef6e5572-3db9-446d-9624-f103e2f14d14"
      },
      "source": [
        "custID_grouped.describe().T[['1001','1002']]"
      ],
      "execution_count": 70,
      "outputs": [
        {
          "output_type": "execute_result",
          "data": {
            "text/html": [
              "<div>\n",
              "<style scoped>\n",
              "    .dataframe tbody tr th:only-of-type {\n",
              "        vertical-align: middle;\n",
              "    }\n",
              "\n",
              "    .dataframe tbody tr th {\n",
              "        vertical-align: top;\n",
              "    }\n",
              "\n",
              "    .dataframe thead th {\n",
              "        text-align: right;\n",
              "    }\n",
              "</style>\n",
              "<table border=\"1\" class=\"dataframe\">\n",
              "  <thead>\n",
              "    <tr style=\"text-align: right;\">\n",
              "      <th></th>\n",
              "      <th>CustID</th>\n",
              "      <th>1001</th>\n",
              "      <th>1002</th>\n",
              "    </tr>\n",
              "  </thead>\n",
              "  <tbody>\n",
              "    <tr>\n",
              "      <th rowspan=\"8\" valign=\"top\">Profitinlakhs</th>\n",
              "      <th>count</th>\n",
              "      <td>2.000000</td>\n",
              "      <td>2.000000</td>\n",
              "    </tr>\n",
              "    <tr>\n",
              "      <th>mean</th>\n",
              "      <td>2625.000000</td>\n",
              "      <td>5005.000000</td>\n",
              "    </tr>\n",
              "    <tr>\n",
              "      <th>std</th>\n",
              "      <td>876.812409</td>\n",
              "      <td>5317.442995</td>\n",
              "    </tr>\n",
              "    <tr>\n",
              "      <th>min</th>\n",
              "      <td>2005.000000</td>\n",
              "      <td>1245.000000</td>\n",
              "    </tr>\n",
              "    <tr>\n",
              "      <th>25%</th>\n",
              "      <td>2315.000000</td>\n",
              "      <td>3125.000000</td>\n",
              "    </tr>\n",
              "    <tr>\n",
              "      <th>50%</th>\n",
              "      <td>2625.000000</td>\n",
              "      <td>5005.000000</td>\n",
              "    </tr>\n",
              "    <tr>\n",
              "      <th>75%</th>\n",
              "      <td>2935.000000</td>\n",
              "      <td>6885.000000</td>\n",
              "    </tr>\n",
              "    <tr>\n",
              "      <th>max</th>\n",
              "      <td>3245.000000</td>\n",
              "      <td>8765.000000</td>\n",
              "    </tr>\n",
              "  </tbody>\n",
              "</table>\n",
              "</div>"
            ],
            "text/plain": [
              "CustID                      1001         1002\n",
              "Profitinlakhs count     2.000000     2.000000\n",
              "              mean   2625.000000  5005.000000\n",
              "              std     876.812409  5317.442995\n",
              "              min    2005.000000  1245.000000\n",
              "              25%    2315.000000  3125.000000\n",
              "              50%    2625.000000  5005.000000\n",
              "              75%    2935.000000  6885.000000\n",
              "              max    3245.000000  8765.000000"
            ]
          },
          "metadata": {},
          "execution_count": 70
        }
      ]
    },
    {
      "cell_type": "code",
      "metadata": {
        "colab": {
          "base_uri": "https://localhost:8080/"
        },
        "id": "fSjrqJ4MWmFD",
        "outputId": "bfa0578c-0ecf-436c-d501-1978e16c53fe"
      },
      "source": [
        "dataframe.info()"
      ],
      "execution_count": 71,
      "outputs": [
        {
          "output_type": "stream",
          "name": "stdout",
          "text": [
            "<class 'pandas.core.frame.DataFrame'>\n",
            "RangeIndex: 6 entries, 0 to 5\n",
            "Data columns (total 3 columns):\n",
            " #   Column         Non-Null Count  Dtype \n",
            "---  ------         --------------  ----- \n",
            " 0   CustID         6 non-null      object\n",
            " 1   CustName       6 non-null      object\n",
            " 2   Profitinlakhs  6 non-null      int64 \n",
            "dtypes: int64(1), object(2)\n",
            "memory usage: 272.0+ bytes\n"
          ]
        }
      ]
    },
    {
      "cell_type": "code",
      "metadata": {
        "colab": {
          "base_uri": "https://localhost:8080/"
        },
        "id": "YGEnIsD1Wo_f",
        "outputId": "fec1c547-7ccb-4db7-d14b-b9c757628e73"
      },
      "source": [
        "dataframe['CustID'].describe()"
      ],
      "execution_count": 72,
      "outputs": [
        {
          "output_type": "execute_result",
          "data": {
            "text/plain": [
              "count        6\n",
              "unique       3\n",
              "top       1002\n",
              "freq         2\n",
              "Name: CustID, dtype: object"
            ]
          },
          "metadata": {},
          "execution_count": 72
        }
      ]
    },
    {
      "cell_type": "code",
      "metadata": {
        "id": "6svSqsDRZXu0"
      },
      "source": [
        "# Merge\n",
        "\n",
        "Table1 = pd.DataFrame({'CustID': ['1001', '1002', '1003', '1004'],\n",
        "                     'Q1': ['101', '102', '103', '104'],\n",
        "                     'Q2': ['201', '202', '203', '204']})\n",
        "   \n",
        "Table2 = pd.DataFrame({'CustID': ['1001', '1006', '1003', '1004'],\n",
        "                          'Q3': ['301', '302', '303', '304'],\n",
        "                          'Q4': ['401', '402', '403', '404']})  "
      ],
      "execution_count": 74,
      "outputs": []
    },
    {
      "cell_type": "code",
      "metadata": {
        "colab": {
          "base_uri": "https://localhost:8080/",
          "height": 172
        },
        "id": "um6J0tjAZZbP",
        "outputId": "cbeac40b-2b8b-4a02-9d80-980157232a5e"
      },
      "source": [
        "Table1"
      ],
      "execution_count": 76,
      "outputs": [
        {
          "output_type": "execute_result",
          "data": {
            "text/html": [
              "<div>\n",
              "<style scoped>\n",
              "    .dataframe tbody tr th:only-of-type {\n",
              "        vertical-align: middle;\n",
              "    }\n",
              "\n",
              "    .dataframe tbody tr th {\n",
              "        vertical-align: top;\n",
              "    }\n",
              "\n",
              "    .dataframe thead th {\n",
              "        text-align: right;\n",
              "    }\n",
              "</style>\n",
              "<table border=\"1\" class=\"dataframe\">\n",
              "  <thead>\n",
              "    <tr style=\"text-align: right;\">\n",
              "      <th></th>\n",
              "      <th>CustID</th>\n",
              "      <th>Q1</th>\n",
              "      <th>Q2</th>\n",
              "    </tr>\n",
              "  </thead>\n",
              "  <tbody>\n",
              "    <tr>\n",
              "      <th>0</th>\n",
              "      <td>1001</td>\n",
              "      <td>101</td>\n",
              "      <td>201</td>\n",
              "    </tr>\n",
              "    <tr>\n",
              "      <th>1</th>\n",
              "      <td>1002</td>\n",
              "      <td>102</td>\n",
              "      <td>202</td>\n",
              "    </tr>\n",
              "    <tr>\n",
              "      <th>2</th>\n",
              "      <td>1003</td>\n",
              "      <td>103</td>\n",
              "      <td>203</td>\n",
              "    </tr>\n",
              "    <tr>\n",
              "      <th>3</th>\n",
              "      <td>1004</td>\n",
              "      <td>104</td>\n",
              "      <td>204</td>\n",
              "    </tr>\n",
              "  </tbody>\n",
              "</table>\n",
              "</div>"
            ],
            "text/plain": [
              "  CustID   Q1   Q2\n",
              "0   1001  101  201\n",
              "1   1002  102  202\n",
              "2   1003  103  203\n",
              "3   1004  104  204"
            ]
          },
          "metadata": {},
          "execution_count": 76
        }
      ]
    },
    {
      "cell_type": "code",
      "metadata": {
        "colab": {
          "base_uri": "https://localhost:8080/",
          "height": 172
        },
        "id": "GEgTuX3sZbsm",
        "outputId": "ac3dce84-a582-4c63-a0d2-91f3e41f6f73"
      },
      "source": [
        "Table2"
      ],
      "execution_count": 77,
      "outputs": [
        {
          "output_type": "execute_result",
          "data": {
            "text/html": [
              "<div>\n",
              "<style scoped>\n",
              "    .dataframe tbody tr th:only-of-type {\n",
              "        vertical-align: middle;\n",
              "    }\n",
              "\n",
              "    .dataframe tbody tr th {\n",
              "        vertical-align: top;\n",
              "    }\n",
              "\n",
              "    .dataframe thead th {\n",
              "        text-align: right;\n",
              "    }\n",
              "</style>\n",
              "<table border=\"1\" class=\"dataframe\">\n",
              "  <thead>\n",
              "    <tr style=\"text-align: right;\">\n",
              "      <th></th>\n",
              "      <th>CustID</th>\n",
              "      <th>Q3</th>\n",
              "      <th>Q4</th>\n",
              "    </tr>\n",
              "  </thead>\n",
              "  <tbody>\n",
              "    <tr>\n",
              "      <th>0</th>\n",
              "      <td>1001</td>\n",
              "      <td>301</td>\n",
              "      <td>401</td>\n",
              "    </tr>\n",
              "    <tr>\n",
              "      <th>1</th>\n",
              "      <td>1006</td>\n",
              "      <td>302</td>\n",
              "      <td>402</td>\n",
              "    </tr>\n",
              "    <tr>\n",
              "      <th>2</th>\n",
              "      <td>1003</td>\n",
              "      <td>303</td>\n",
              "      <td>403</td>\n",
              "    </tr>\n",
              "    <tr>\n",
              "      <th>3</th>\n",
              "      <td>1004</td>\n",
              "      <td>304</td>\n",
              "      <td>404</td>\n",
              "    </tr>\n",
              "  </tbody>\n",
              "</table>\n",
              "</div>"
            ],
            "text/plain": [
              "  CustID   Q3   Q4\n",
              "0   1001  301  401\n",
              "1   1006  302  402\n",
              "2   1003  303  403\n",
              "3   1004  304  404"
            ]
          },
          "metadata": {},
          "execution_count": 77
        }
      ]
    },
    {
      "cell_type": "code",
      "metadata": {
        "colab": {
          "base_uri": "https://localhost:8080/",
          "height": 203
        },
        "id": "7thxVReiZhon",
        "outputId": "7cb79ea5-e9d5-472f-e7c0-b2cf638a029e"
      },
      "source": [
        "pd.merge(Table1,Table2,how='outer',on='CustID')"
      ],
      "execution_count": 78,
      "outputs": [
        {
          "output_type": "execute_result",
          "data": {
            "text/html": [
              "<div>\n",
              "<style scoped>\n",
              "    .dataframe tbody tr th:only-of-type {\n",
              "        vertical-align: middle;\n",
              "    }\n",
              "\n",
              "    .dataframe tbody tr th {\n",
              "        vertical-align: top;\n",
              "    }\n",
              "\n",
              "    .dataframe thead th {\n",
              "        text-align: right;\n",
              "    }\n",
              "</style>\n",
              "<table border=\"1\" class=\"dataframe\">\n",
              "  <thead>\n",
              "    <tr style=\"text-align: right;\">\n",
              "      <th></th>\n",
              "      <th>CustID</th>\n",
              "      <th>Q1</th>\n",
              "      <th>Q2</th>\n",
              "      <th>Q3</th>\n",
              "      <th>Q4</th>\n",
              "    </tr>\n",
              "  </thead>\n",
              "  <tbody>\n",
              "    <tr>\n",
              "      <th>0</th>\n",
              "      <td>1001</td>\n",
              "      <td>101</td>\n",
              "      <td>201</td>\n",
              "      <td>301</td>\n",
              "      <td>401</td>\n",
              "    </tr>\n",
              "    <tr>\n",
              "      <th>1</th>\n",
              "      <td>1002</td>\n",
              "      <td>102</td>\n",
              "      <td>202</td>\n",
              "      <td>NaN</td>\n",
              "      <td>NaN</td>\n",
              "    </tr>\n",
              "    <tr>\n",
              "      <th>2</th>\n",
              "      <td>1003</td>\n",
              "      <td>103</td>\n",
              "      <td>203</td>\n",
              "      <td>303</td>\n",
              "      <td>403</td>\n",
              "    </tr>\n",
              "    <tr>\n",
              "      <th>3</th>\n",
              "      <td>1004</td>\n",
              "      <td>104</td>\n",
              "      <td>204</td>\n",
              "      <td>304</td>\n",
              "      <td>404</td>\n",
              "    </tr>\n",
              "    <tr>\n",
              "      <th>4</th>\n",
              "      <td>1006</td>\n",
              "      <td>NaN</td>\n",
              "      <td>NaN</td>\n",
              "      <td>302</td>\n",
              "      <td>402</td>\n",
              "    </tr>\n",
              "  </tbody>\n",
              "</table>\n",
              "</div>"
            ],
            "text/plain": [
              "  CustID   Q1   Q2   Q3   Q4\n",
              "0   1001  101  201  301  401\n",
              "1   1002  102  202  NaN  NaN\n",
              "2   1003  103  203  303  403\n",
              "3   1004  104  204  304  404\n",
              "4   1006  NaN  NaN  302  402"
            ]
          },
          "metadata": {},
          "execution_count": 78
        }
      ]
    },
    {
      "cell_type": "code",
      "metadata": {
        "id": "sWMKmhRFZkuc"
      },
      "source": [
        "Table1 = pd.DataFrame({'Q1': ['101', '102', '103'],\n",
        "                     'Q2': ['201', '202', '203']},\n",
        "                      index=['I0', 'I1', 'I2']) \n",
        "\n",
        "Table2 = pd.DataFrame({'Q3': ['301', '302', '303'],\n",
        "                    'Q4': ['401', '402', '403']},\n",
        "                      index=['I0', 'I2', 'I3'])"
      ],
      "execution_count": 80,
      "outputs": []
    },
    {
      "cell_type": "code",
      "metadata": {
        "colab": {
          "base_uri": "https://localhost:8080/",
          "height": 142
        },
        "id": "rkLNsQvlZnaJ",
        "outputId": "524cb917-994b-4025-a947-2da4554e964d"
      },
      "source": [
        "Table1"
      ],
      "execution_count": 82,
      "outputs": [
        {
          "output_type": "execute_result",
          "data": {
            "text/html": [
              "<div>\n",
              "<style scoped>\n",
              "    .dataframe tbody tr th:only-of-type {\n",
              "        vertical-align: middle;\n",
              "    }\n",
              "\n",
              "    .dataframe tbody tr th {\n",
              "        vertical-align: top;\n",
              "    }\n",
              "\n",
              "    .dataframe thead th {\n",
              "        text-align: right;\n",
              "    }\n",
              "</style>\n",
              "<table border=\"1\" class=\"dataframe\">\n",
              "  <thead>\n",
              "    <tr style=\"text-align: right;\">\n",
              "      <th></th>\n",
              "      <th>Q1</th>\n",
              "      <th>Q2</th>\n",
              "    </tr>\n",
              "  </thead>\n",
              "  <tbody>\n",
              "    <tr>\n",
              "      <th>I0</th>\n",
              "      <td>101</td>\n",
              "      <td>201</td>\n",
              "    </tr>\n",
              "    <tr>\n",
              "      <th>I1</th>\n",
              "      <td>102</td>\n",
              "      <td>202</td>\n",
              "    </tr>\n",
              "    <tr>\n",
              "      <th>I2</th>\n",
              "      <td>103</td>\n",
              "      <td>203</td>\n",
              "    </tr>\n",
              "  </tbody>\n",
              "</table>\n",
              "</div>"
            ],
            "text/plain": [
              "     Q1   Q2\n",
              "I0  101  201\n",
              "I1  102  202\n",
              "I2  103  203"
            ]
          },
          "metadata": {},
          "execution_count": 82
        }
      ]
    },
    {
      "cell_type": "code",
      "metadata": {
        "colab": {
          "base_uri": "https://localhost:8080/",
          "height": 142
        },
        "id": "iwIFFkAKZpzf",
        "outputId": "cd861c3e-f629-4733-b9c3-0dc2084f556e"
      },
      "source": [
        "Table2"
      ],
      "execution_count": 83,
      "outputs": [
        {
          "output_type": "execute_result",
          "data": {
            "text/html": [
              "<div>\n",
              "<style scoped>\n",
              "    .dataframe tbody tr th:only-of-type {\n",
              "        vertical-align: middle;\n",
              "    }\n",
              "\n",
              "    .dataframe tbody tr th {\n",
              "        vertical-align: top;\n",
              "    }\n",
              "\n",
              "    .dataframe thead th {\n",
              "        text-align: right;\n",
              "    }\n",
              "</style>\n",
              "<table border=\"1\" class=\"dataframe\">\n",
              "  <thead>\n",
              "    <tr style=\"text-align: right;\">\n",
              "      <th></th>\n",
              "      <th>Q3</th>\n",
              "      <th>Q4</th>\n",
              "    </tr>\n",
              "  </thead>\n",
              "  <tbody>\n",
              "    <tr>\n",
              "      <th>I0</th>\n",
              "      <td>301</td>\n",
              "      <td>401</td>\n",
              "    </tr>\n",
              "    <tr>\n",
              "      <th>I2</th>\n",
              "      <td>302</td>\n",
              "      <td>402</td>\n",
              "    </tr>\n",
              "    <tr>\n",
              "      <th>I3</th>\n",
              "      <td>303</td>\n",
              "      <td>403</td>\n",
              "    </tr>\n",
              "  </tbody>\n",
              "</table>\n",
              "</div>"
            ],
            "text/plain": [
              "     Q3   Q4\n",
              "I0  301  401\n",
              "I2  302  402\n",
              "I3  303  403"
            ]
          },
          "metadata": {},
          "execution_count": 83
        }
      ]
    },
    {
      "cell_type": "code",
      "metadata": {
        "colab": {
          "base_uri": "https://localhost:8080/",
          "height": 142
        },
        "id": "Hrf85h8RZthM",
        "outputId": "fed3f5b1-4981-4656-ceb7-1d6b0d482441"
      },
      "source": [
        "Table1.join(Table2,how='right')"
      ],
      "execution_count": 84,
      "outputs": [
        {
          "output_type": "execute_result",
          "data": {
            "text/html": [
              "<div>\n",
              "<style scoped>\n",
              "    .dataframe tbody tr th:only-of-type {\n",
              "        vertical-align: middle;\n",
              "    }\n",
              "\n",
              "    .dataframe tbody tr th {\n",
              "        vertical-align: top;\n",
              "    }\n",
              "\n",
              "    .dataframe thead th {\n",
              "        text-align: right;\n",
              "    }\n",
              "</style>\n",
              "<table border=\"1\" class=\"dataframe\">\n",
              "  <thead>\n",
              "    <tr style=\"text-align: right;\">\n",
              "      <th></th>\n",
              "      <th>Q1</th>\n",
              "      <th>Q2</th>\n",
              "      <th>Q3</th>\n",
              "      <th>Q4</th>\n",
              "    </tr>\n",
              "  </thead>\n",
              "  <tbody>\n",
              "    <tr>\n",
              "      <th>I0</th>\n",
              "      <td>101</td>\n",
              "      <td>201</td>\n",
              "      <td>301</td>\n",
              "      <td>401</td>\n",
              "    </tr>\n",
              "    <tr>\n",
              "      <th>I2</th>\n",
              "      <td>103</td>\n",
              "      <td>203</td>\n",
              "      <td>302</td>\n",
              "      <td>402</td>\n",
              "    </tr>\n",
              "    <tr>\n",
              "      <th>I3</th>\n",
              "      <td>NaN</td>\n",
              "      <td>NaN</td>\n",
              "      <td>303</td>\n",
              "      <td>403</td>\n",
              "    </tr>\n",
              "  </tbody>\n",
              "</table>\n",
              "</div>"
            ],
            "text/plain": [
              "     Q1   Q2   Q3   Q4\n",
              "I0  101  201  301  401\n",
              "I2  103  203  302  402\n",
              "I3  NaN  NaN  303  403"
            ]
          },
          "metadata": {},
          "execution_count": 84
        }
      ]
    },
    {
      "cell_type": "code",
      "metadata": {
        "colab": {
          "base_uri": "https://localhost:8080/",
          "height": 172
        },
        "id": "UJEk8tRRfNmE",
        "outputId": "27517346-82f7-4343-c47a-b5c3ddfc0b66"
      },
      "source": [
        "dataframe = pd.DataFrame({'custID':[1,2,3,4],'SaleType':['big','small','medium','big'],'SalesCode':['121','131','141','151']})\n",
        "dataframe"
      ],
      "execution_count": 85,
      "outputs": [
        {
          "output_type": "execute_result",
          "data": {
            "text/html": [
              "<div>\n",
              "<style scoped>\n",
              "    .dataframe tbody tr th:only-of-type {\n",
              "        vertical-align: middle;\n",
              "    }\n",
              "\n",
              "    .dataframe tbody tr th {\n",
              "        vertical-align: top;\n",
              "    }\n",
              "\n",
              "    .dataframe thead th {\n",
              "        text-align: right;\n",
              "    }\n",
              "</style>\n",
              "<table border=\"1\" class=\"dataframe\">\n",
              "  <thead>\n",
              "    <tr style=\"text-align: right;\">\n",
              "      <th></th>\n",
              "      <th>custID</th>\n",
              "      <th>SaleType</th>\n",
              "      <th>SalesCode</th>\n",
              "    </tr>\n",
              "  </thead>\n",
              "  <tbody>\n",
              "    <tr>\n",
              "      <th>0</th>\n",
              "      <td>1</td>\n",
              "      <td>big</td>\n",
              "      <td>121</td>\n",
              "    </tr>\n",
              "    <tr>\n",
              "      <th>1</th>\n",
              "      <td>2</td>\n",
              "      <td>small</td>\n",
              "      <td>131</td>\n",
              "    </tr>\n",
              "    <tr>\n",
              "      <th>2</th>\n",
              "      <td>3</td>\n",
              "      <td>medium</td>\n",
              "      <td>141</td>\n",
              "    </tr>\n",
              "    <tr>\n",
              "      <th>3</th>\n",
              "      <td>4</td>\n",
              "      <td>big</td>\n",
              "      <td>151</td>\n",
              "    </tr>\n",
              "  </tbody>\n",
              "</table>\n",
              "</div>"
            ],
            "text/plain": [
              "   custID SaleType SalesCode\n",
              "0       1      big       121\n",
              "1       2    small       131\n",
              "2       3   medium       141\n",
              "3       4      big       151"
            ]
          },
          "metadata": {},
          "execution_count": 85
        }
      ]
    },
    {
      "cell_type": "code",
      "metadata": {
        "colab": {
          "base_uri": "https://localhost:8080/"
        },
        "id": "1wtp-8vAfTMD",
        "outputId": "6f370d98-e11b-4013-efd6-bfbadefe1fa6"
      },
      "source": [
        "dataframe['SaleType'].unique()"
      ],
      "execution_count": 86,
      "outputs": [
        {
          "output_type": "execute_result",
          "data": {
            "text/plain": [
              "array(['big', 'small', 'medium'], dtype=object)"
            ]
          },
          "metadata": {},
          "execution_count": 86
        }
      ]
    },
    {
      "cell_type": "code",
      "metadata": {
        "colab": {
          "base_uri": "https://localhost:8080/"
        },
        "id": "llBgZjzGfW5H",
        "outputId": "7d4c738d-6dd6-473b-ca62-156a0fa55093"
      },
      "source": [
        "dataframe['SaleType'].nunique()"
      ],
      "execution_count": 87,
      "outputs": [
        {
          "output_type": "execute_result",
          "data": {
            "text/plain": [
              "3"
            ]
          },
          "metadata": {},
          "execution_count": 87
        }
      ]
    },
    {
      "cell_type": "code",
      "metadata": {
        "colab": {
          "base_uri": "https://localhost:8080/"
        },
        "id": "6uPQOkg0fZfT",
        "outputId": "3c87de69-5f9f-4d13-e128-e591fd40b2f4"
      },
      "source": [
        "dataframe['SaleType'].value_counts()"
      ],
      "execution_count": 88,
      "outputs": [
        {
          "output_type": "execute_result",
          "data": {
            "text/plain": [
              "big       2\n",
              "small     1\n",
              "medium    1\n",
              "Name: SaleType, dtype: int64"
            ]
          },
          "metadata": {},
          "execution_count": 88
        }
      ]
    },
    {
      "cell_type": "code",
      "metadata": {
        "id": "aZ8knGQvfcP7"
      },
      "source": [
        "dataframe['SalesAmt'] = [100,200,300,400]"
      ],
      "execution_count": 89,
      "outputs": []
    },
    {
      "cell_type": "code",
      "metadata": {
        "colab": {
          "base_uri": "https://localhost:8080/",
          "height": 172
        },
        "id": "BHgYdI7Wffwl",
        "outputId": "863f87c9-6e89-41ef-ff11-b5d3935c238e"
      },
      "source": [
        "dataframe"
      ],
      "execution_count": 90,
      "outputs": [
        {
          "output_type": "execute_result",
          "data": {
            "text/html": [
              "<div>\n",
              "<style scoped>\n",
              "    .dataframe tbody tr th:only-of-type {\n",
              "        vertical-align: middle;\n",
              "    }\n",
              "\n",
              "    .dataframe tbody tr th {\n",
              "        vertical-align: top;\n",
              "    }\n",
              "\n",
              "    .dataframe thead th {\n",
              "        text-align: right;\n",
              "    }\n",
              "</style>\n",
              "<table border=\"1\" class=\"dataframe\">\n",
              "  <thead>\n",
              "    <tr style=\"text-align: right;\">\n",
              "      <th></th>\n",
              "      <th>custID</th>\n",
              "      <th>SaleType</th>\n",
              "      <th>SalesCode</th>\n",
              "      <th>SalesAmt</th>\n",
              "    </tr>\n",
              "  </thead>\n",
              "  <tbody>\n",
              "    <tr>\n",
              "      <th>0</th>\n",
              "      <td>1</td>\n",
              "      <td>big</td>\n",
              "      <td>121</td>\n",
              "      <td>100</td>\n",
              "    </tr>\n",
              "    <tr>\n",
              "      <th>1</th>\n",
              "      <td>2</td>\n",
              "      <td>small</td>\n",
              "      <td>131</td>\n",
              "      <td>200</td>\n",
              "    </tr>\n",
              "    <tr>\n",
              "      <th>2</th>\n",
              "      <td>3</td>\n",
              "      <td>medium</td>\n",
              "      <td>141</td>\n",
              "      <td>300</td>\n",
              "    </tr>\n",
              "    <tr>\n",
              "      <th>3</th>\n",
              "      <td>4</td>\n",
              "      <td>big</td>\n",
              "      <td>151</td>\n",
              "      <td>400</td>\n",
              "    </tr>\n",
              "  </tbody>\n",
              "</table>\n",
              "</div>"
            ],
            "text/plain": [
              "   custID SaleType SalesCode  SalesAmt\n",
              "0       1      big       121       100\n",
              "1       2    small       131       200\n",
              "2       3   medium       141       300\n",
              "3       4      big       151       400"
            ]
          },
          "metadata": {},
          "execution_count": 90
        }
      ]
    },
    {
      "cell_type": "code",
      "metadata": {
        "id": "PcXfZSSYfijv"
      },
      "source": [
        "def salesbeforetax(a):\n",
        "  return a*.82"
      ],
      "execution_count": 91,
      "outputs": []
    },
    {
      "cell_type": "code",
      "metadata": {
        "colab": {
          "base_uri": "https://localhost:8080/"
        },
        "id": "zrkCX7qCfmE3",
        "outputId": "2f2e4fc8-37f8-4eab-e287-bc0df13e4f8c"
      },
      "source": [
        "salesbeforetax(100)"
      ],
      "execution_count": 92,
      "outputs": [
        {
          "output_type": "execute_result",
          "data": {
            "text/plain": [
              "82.0"
            ]
          },
          "metadata": {},
          "execution_count": 92
        }
      ]
    },
    {
      "cell_type": "code",
      "metadata": {
        "colab": {
          "base_uri": "https://localhost:8080/"
        },
        "id": "hnwkZ3uhfooK",
        "outputId": "b6442e0a-42a2-470d-891a-13e8ed894dba"
      },
      "source": [
        "dataframe['SalesAmt'].apply(salesbeforetax)"
      ],
      "execution_count": 93,
      "outputs": [
        {
          "output_type": "execute_result",
          "data": {
            "text/plain": [
              "0     82.0\n",
              "1    164.0\n",
              "2    246.0\n",
              "3    328.0\n",
              "Name: SalesAmt, dtype: float64"
            ]
          },
          "metadata": {},
          "execution_count": 93
        }
      ]
    },
    {
      "cell_type": "code",
      "metadata": {
        "id": "ufhJiSwsfrGg"
      },
      "source": [
        "dataframe['SalesAmt'] = dataframe['SalesAmt'].apply(salesbeforetax)"
      ],
      "execution_count": 94,
      "outputs": []
    },
    {
      "cell_type": "code",
      "metadata": {
        "colab": {
          "base_uri": "https://localhost:8080/",
          "height": 172
        },
        "id": "vdUgJriWftVH",
        "outputId": "1db766e0-364a-449c-ec8d-1284cd3ffe7f"
      },
      "source": [
        "dataframe"
      ],
      "execution_count": 95,
      "outputs": [
        {
          "output_type": "execute_result",
          "data": {
            "text/html": [
              "<div>\n",
              "<style scoped>\n",
              "    .dataframe tbody tr th:only-of-type {\n",
              "        vertical-align: middle;\n",
              "    }\n",
              "\n",
              "    .dataframe tbody tr th {\n",
              "        vertical-align: top;\n",
              "    }\n",
              "\n",
              "    .dataframe thead th {\n",
              "        text-align: right;\n",
              "    }\n",
              "</style>\n",
              "<table border=\"1\" class=\"dataframe\">\n",
              "  <thead>\n",
              "    <tr style=\"text-align: right;\">\n",
              "      <th></th>\n",
              "      <th>custID</th>\n",
              "      <th>SaleType</th>\n",
              "      <th>SalesCode</th>\n",
              "      <th>SalesAmt</th>\n",
              "    </tr>\n",
              "  </thead>\n",
              "  <tbody>\n",
              "    <tr>\n",
              "      <th>0</th>\n",
              "      <td>1</td>\n",
              "      <td>big</td>\n",
              "      <td>121</td>\n",
              "      <td>82.0</td>\n",
              "    </tr>\n",
              "    <tr>\n",
              "      <th>1</th>\n",
              "      <td>2</td>\n",
              "      <td>small</td>\n",
              "      <td>131</td>\n",
              "      <td>164.0</td>\n",
              "    </tr>\n",
              "    <tr>\n",
              "      <th>2</th>\n",
              "      <td>3</td>\n",
              "      <td>medium</td>\n",
              "      <td>141</td>\n",
              "      <td>246.0</td>\n",
              "    </tr>\n",
              "    <tr>\n",
              "      <th>3</th>\n",
              "      <td>4</td>\n",
              "      <td>big</td>\n",
              "      <td>151</td>\n",
              "      <td>328.0</td>\n",
              "    </tr>\n",
              "  </tbody>\n",
              "</table>\n",
              "</div>"
            ],
            "text/plain": [
              "   custID SaleType SalesCode  SalesAmt\n",
              "0       1      big       121      82.0\n",
              "1       2    small       131     164.0\n",
              "2       3   medium       141     246.0\n",
              "3       4      big       151     328.0"
            ]
          },
          "metadata": {},
          "execution_count": 95
        }
      ]
    },
    {
      "cell_type": "code",
      "metadata": {
        "colab": {
          "base_uri": "https://localhost:8080/"
        },
        "id": "Lpm83QwafvkQ",
        "outputId": "640e5b82-08b8-47db-f768-810465bd95d7"
      },
      "source": [
        "dataframe['SaleType'].apply(len)"
      ],
      "execution_count": 96,
      "outputs": [
        {
          "output_type": "execute_result",
          "data": {
            "text/plain": [
              "0    3\n",
              "1    5\n",
              "2    6\n",
              "3    3\n",
              "Name: SaleType, dtype: int64"
            ]
          },
          "metadata": {},
          "execution_count": 96
        }
      ]
    },
    {
      "cell_type": "code",
      "metadata": {
        "id": "3lUy72r6fyM3"
      },
      "source": [
        "del dataframe['custID']"
      ],
      "execution_count": 97,
      "outputs": []
    },
    {
      "cell_type": "code",
      "metadata": {
        "colab": {
          "base_uri": "https://localhost:8080/",
          "height": 172
        },
        "id": "46AyM5qrf0lw",
        "outputId": "df20b54c-dbee-4ba5-8388-d050053c9cb7"
      },
      "source": [
        "dataframe"
      ],
      "execution_count": 98,
      "outputs": [
        {
          "output_type": "execute_result",
          "data": {
            "text/html": [
              "<div>\n",
              "<style scoped>\n",
              "    .dataframe tbody tr th:only-of-type {\n",
              "        vertical-align: middle;\n",
              "    }\n",
              "\n",
              "    .dataframe tbody tr th {\n",
              "        vertical-align: top;\n",
              "    }\n",
              "\n",
              "    .dataframe thead th {\n",
              "        text-align: right;\n",
              "    }\n",
              "</style>\n",
              "<table border=\"1\" class=\"dataframe\">\n",
              "  <thead>\n",
              "    <tr style=\"text-align: right;\">\n",
              "      <th></th>\n",
              "      <th>SaleType</th>\n",
              "      <th>SalesCode</th>\n",
              "      <th>SalesAmt</th>\n",
              "    </tr>\n",
              "  </thead>\n",
              "  <tbody>\n",
              "    <tr>\n",
              "      <th>0</th>\n",
              "      <td>big</td>\n",
              "      <td>121</td>\n",
              "      <td>82.0</td>\n",
              "    </tr>\n",
              "    <tr>\n",
              "      <th>1</th>\n",
              "      <td>small</td>\n",
              "      <td>131</td>\n",
              "      <td>164.0</td>\n",
              "    </tr>\n",
              "    <tr>\n",
              "      <th>2</th>\n",
              "      <td>medium</td>\n",
              "      <td>141</td>\n",
              "      <td>246.0</td>\n",
              "    </tr>\n",
              "    <tr>\n",
              "      <th>3</th>\n",
              "      <td>big</td>\n",
              "      <td>151</td>\n",
              "      <td>328.0</td>\n",
              "    </tr>\n",
              "  </tbody>\n",
              "</table>\n",
              "</div>"
            ],
            "text/plain": [
              "  SaleType SalesCode  SalesAmt\n",
              "0      big       121      82.0\n",
              "1    small       131     164.0\n",
              "2   medium       141     246.0\n",
              "3      big       151     328.0"
            ]
          },
          "metadata": {},
          "execution_count": 98
        }
      ]
    },
    {
      "cell_type": "code",
      "metadata": {
        "colab": {
          "base_uri": "https://localhost:8080/",
          "height": 172
        },
        "id": "bKILW3Umf3ky",
        "outputId": "46f90960-7ece-421c-9a6e-3a09f360486a"
      },
      "source": [
        "dataframe.sort_values(by='SaleType')"
      ],
      "execution_count": 99,
      "outputs": [
        {
          "output_type": "execute_result",
          "data": {
            "text/html": [
              "<div>\n",
              "<style scoped>\n",
              "    .dataframe tbody tr th:only-of-type {\n",
              "        vertical-align: middle;\n",
              "    }\n",
              "\n",
              "    .dataframe tbody tr th {\n",
              "        vertical-align: top;\n",
              "    }\n",
              "\n",
              "    .dataframe thead th {\n",
              "        text-align: right;\n",
              "    }\n",
              "</style>\n",
              "<table border=\"1\" class=\"dataframe\">\n",
              "  <thead>\n",
              "    <tr style=\"text-align: right;\">\n",
              "      <th></th>\n",
              "      <th>SaleType</th>\n",
              "      <th>SalesCode</th>\n",
              "      <th>SalesAmt</th>\n",
              "    </tr>\n",
              "  </thead>\n",
              "  <tbody>\n",
              "    <tr>\n",
              "      <th>0</th>\n",
              "      <td>big</td>\n",
              "      <td>121</td>\n",
              "      <td>82.0</td>\n",
              "    </tr>\n",
              "    <tr>\n",
              "      <th>3</th>\n",
              "      <td>big</td>\n",
              "      <td>151</td>\n",
              "      <td>328.0</td>\n",
              "    </tr>\n",
              "    <tr>\n",
              "      <th>2</th>\n",
              "      <td>medium</td>\n",
              "      <td>141</td>\n",
              "      <td>246.0</td>\n",
              "    </tr>\n",
              "    <tr>\n",
              "      <th>1</th>\n",
              "      <td>small</td>\n",
              "      <td>131</td>\n",
              "      <td>164.0</td>\n",
              "    </tr>\n",
              "  </tbody>\n",
              "</table>\n",
              "</div>"
            ],
            "text/plain": [
              "  SaleType SalesCode  SalesAmt\n",
              "0      big       121      82.0\n",
              "3      big       151     328.0\n",
              "2   medium       141     246.0\n",
              "1    small       131     164.0"
            ]
          },
          "metadata": {},
          "execution_count": 99
        }
      ]
    },
    {
      "cell_type": "code",
      "metadata": {
        "id": "373EdmoigBXF"
      },
      "source": [
        "#Data import and export\n",
        "dataframe1 = pd.read_csv('pandas-train.csv')"
      ],
      "execution_count": 103,
      "outputs": []
    },
    {
      "cell_type": "code",
      "metadata": {
        "id": "t37eSl0ShWs7"
      },
      "source": [
        "dataframe2 = pd.read_excel('pandas-Consumer.xlsx')"
      ],
      "execution_count": 104,
      "outputs": []
    },
    {
      "cell_type": "code",
      "metadata": {
        "id": "-ocDPCGuhxLX"
      },
      "source": [
        "dataframe1.to_csv('train_exported.csv', index=False)"
      ],
      "execution_count": 105,
      "outputs": []
    },
    {
      "cell_type": "code",
      "metadata": {
        "id": "LDdAUEXmizIk"
      },
      "source": [
        "dataframe2.to_excel('train2_exported.xlsx', sheet_name='Data2')"
      ],
      "execution_count": 106,
      "outputs": []
    },
    {
      "cell_type": "code",
      "metadata": {
        "colab": {
          "base_uri": "https://localhost:8080/",
          "height": 237
        },
        "id": "66zEhNYkk9W4",
        "outputId": "dc73abd1-22cb-47f3-ddd3-1ea9d88c2785"
      },
      "source": [
        "dataframe1.head()"
      ],
      "execution_count": 107,
      "outputs": [
        {
          "output_type": "execute_result",
          "data": {
            "text/html": [
              "<div>\n",
              "<style scoped>\n",
              "    .dataframe tbody tr th:only-of-type {\n",
              "        vertical-align: middle;\n",
              "    }\n",
              "\n",
              "    .dataframe tbody tr th {\n",
              "        vertical-align: top;\n",
              "    }\n",
              "\n",
              "    .dataframe thead th {\n",
              "        text-align: right;\n",
              "    }\n",
              "</style>\n",
              "<table border=\"1\" class=\"dataframe\">\n",
              "  <thead>\n",
              "    <tr style=\"text-align: right;\">\n",
              "      <th></th>\n",
              "      <th>PassengerId</th>\n",
              "      <th>Survived</th>\n",
              "      <th>Pclass</th>\n",
              "      <th>Name</th>\n",
              "      <th>Sex</th>\n",
              "      <th>Age</th>\n",
              "      <th>SibSp</th>\n",
              "      <th>Parch</th>\n",
              "      <th>Ticket</th>\n",
              "      <th>Fare</th>\n",
              "      <th>Cabin</th>\n",
              "      <th>Embarked</th>\n",
              "    </tr>\n",
              "  </thead>\n",
              "  <tbody>\n",
              "    <tr>\n",
              "      <th>0</th>\n",
              "      <td>1</td>\n",
              "      <td>0</td>\n",
              "      <td>3</td>\n",
              "      <td>Braund, Mr. Owen Harris</td>\n",
              "      <td>male</td>\n",
              "      <td>22.0</td>\n",
              "      <td>1</td>\n",
              "      <td>0</td>\n",
              "      <td>A/5 21171</td>\n",
              "      <td>7.2500</td>\n",
              "      <td>NaN</td>\n",
              "      <td>S</td>\n",
              "    </tr>\n",
              "    <tr>\n",
              "      <th>1</th>\n",
              "      <td>2</td>\n",
              "      <td>1</td>\n",
              "      <td>1</td>\n",
              "      <td>Cumings, Mrs. John Bradley (Florence Briggs Th...</td>\n",
              "      <td>female</td>\n",
              "      <td>38.0</td>\n",
              "      <td>1</td>\n",
              "      <td>0</td>\n",
              "      <td>PC 17599</td>\n",
              "      <td>71.2833</td>\n",
              "      <td>C85</td>\n",
              "      <td>C</td>\n",
              "    </tr>\n",
              "    <tr>\n",
              "      <th>2</th>\n",
              "      <td>3</td>\n",
              "      <td>1</td>\n",
              "      <td>3</td>\n",
              "      <td>Heikkinen, Miss. Laina</td>\n",
              "      <td>female</td>\n",
              "      <td>26.0</td>\n",
              "      <td>0</td>\n",
              "      <td>0</td>\n",
              "      <td>STON/O2. 3101282</td>\n",
              "      <td>7.9250</td>\n",
              "      <td>NaN</td>\n",
              "      <td>S</td>\n",
              "    </tr>\n",
              "    <tr>\n",
              "      <th>3</th>\n",
              "      <td>4</td>\n",
              "      <td>1</td>\n",
              "      <td>1</td>\n",
              "      <td>Futrelle, Mrs. Jacques Heath (Lily May Peel)</td>\n",
              "      <td>female</td>\n",
              "      <td>35.0</td>\n",
              "      <td>1</td>\n",
              "      <td>0</td>\n",
              "      <td>113803</td>\n",
              "      <td>53.1000</td>\n",
              "      <td>C123</td>\n",
              "      <td>S</td>\n",
              "    </tr>\n",
              "    <tr>\n",
              "      <th>4</th>\n",
              "      <td>5</td>\n",
              "      <td>0</td>\n",
              "      <td>3</td>\n",
              "      <td>Allen, Mr. William Henry</td>\n",
              "      <td>male</td>\n",
              "      <td>35.0</td>\n",
              "      <td>0</td>\n",
              "      <td>0</td>\n",
              "      <td>373450</td>\n",
              "      <td>8.0500</td>\n",
              "      <td>NaN</td>\n",
              "      <td>S</td>\n",
              "    </tr>\n",
              "  </tbody>\n",
              "</table>\n",
              "</div>"
            ],
            "text/plain": [
              "   PassengerId  Survived  Pclass  ...     Fare Cabin  Embarked\n",
              "0            1         0       3  ...   7.2500   NaN         S\n",
              "1            2         1       1  ...  71.2833   C85         C\n",
              "2            3         1       3  ...   7.9250   NaN         S\n",
              "3            4         1       1  ...  53.1000  C123         S\n",
              "4            5         0       3  ...   8.0500   NaN         S\n",
              "\n",
              "[5 rows x 12 columns]"
            ]
          },
          "metadata": {},
          "execution_count": 107
        }
      ]
    },
    {
      "cell_type": "code",
      "metadata": {
        "colab": {
          "base_uri": "https://localhost:8080/",
          "height": 203
        },
        "id": "dE6OWASKlCzy",
        "outputId": "90a826e0-c0fb-4c0a-abca-00e80e0a3247"
      },
      "source": [
        "dataframe1.tail()"
      ],
      "execution_count": 108,
      "outputs": [
        {
          "output_type": "execute_result",
          "data": {
            "text/html": [
              "<div>\n",
              "<style scoped>\n",
              "    .dataframe tbody tr th:only-of-type {\n",
              "        vertical-align: middle;\n",
              "    }\n",
              "\n",
              "    .dataframe tbody tr th {\n",
              "        vertical-align: top;\n",
              "    }\n",
              "\n",
              "    .dataframe thead th {\n",
              "        text-align: right;\n",
              "    }\n",
              "</style>\n",
              "<table border=\"1\" class=\"dataframe\">\n",
              "  <thead>\n",
              "    <tr style=\"text-align: right;\">\n",
              "      <th></th>\n",
              "      <th>PassengerId</th>\n",
              "      <th>Survived</th>\n",
              "      <th>Pclass</th>\n",
              "      <th>Name</th>\n",
              "      <th>Sex</th>\n",
              "      <th>Age</th>\n",
              "      <th>SibSp</th>\n",
              "      <th>Parch</th>\n",
              "      <th>Ticket</th>\n",
              "      <th>Fare</th>\n",
              "      <th>Cabin</th>\n",
              "      <th>Embarked</th>\n",
              "    </tr>\n",
              "  </thead>\n",
              "  <tbody>\n",
              "    <tr>\n",
              "      <th>886</th>\n",
              "      <td>887</td>\n",
              "      <td>0</td>\n",
              "      <td>2</td>\n",
              "      <td>Montvila, Rev. Juozas</td>\n",
              "      <td>male</td>\n",
              "      <td>27.0</td>\n",
              "      <td>0</td>\n",
              "      <td>0</td>\n",
              "      <td>211536</td>\n",
              "      <td>13.00</td>\n",
              "      <td>NaN</td>\n",
              "      <td>S</td>\n",
              "    </tr>\n",
              "    <tr>\n",
              "      <th>887</th>\n",
              "      <td>888</td>\n",
              "      <td>1</td>\n",
              "      <td>1</td>\n",
              "      <td>Graham, Miss. Margaret Edith</td>\n",
              "      <td>female</td>\n",
              "      <td>19.0</td>\n",
              "      <td>0</td>\n",
              "      <td>0</td>\n",
              "      <td>112053</td>\n",
              "      <td>30.00</td>\n",
              "      <td>B42</td>\n",
              "      <td>S</td>\n",
              "    </tr>\n",
              "    <tr>\n",
              "      <th>888</th>\n",
              "      <td>889</td>\n",
              "      <td>0</td>\n",
              "      <td>3</td>\n",
              "      <td>Johnston, Miss. Catherine Helen \"Carrie\"</td>\n",
              "      <td>female</td>\n",
              "      <td>NaN</td>\n",
              "      <td>1</td>\n",
              "      <td>2</td>\n",
              "      <td>W./C. 6607</td>\n",
              "      <td>23.45</td>\n",
              "      <td>NaN</td>\n",
              "      <td>S</td>\n",
              "    </tr>\n",
              "    <tr>\n",
              "      <th>889</th>\n",
              "      <td>890</td>\n",
              "      <td>1</td>\n",
              "      <td>1</td>\n",
              "      <td>Behr, Mr. Karl Howell</td>\n",
              "      <td>male</td>\n",
              "      <td>26.0</td>\n",
              "      <td>0</td>\n",
              "      <td>0</td>\n",
              "      <td>111369</td>\n",
              "      <td>30.00</td>\n",
              "      <td>C148</td>\n",
              "      <td>C</td>\n",
              "    </tr>\n",
              "    <tr>\n",
              "      <th>890</th>\n",
              "      <td>891</td>\n",
              "      <td>0</td>\n",
              "      <td>3</td>\n",
              "      <td>Dooley, Mr. Patrick</td>\n",
              "      <td>male</td>\n",
              "      <td>32.0</td>\n",
              "      <td>0</td>\n",
              "      <td>0</td>\n",
              "      <td>370376</td>\n",
              "      <td>7.75</td>\n",
              "      <td>NaN</td>\n",
              "      <td>Q</td>\n",
              "    </tr>\n",
              "  </tbody>\n",
              "</table>\n",
              "</div>"
            ],
            "text/plain": [
              "     PassengerId  Survived  Pclass  ...   Fare Cabin  Embarked\n",
              "886          887         0       2  ...  13.00   NaN         S\n",
              "887          888         1       1  ...  30.00   B42         S\n",
              "888          889         0       3  ...  23.45   NaN         S\n",
              "889          890         1       1  ...  30.00  C148         C\n",
              "890          891         0       3  ...   7.75   NaN         Q\n",
              "\n",
              "[5 rows x 12 columns]"
            ]
          },
          "metadata": {},
          "execution_count": 108
        }
      ]
    },
    {
      "cell_type": "code",
      "metadata": {
        "colab": {
          "base_uri": "https://localhost:8080/"
        },
        "id": "nqjl9RtTlFVy",
        "outputId": "9e946c06-84f9-4489-8779-9c87a0470307"
      },
      "source": [
        "dataframe1['Survived'].sum()"
      ],
      "execution_count": 116,
      "outputs": [
        {
          "output_type": "execute_result",
          "data": {
            "text/plain": [
              "342"
            ]
          },
          "metadata": {},
          "execution_count": 116
        }
      ]
    },
    {
      "cell_type": "code",
      "metadata": {
        "colab": {
          "base_uri": "https://localhost:8080/"
        },
        "id": "Kb-IRDjGm4XI",
        "outputId": "39321866-8c02-4b04-90c4-a9344f4b83f9"
      },
      "source": [
        "dataframe1['Age'].mean()"
      ],
      "execution_count": 117,
      "outputs": [
        {
          "output_type": "execute_result",
          "data": {
            "text/plain": [
              "29.69911764705882"
            ]
          },
          "metadata": {},
          "execution_count": 117
        }
      ]
    },
    {
      "cell_type": "code",
      "metadata": {
        "colab": {
          "base_uri": "https://localhost:8080/"
        },
        "id": "ZCqwTf8EnfJD",
        "outputId": "bd5e84d2-dc32-4474-d27b-bdf63e0fca80"
      },
      "source": [
        "dataframe1.groupby('Sex').Age.mean()"
      ],
      "execution_count": 119,
      "outputs": [
        {
          "output_type": "execute_result",
          "data": {
            "text/plain": [
              "Sex\n",
              "female    27.915709\n",
              "male      30.726645\n",
              "Name: Age, dtype: float64"
            ]
          },
          "metadata": {},
          "execution_count": 119
        }
      ]
    },
    {
      "cell_type": "code",
      "metadata": {
        "colab": {
          "base_uri": "https://localhost:8080/",
          "height": 142
        },
        "id": "XIlY7N6IoUDf",
        "outputId": "f105911b-c4e4-4f7e-92a6-70351d6fd71c"
      },
      "source": [
        "dataframe1[dataframe1['Fare'] == dataframe1['Fare'].max()][['Name', 'Fare']]"
      ],
      "execution_count": 129,
      "outputs": [
        {
          "output_type": "execute_result",
          "data": {
            "text/html": [
              "<div>\n",
              "<style scoped>\n",
              "    .dataframe tbody tr th:only-of-type {\n",
              "        vertical-align: middle;\n",
              "    }\n",
              "\n",
              "    .dataframe tbody tr th {\n",
              "        vertical-align: top;\n",
              "    }\n",
              "\n",
              "    .dataframe thead th {\n",
              "        text-align: right;\n",
              "    }\n",
              "</style>\n",
              "<table border=\"1\" class=\"dataframe\">\n",
              "  <thead>\n",
              "    <tr style=\"text-align: right;\">\n",
              "      <th></th>\n",
              "      <th>Name</th>\n",
              "      <th>Fare</th>\n",
              "    </tr>\n",
              "  </thead>\n",
              "  <tbody>\n",
              "    <tr>\n",
              "      <th>258</th>\n",
              "      <td>Ward, Miss. Anna</td>\n",
              "      <td>512.3292</td>\n",
              "    </tr>\n",
              "    <tr>\n",
              "      <th>679</th>\n",
              "      <td>Cardeza, Mr. Thomas Drake Martinez</td>\n",
              "      <td>512.3292</td>\n",
              "    </tr>\n",
              "    <tr>\n",
              "      <th>737</th>\n",
              "      <td>Lesurer, Mr. Gustave J</td>\n",
              "      <td>512.3292</td>\n",
              "    </tr>\n",
              "  </tbody>\n",
              "</table>\n",
              "</div>"
            ],
            "text/plain": [
              "                                   Name      Fare\n",
              "258                    Ward, Miss. Anna  512.3292\n",
              "679  Cardeza, Mr. Thomas Drake Martinez  512.3292\n",
              "737              Lesurer, Mr. Gustave J  512.3292"
            ]
          },
          "metadata": {},
          "execution_count": 129
        }
      ]
    },
    {
      "cell_type": "code",
      "metadata": {
        "id": "D7lBOYbip9fB"
      },
      "source": [
        ""
      ],
      "execution_count": null,
      "outputs": []
    },
    {
      "cell_type": "code",
      "metadata": {
        "colab": {
          "base_uri": "https://localhost:8080/"
        },
        "id": "yGASltjcpMNL",
        "outputId": "cc3018d4-ba8e-464e-b601-60d553a7ea7c"
      },
      "source": [
        "dataframe1.groupby('Embarked')['Fare'].mean()\n"
      ],
      "execution_count": 133,
      "outputs": [
        {
          "output_type": "execute_result",
          "data": {
            "text/plain": [
              "Embarked\n",
              "S    32.204208\n",
              "Name: Fare, dtype: float64"
            ]
          },
          "metadata": {},
          "execution_count": 133
        }
      ]
    },
    {
      "cell_type": "code",
      "metadata": {
        "colab": {
          "base_uri": "https://localhost:8080/"
        },
        "id": "QGnFvthVqfxW",
        "outputId": "78212834-dfcb-4f74-d3e6-d2bc6f78d782"
      },
      "source": [
        "dataframe1[(dataframe1['Survived'] == 1) & (dataframe1['Sex'] == 'male')]['Age'].mean()"
      ],
      "execution_count": 141,
      "outputs": [
        {
          "output_type": "execute_result",
          "data": {
            "text/plain": [
              "27.276021505376345"
            ]
          },
          "metadata": {},
          "execution_count": 141
        }
      ]
    }
  ]
}